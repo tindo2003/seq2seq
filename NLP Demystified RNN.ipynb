{
  "cells": [
    {
      "cell_type": "markdown",
      "metadata": {
        "id": "KmEyadzTtGxY"
      },
      "source": [
        "# Natural Language Processing Demystified | Recurrent Neural Networks\n",
        "https://nlpdemystified.org<br>\n",
        "https://github.com/futuremojo/nlp-demystified<br><br>\n",
        "\n",
        "\n",
        "Course module for this demo: https://www.nlpdemystified.org/course/recurrent-neural-networks"
      ]
    },
    {
      "cell_type": "markdown",
      "metadata": {
        "id": "91LZr9ogtHi_"
      },
      "source": [
        "**IMPORTANT**<br>\n",
        "Enable **GPU acceleration** by going to *Runtime > Change Runtime Type*. Keep in mind that, on certain tiers, you're not guaranteed GPU access depending on usage history and current load.\n",
        "<br><br>\n",
        "Also, if you're running this in the cloud rather than a local Jupyter server on your machine, then the notebook will *timeout* after a period of inactivity.\n",
        "<br><br>\n",
        "Refer to this link on how to run Colab notebooks locally on your machine to avoid this issue:<br>\n",
        "https://research.google.com/colaboratory/local-runtimes.html"
      ]
    },
    {
      "cell_type": "code",
      "execution_count": 2,
      "metadata": {
        "id": "GmJ9N1blcHXP"
      },
      "outputs": [],
      "source": [
        "import nltk\n",
        "import numpy as np\n",
        "import requests\n",
        "import tensorflow as tf\n",
        "\n",
        "from tensorflow import keras\n",
        "from tensorflow.keras import layers\n",
        "from tensorflow.keras.callbacks import ModelCheckpoint\n",
        "from nltk.corpus import treebank, brown, conll2000\n",
        "from sklearn.model_selection import train_test_split\n",
        "from tensorflow import keras"
      ]
    },
    {
      "cell_type": "markdown",
      "metadata": {
        "id": "PVbpx-8_tSrD"
      },
      "source": [
        "# Part-of-Speech Tagging with a Bidirectional LSTM"
      ]
    },
    {
      "cell_type": "markdown",
      "metadata": {
        "id": "1LVEGU9cta45"
      },
      "source": [
        "It's difficult to find free sequence labelling datasets because they're so labour-intensive to create.\n",
        "<br><br>\n",
        "Fortunately, **Natural Language Toolkit (NLTK)** includes enough free sets of labelled corpora for our purposes. NLTK also provides them in a convenient uniform format.<br>\n",
        "https://www.nltk.org/index.html<br>\n",
        "https://www.nltk.org/nltk_data/<br>\n",
        "<br>\n",
        "We'll use the Treebank, Brown, and CONLL-2000 datasets."
      ]
    },
    {
      "cell_type": "code",
      "execution_count": 2,
      "metadata": {
        "id": "TawHhQnsENGX"
      },
      "outputs": [
        {
          "name": "stderr",
          "output_type": "stream",
          "text": [
            "[nltk_data] Downloading package treebank to /Users/tindo/nltk_data...\n",
            "[nltk_data]   Package treebank is already up-to-date!\n",
            "[nltk_data] Downloading package brown to /Users/tindo/nltk_data...\n",
            "[nltk_data]   Package brown is already up-to-date!\n",
            "[nltk_data] Downloading package conll2000 to /Users/tindo/nltk_data...\n",
            "[nltk_data]   Package conll2000 is already up-to-date!\n"
          ]
        },
        {
          "data": {
            "text/plain": [
              "True"
            ]
          },
          "execution_count": 2,
          "metadata": {},
          "output_type": "execute_result"
        }
      ],
      "source": [
        "nltk.download('treebank')\n",
        "nltk.download('brown')\n",
        "nltk.download('conll2000')"
      ]
    },
    {
      "cell_type": "markdown",
      "metadata": {
        "id": "W1AMD2ojvtSU"
      },
      "source": [
        "In their original form, the datasets use different part-of-speech (PoS) tag sets. We need to ensure they all use the same tagset, so we'll download a simplified set called the *universal_tagset* from NLTK.<br>\n",
        "\n",
        "See Section 2.3 here for a list of tags: https://www.nltk.org/book/ch05.html"
      ]
    },
    {
      "cell_type": "code",
      "execution_count": 3,
      "metadata": {
        "id": "3Ska6B_5vs0s"
      },
      "outputs": [
        {
          "name": "stderr",
          "output_type": "stream",
          "text": [
            "[nltk_data] Downloading package universal_tagset to\n",
            "[nltk_data]     /Users/tindo/nltk_data...\n",
            "[nltk_data]   Package universal_tagset is already up-to-date!\n"
          ]
        },
        {
          "data": {
            "text/plain": [
              "True"
            ]
          },
          "execution_count": 3,
          "metadata": {},
          "output_type": "execute_result"
        }
      ],
      "source": [
        "nltk.download('universal_tagset')"
      ]
    },
    {
      "cell_type": "markdown",
      "metadata": {
        "id": "yzvREp9EwNld"
      },
      "source": [
        "We'll then retrieve the tagged sentences from each dataset, taking care to specify they should use the *universal tagset* we just downloaded. We'll then combine them into one collection."
      ]
    },
    {
      "cell_type": "code",
      "execution_count": 4,
      "metadata": {
        "id": "srteMIhDEbRS"
      },
      "outputs": [
        {
          "name": "stdout",
          "output_type": "stream",
          "text": [
            "[('Pierre', 'NOUN'), ('Vinken', 'NOUN'), (',', '.'), ('61', 'NUM'), ('years', 'NOUN'), ('old', 'ADJ'), (',', '.'), ('will', 'VERB'), ('join', 'VERB'), ('the', 'DET'), ('board', 'NOUN'), ('as', 'ADP'), ('a', 'DET'), ('nonexecutive', 'ADJ'), ('director', 'NOUN'), ('Nov.', 'NOUN'), ('29', 'NUM'), ('.', '.')]\n",
            "Dataset size: 72202\n"
          ]
        }
      ],
      "source": [
        "# Download all PoS-tagged sentences and place them in one list.\n",
        "tagged_sentences = treebank.tagged_sents(tagset='universal') +\\\n",
        "                  brown.tagged_sents(tagset='universal') +\\\n",
        "                  conll2000.tagged_sents(tagset='universal')\n",
        "\n",
        "print(tagged_sentences[0])\n",
        "print(f\"Dataset size: {len(tagged_sentences)}\")"
      ]
    },
    {
      "cell_type": "markdown",
      "metadata": {
        "id": "vY9upptpw6fi"
      },
      "source": [
        "Each tagged sentence is actually a list of word-tag tuples (bear in mind that NLTK's universal tagset is a reduced tagset so items such as *proper nouns* are simply tagged as *nouns*).<br>\n",
        "\n",
        "Our model is going to take in a sequence of words, and output a sequence of PoS tags, so we need to separate the words from the tags in our dataset. The tag sequences will serve as our training labels."
      ]
    },
    {
      "cell_type": "code",
      "execution_count": 5,
      "metadata": {
        "id": "L7unpKPbNOUE"
      },
      "outputs": [],
      "source": [
        "sentences, sentence_tags = [], []\n",
        "\n",
        "for s in tagged_sentences:\n",
        "  sentence, tags = zip(*s)\n",
        "  sentences.append(list(sentence))\n",
        "  sentence_tags.append(list(tags))"
      ]
    },
    {
      "cell_type": "markdown",
      "metadata": {
        "id": "pzK70wbrH71p"
      },
      "source": [
        "The sentences and their respective tags are now in separate lists."
      ]
    },
    {
      "cell_type": "code",
      "execution_count": 6,
      "metadata": {
        "id": "2Im5-zeiE1jk"
      },
      "outputs": [
        {
          "name": "stdout",
          "output_type": "stream",
          "text": [
            "['Pierre', 'Vinken', ',', '61', 'years', 'old', ',', 'will', 'join', 'the', 'board', 'as', 'a', 'nonexecutive', 'director', 'Nov.', '29', '.']\n",
            "['NOUN', 'NOUN', '.', 'NUM', 'NOUN', 'ADJ', '.', 'VERB', 'VERB', 'DET', 'NOUN', 'ADP', 'DET', 'ADJ', 'NOUN', 'NOUN', 'NUM', '.']\n"
          ]
        }
      ],
      "source": [
        "print(sentences[0])\n",
        "print(sentence_tags[0])"
      ]
    },
    {
      "cell_type": "code",
      "execution_count": 7,
      "metadata": {
        "id": "fyYJQufRi_4l"
      },
      "outputs": [
        {
          "name": "stdout",
          "output_type": "stream",
          "text": [
            "72202 72202\n"
          ]
        }
      ],
      "source": [
        "print(len(sentences), len(sentence_tags))"
      ]
    },
    {
      "cell_type": "markdown",
      "metadata": {
        "id": "sL7Voept0lEi"
      },
      "source": [
        "Create train/validation/test splits. This time, we don't have a separate test set so we'll call *train_test_split* twice.<br>\n",
        "https://scikit-learn.org/stable/modules/generated/sklearn.model_selection.train_test_split.html"
      ]
    },
    {
      "cell_type": "code",
      "execution_count": 8,
      "metadata": {
        "id": "Dqmencun067o"
      },
      "outputs": [],
      "source": [
        "train_ratio = 0.75\n",
        "validation_ratio = 0.15\n",
        "test_ratio = 0.10\n",
        "\n",
        "x_train, x_test, y_train, y_test = train_test_split(sentences, sentence_tags,\n",
        "                                                    test_size=1 - train_ratio,\n",
        "                                                    random_state=1)\n",
        "\n",
        "x_val, x_test, y_val, y_test = train_test_split(x_test, y_test,\n",
        "                                                test_size=test_ratio/(test_ratio + validation_ratio),\n",
        "                                                random_state=1)"
      ]
    },
    {
      "cell_type": "code",
      "execution_count": 9,
      "metadata": {
        "id": "dRPQyAgfR5sm"
      },
      "outputs": [
        {
          "name": "stdout",
          "output_type": "stream",
          "text": [
            "54151 54151\n",
            "10830 10830\n",
            "7221 7221\n"
          ]
        }
      ],
      "source": [
        "print(len(x_train), len(y_train))\n",
        "print(len(x_val), len(y_val))\n",
        "print(len(x_test), len(y_test))"
      ]
    },
    {
      "cell_type": "markdown",
      "metadata": {
        "id": "joyhlIqixpCY"
      },
      "source": [
        "Now that we have our datasets preprocessed, the next step is to vectorize. If you watched the demo on **Word Vectors**, the next few steps should look familiar.<br>\n",
        "https://www.nlpdemystified.org/course/word-vectors<br>\n",
        "https://colab.research.google.com/github/futuremojo/nlp-demystified/blob/main/notebooks/nlpdemystified_word_vectors.ipynb"
      ]
    },
    {
      "cell_type": "markdown",
      "metadata": {
        "id": "kT5VFgpRxlzO"
      },
      "source": [
        "First, we need to create a tokenizer for the sentences and *fit* it to the training dataset to create a vocabulary. We'll just use the default tokenizer settings which applies some light filtering, lowers the case, and separates on spaces. We'll also supply an out-of-vocabulary token (\\<OOV\\>) in case the tokenizer encounters words during testing/inference which it doesn't during training.<br>\n",
        "https://www.tensorflow.org/api_docs/python/tf/keras/preprocessing/text/Tokenizer"
      ]
    },
    {
      "cell_type": "code",
      "execution_count": 10,
      "metadata": {
        "id": "CV1gT-GmOOI9"
      },
      "outputs": [],
      "source": [
        "sentence_tokenizer = keras.preprocessing.text.Tokenizer(oov_token='<OOV>')"
      ]
    },
    {
      "cell_type": "code",
      "execution_count": 11,
      "metadata": {
        "id": "XMmMUDogOPoe"
      },
      "outputs": [
        {
          "data": {
            "text/plain": [
              "{'<OOV>': 1,\n",
              " 'the': 2,\n",
              " ',': 3,\n",
              " '.': 4,\n",
              " 'of': 5,\n",
              " 'and': 6,\n",
              " 'to': 7,\n",
              " 'a': 8,\n",
              " 'in': 9,\n",
              " 'that': 10,\n",
              " 'for': 11,\n",
              " 'is': 12,\n",
              " \"''\": 13,\n",
              " '``': 14,\n",
              " 'was': 15,\n",
              " 'it': 16,\n",
              " 'he': 17,\n",
              " 'as': 18,\n",
              " 'with': 19,\n",
              " 'on': 20,\n",
              " 'be': 21,\n",
              " 'his': 22,\n",
              " 'at': 23,\n",
              " 'by': 24,\n",
              " ';': 25,\n",
              " 'from': 26,\n",
              " 'this': 27,\n",
              " 'are': 28,\n",
              " 'had': 29,\n",
              " 'i': 30,\n",
              " 'but': 31,\n",
              " 'or': 32,\n",
              " 'have': 33,\n",
              " 'not': 34,\n",
              " 'an': 35,\n",
              " '?': 36,\n",
              " 'they': 37,\n",
              " 'which': 38,\n",
              " '--': 39,\n",
              " 'said': 40,\n",
              " 'were': 41,\n",
              " 'one': 42,\n",
              " 'has': 43,\n",
              " 'you': 44,\n",
              " 'would': 45,\n",
              " 'all': 46,\n",
              " 'their': 47,\n",
              " 'will': 48,\n",
              " \"'s\": 49,\n",
              " 'her': 50,\n",
              " 'there': 51,\n",
              " 'we': 52,\n",
              " 'its': 53,\n",
              " 'she': 54,\n",
              " 'been': 55,\n",
              " 'more': 56,\n",
              " 'who': 57,\n",
              " '$': 58,\n",
              " 'when': 59,\n",
              " 'him': 60,\n",
              " 'if': 61,\n",
              " 'new': 62,\n",
              " 'about': 63,\n",
              " 'up': 64,\n",
              " 'out': 65,\n",
              " ')': 66,\n",
              " '(': 67,\n",
              " 'no': 68,\n",
              " 'than': 69,\n",
              " 'other': 70,\n",
              " 'so': 71,\n",
              " ':': 72,\n",
              " 'mr.': 73,\n",
              " 'some': 74,\n",
              " 'into': 75,\n",
              " 'what': 76,\n",
              " 'can': 77,\n",
              " 'only': 78,\n",
              " 'could': 79,\n",
              " 'them': 80,\n",
              " '%': 81,\n",
              " 'time': 82,\n",
              " 'million': 83,\n",
              " 'two': 84,\n",
              " 'these': 85,\n",
              " 'may': 86,\n",
              " 'first': 87,\n",
              " 'any': 88,\n",
              " 'do': 89,\n",
              " 'such': 90,\n",
              " 'also': 91,\n",
              " '!': 92,\n",
              " 'now': 93,\n",
              " 'over': 94,\n",
              " 'like': 95,\n",
              " 'then': 96,\n",
              " 'most': 97,\n",
              " 'after': 98,\n",
              " 'year': 99,\n",
              " 'my': 100,\n",
              " 'even': 101,\n",
              " 'our': 102,\n",
              " 'years': 103,\n",
              " 'many': 104,\n",
              " 'made': 105,\n",
              " 'because': 106,\n",
              " 'did': 107,\n",
              " 'man': 108,\n",
              " 'me': 109,\n",
              " 'before': 110,\n",
              " \"n't\": 111,\n",
              " 'much': 112,\n",
              " 'company': 113,\n",
              " 'through': 114,\n",
              " 'down': 115,\n",
              " '0': 116,\n",
              " 'people': 117,\n",
              " '*-1': 118,\n",
              " 'back': 119,\n",
              " 'those': 120,\n",
              " 'last': 121,\n",
              " 'way': 122,\n",
              " 'just': 123,\n",
              " 'must': 124,\n",
              " 'state': 125,\n",
              " 'each': 126,\n",
              " 'should': 127,\n",
              " 'well': 128,\n",
              " 'where': 129,\n",
              " 'your': 130,\n",
              " 'make': 131,\n",
              " 'still': 132,\n",
              " '*': 133,\n",
              " 'says': 134,\n",
              " 'how': 135,\n",
              " 'af': 136,\n",
              " 'little': 137,\n",
              " 'while': 138,\n",
              " 'own': 139,\n",
              " 'get': 140,\n",
              " 'world': 141,\n",
              " 'between': 142,\n",
              " 'work': 143,\n",
              " 'too': 144,\n",
              " 'both': 145,\n",
              " 'very': 146,\n",
              " 'good': 147,\n",
              " 'under': 148,\n",
              " 'here': 149,\n",
              " 'see': 150,\n",
              " 'off': 151,\n",
              " 'since': 152,\n",
              " 'life': 153,\n",
              " 'long': 154,\n",
              " 'being': 155,\n",
              " 'another': 156,\n",
              " 'president': 157,\n",
              " 'market': 158,\n",
              " 'house': 159,\n",
              " 'u.s.': 160,\n",
              " 'same': 161,\n",
              " 'might': 162,\n",
              " '*t*-1': 163,\n",
              " 'men': 164,\n",
              " 'take': 165,\n",
              " 'day': 166,\n",
              " 'three': 167,\n",
              " 'never': 168,\n",
              " 'american': 169,\n",
              " 'us': 170,\n",
              " 'against': 171,\n",
              " 'business': 172,\n",
              " 'say': 173,\n",
              " 'old': 174,\n",
              " 'go': 175,\n",
              " 'used': 176,\n",
              " 'stock': 177,\n",
              " '1': 178,\n",
              " 'during': 179,\n",
              " 'know': 180,\n",
              " 'government': 181,\n",
              " 'few': 182,\n",
              " 'great': 183,\n",
              " '*u*': 184,\n",
              " 'without': 185,\n",
              " 'use': 186,\n",
              " 'came': 187,\n",
              " 'right': 188,\n",
              " 'group': 189,\n",
              " 'come': 190,\n",
              " 'share': 191,\n",
              " 'however': 192,\n",
              " 'billion': 193,\n",
              " 'general': 194,\n",
              " 'does': 195,\n",
              " 'small': 196,\n",
              " 'around': 197,\n",
              " 'home': 198,\n",
              " 'york': 199,\n",
              " 'part': 200,\n",
              " 'high': 201,\n",
              " 'program': 202,\n",
              " 'himself': 203,\n",
              " 'again': 204,\n",
              " 'place': 205,\n",
              " 'states': 206,\n",
              " 'next': 207,\n",
              " 'once': 208,\n",
              " 'found': 209,\n",
              " 'mrs.': 210,\n",
              " \"'\": 211,\n",
              " 'number': 212,\n",
              " 'less': 213,\n",
              " 'big': 214,\n",
              " 'interest': 215,\n",
              " '2': 216,\n",
              " 'federal': 217,\n",
              " 'national': 218,\n",
              " 'school': 219,\n",
              " 'until': 220,\n",
              " 'put': 221,\n",
              " 'thought': 222,\n",
              " 'week': 223,\n",
              " 'far': 224,\n",
              " 'got': 225,\n",
              " 'every': 226,\n",
              " 'think': 227,\n",
              " 'end': 228,\n",
              " 'though': 229,\n",
              " 'went': 230,\n",
              " 'point': 231,\n",
              " 'days': 232,\n",
              " 'public': 233,\n",
              " 'sales': 234,\n",
              " 'among': 235,\n",
              " 'left': 236,\n",
              " 'system': 237,\n",
              " 'away': 238,\n",
              " 'yet': 239,\n",
              " '&': 240,\n",
              " 'united': 241,\n",
              " 'several': 242,\n",
              " 'course': 243,\n",
              " 'something': 244,\n",
              " 'enough': 245,\n",
              " 'money': 246,\n",
              " 'war': 247,\n",
              " 'always': 248,\n",
              " 'going': 249,\n",
              " 'set': 250,\n",
              " 'fact': 251,\n",
              " 'second': 252,\n",
              " 'took': 253,\n",
              " 'upon': 254,\n",
              " 'almost': 255,\n",
              " 'city': 256,\n",
              " 'called': 257,\n",
              " 'night': 258,\n",
              " 'water': 259,\n",
              " 'early': 260,\n",
              " \"don't\": 261,\n",
              " 'head': 262,\n",
              " 'told': 263,\n",
              " 'better': 264,\n",
              " 'john': 265,\n",
              " 'hand': 266,\n",
              " 'nothing': 267,\n",
              " 'later': 268,\n",
              " 'large': 269,\n",
              " 'major': 270,\n",
              " 'service': 271,\n",
              " 'order': 272,\n",
              " 'trading': 273,\n",
              " 'board': 274,\n",
              " 'face': 275,\n",
              " 'possible': 276,\n",
              " 'corp.': 277,\n",
              " 'look': 278,\n",
              " 'power': 279,\n",
              " 'case': 280,\n",
              " 'give': 281,\n",
              " 'four': 282,\n",
              " 'find': 283,\n",
              " 'help': 284,\n",
              " 'young': 285,\n",
              " 'area': 286,\n",
              " 'asked': 287,\n",
              " 'white': 288,\n",
              " 'side': 289,\n",
              " 'become': 290,\n",
              " 'why': 291,\n",
              " 'important': 292,\n",
              " 'inc.': 293,\n",
              " 'social': 294,\n",
              " 'least': 295,\n",
              " 'need': 296,\n",
              " 'want': 297,\n",
              " 'country': 298,\n",
              " '-rrb-': 299,\n",
              " 'given': 300,\n",
              " 'room': 301,\n",
              " 'form': 302,\n",
              " 'eyes': 303,\n",
              " \"didn't\": 304,\n",
              " 'rather': 305,\n",
              " 'along': 306,\n",
              " 'let': 307,\n",
              " 'toward': 308,\n",
              " 'often': 309,\n",
              " 'shares': 310,\n",
              " 'past': 311,\n",
              " 'knew': 312,\n",
              " 'within': 313,\n",
              " 'family': 314,\n",
              " 'line': 315,\n",
              " 'months': 316,\n",
              " '-lrb-': 317,\n",
              " 'rose': 318,\n",
              " 'although': 319,\n",
              " 'development': 320,\n",
              " 'rate': 321,\n",
              " 'law': 322,\n",
              " 'price': 323,\n",
              " 'things': 324,\n",
              " 'five': 325,\n",
              " 'today': 326,\n",
              " 'members': 327,\n",
              " 'problem': 328,\n",
              " 'began': 329,\n",
              " 'per': 330,\n",
              " 'example': 331,\n",
              " 'certain': 332,\n",
              " 'plan': 333,\n",
              " 'best': 334,\n",
              " 'times': 335,\n",
              " 'children': 336,\n",
              " 'present': 337,\n",
              " 'different': 338,\n",
              " 'half': 339,\n",
              " 'felt': 340,\n",
              " 'ago': 341,\n",
              " '*-2': 342,\n",
              " '3': 343,\n",
              " 'already': 344,\n",
              " 'information': 345,\n",
              " 'period': 346,\n",
              " 'economic': 347,\n",
              " 'earlier': 348,\n",
              " 'whether': 349,\n",
              " 'church': 350,\n",
              " 'bank': 351,\n",
              " 'thing': 352,\n",
              " 'yesterday': 353,\n",
              " 'ever': 354,\n",
              " 'court': 355,\n",
              " 'companies': 356,\n",
              " 'department': 357,\n",
              " 'saw': 358,\n",
              " 'street': 359,\n",
              " 'expected': 360,\n",
              " 'others': 361,\n",
              " 'open': 362,\n",
              " 'office': 363,\n",
              " 'held': 364,\n",
              " 'local': 365,\n",
              " 'looked': 366,\n",
              " 'light': 367,\n",
              " 'seemed': 368,\n",
              " 'kind': 369,\n",
              " 'above': 370,\n",
              " 'action': 371,\n",
              " '10': 372,\n",
              " 'exchange': 373,\n",
              " 'increase': 374,\n",
              " 'investors': 375,\n",
              " 'chief': 376,\n",
              " 'keep': 377,\n",
              " 'tax': 378,\n",
              " 'itself': 379,\n",
              " '*t*-2': 380,\n",
              " 'turned': 381,\n",
              " 'problems': 382,\n",
              " 'co.': 383,\n",
              " 'means': 384,\n",
              " 'policy': 385,\n",
              " 'real': 386,\n",
              " 'recent': 387,\n",
              " 'political': 388,\n",
              " 'car': 389,\n",
              " 'air': 390,\n",
              " 'show': 391,\n",
              " 'investment': 392,\n",
              " 'common': 393,\n",
              " 'industry': 394,\n",
              " 'mind': 395,\n",
              " 'cents': 396,\n",
              " 'quarter': 397,\n",
              " 'door': 398,\n",
              " 'perhaps': 399,\n",
              " 'cost': 400,\n",
              " 'prices': 401,\n",
              " 'sense': 402,\n",
              " 'whole': 403,\n",
              " 'special': 404,\n",
              " 'name': 405,\n",
              " 'close': 406,\n",
              " 'having': 407,\n",
              " 'done': 408,\n",
              " 'west': 409,\n",
              " 'result': 410,\n",
              " 'matter': 411,\n",
              " 'either': 412,\n",
              " 'history': 413,\n",
              " 'higher': 414,\n",
              " 'free': 415,\n",
              " 'across': 416,\n",
              " 'probably': 417,\n",
              " 'change': 418,\n",
              " 'south': 419,\n",
              " 'international': 420,\n",
              " 'added': 421,\n",
              " 'really': 422,\n",
              " 'hands': 423,\n",
              " 'position': 424,\n",
              " 'costs': 425,\n",
              " 'gave': 426,\n",
              " 'human': 427,\n",
              " 'making': 428,\n",
              " 'pay': 429,\n",
              " 'act': 430,\n",
              " 'financial': 431,\n",
              " 'thus': 432,\n",
              " 'available': 433,\n",
              " 'taken': 434,\n",
              " \"it's\": 435,\n",
              " 'themselves': 436,\n",
              " 'force': 437,\n",
              " 'control': 438,\n",
              " 'god': 439,\n",
              " 'third': 440,\n",
              " 'death': 441,\n",
              " 'level': 442,\n",
              " 'congress': 443,\n",
              " 'strong': 444,\n",
              " 'report': 445,\n",
              " 'rates': 446,\n",
              " 'union': 447,\n",
              " 'question': 448,\n",
              " 'administration': 449,\n",
              " 'including': 450,\n",
              " 'whose': 451,\n",
              " 'sure': 452,\n",
              " 'month': 453,\n",
              " 'total': 454,\n",
              " 'together': 455,\n",
              " 'further': 456,\n",
              " 'earnings': 457,\n",
              " 'late': 458,\n",
              " 'income': 459,\n",
              " 'six': 460,\n",
              " 'experience': 461,\n",
              " 'seems': 462,\n",
              " 'seen': 463,\n",
              " 'bonds': 464,\n",
              " 'feet': 465,\n",
              " 'net': 466,\n",
              " 'quite': 467,\n",
              " 'stocks': 468,\n",
              " 'funds': 469,\n",
              " 'full': 470,\n",
              " 'behind': 471,\n",
              " 'chairman': 472,\n",
              " 'able': 473,\n",
              " 'america': 474,\n",
              " 'field': 475,\n",
              " 'following': 476,\n",
              " 'individual': 477,\n",
              " 'known': 478,\n",
              " 'due': 479,\n",
              " 'issue': 480,\n",
              " 'words': 481,\n",
              " 'university': 482,\n",
              " 'average': 483,\n",
              " 'reported': 484,\n",
              " 'fell': 485,\n",
              " 'growth': 486,\n",
              " 'according': 487,\n",
              " 'college': 488,\n",
              " 'future': 489,\n",
              " 'study': 490,\n",
              " 'word': 491,\n",
              " 'research': 492,\n",
              " 'return': 493,\n",
              " 'tell': 494,\n",
              " 'lower': 495,\n",
              " 'body': 496,\n",
              " 'became': 497,\n",
              " 'shall': 498,\n",
              " 'community': 499,\n",
              " 'index': 500,\n",
              " 'bill': 501,\n",
              " 'brought': 502,\n",
              " 'trade': 503,\n",
              " 'military': 504,\n",
              " 'turn': 505,\n",
              " 'party': 506,\n",
              " 'short': 507,\n",
              " 'job': 508,\n",
              " 'increased': 509,\n",
              " 'officials': 510,\n",
              " 'executive': 511,\n",
              " 'plans': 512,\n",
              " 'provide': 513,\n",
              " 'value': 514,\n",
              " 'anything': 515,\n",
              " 'society': 516,\n",
              " 'support': 517,\n",
              " 'age': 518,\n",
              " 'top': 519,\n",
              " 'products': 520,\n",
              " '15': 521,\n",
              " 'areas': 522,\n",
              " 'foreign': 523,\n",
              " 'run': 524,\n",
              " 'moment': 525,\n",
              " 'washington': 526,\n",
              " 'miss': 527,\n",
              " 'results': 528,\n",
              " 'wanted': 529,\n",
              " 'wall': 530,\n",
              " '30': 531,\n",
              " 'seem': 532,\n",
              " 'lines': 533,\n",
              " 'east': 534,\n",
              " 'heard': 535,\n",
              " 'effect': 536,\n",
              " 'building': 537,\n",
              " '4': 538,\n",
              " 'cut': 539,\n",
              " 'clear': 540,\n",
              " 'move': 541,\n",
              " 'securities': 542,\n",
              " 'data': 543,\n",
              " 'sometimes': 544,\n",
              " 'reason': 545,\n",
              " 'outside': 546,\n",
              " 'true': 547,\n",
              " 'believe': 548,\n",
              " 'personal': 549,\n",
              " 'unit': 550,\n",
              " 'center': 551,\n",
              " 'call': 552,\n",
              " 'buy': 553,\n",
              " 'land': 554,\n",
              " 'voice': 555,\n",
              " 'feel': 556,\n",
              " \"i'm\": 557,\n",
              " 'private': 558,\n",
              " 'wife': 559,\n",
              " 'front': 560,\n",
              " 'capital': 561,\n",
              " 'firm': 562,\n",
              " 'pressure': 563,\n",
              " 'boy': 564,\n",
              " 'cannot': 565,\n",
              " 'usually': 566,\n",
              " 'services': 567,\n",
              " 'woman': 568,\n",
              " 'paper': 569,\n",
              " 'points': 570,\n",
              " 'production': 571,\n",
              " 'black': 572,\n",
              " 'closed': 573,\n",
              " 'committee': 574,\n",
              " 'equipment': 575,\n",
              " 'town': 576,\n",
              " 'hard': 577,\n",
              " 'likely': 578,\n",
              " 'evidence': 579,\n",
              " 'soon': 580,\n",
              " 'morning': 581,\n",
              " 'figure': 582,\n",
              " 'situation': 583,\n",
              " 'current': 584,\n",
              " 'terms': 585,\n",
              " 'based': 586,\n",
              " 'idea': 587,\n",
              " 'near': 588,\n",
              " 'child': 589,\n",
              " 'north': 590,\n",
              " 'association': 591,\n",
              " 'meeting': 592,\n",
              " '8': 593,\n",
              " 'am': 594,\n",
              " 'addition': 595,\n",
              " 'amount': 596,\n",
              " 'longer': 597,\n",
              " 'women': 598,\n",
              " 'students': 599,\n",
              " 'operations': 600,\n",
              " 'british': 601,\n",
              " 'stood': 602,\n",
              " 'low': 603,\n",
              " 'girl': 604,\n",
              " 'necessary': 605,\n",
              " 'profit': 606,\n",
              " 'news': 607,\n",
              " 'process': 608,\n",
              " 'space': 609,\n",
              " 'secretary': 610,\n",
              " 'lost': 611,\n",
              " 'education': 612,\n",
              " 'art': 613,\n",
              " 'received': 614,\n",
              " 'class': 615,\n",
              " 'central': 616,\n",
              " 'needed': 617,\n",
              " 'trying': 618,\n",
              " 'getting': 619,\n",
              " 'mother': 620,\n",
              " 'view': 621,\n",
              " 'programs': 622,\n",
              " 'management': 623,\n",
              " 'section': 624,\n",
              " 'century': 625,\n",
              " 'officer': 626,\n",
              " 'type': 627,\n",
              " 'coming': 628,\n",
              " 'nearly': 629,\n",
              " 'director': 630,\n",
              " 'makes': 631,\n",
              " 'issues': 632,\n",
              " 'leave': 633,\n",
              " 'defense': 634,\n",
              " 'book': 635,\n",
              " 'dr.': 636,\n",
              " 'instead': 637,\n",
              " 'sell': 638,\n",
              " 'nature': 639,\n",
              " '50': 640,\n",
              " 'music': 641,\n",
              " 'nation': 642,\n",
              " 'industrial': 643,\n",
              " 'mean': 644,\n",
              " 'nor': 645,\n",
              " 'lot': 646,\n",
              " 'fiscal': 647,\n",
              " 'taking': 648,\n",
              " 'peace': 649,\n",
              " 'kept': 650,\n",
              " 'revenue': 651,\n",
              " 'reached': 652,\n",
              " 'conditions': 653,\n",
              " 'therefore': 654,\n",
              " 'living': 655,\n",
              " 'volume': 656,\n",
              " 'love': 657,\n",
              " 'offer': 658,\n",
              " 'play': 659,\n",
              " 'paid': 660,\n",
              " 'plant': 661,\n",
              " 'former': 662,\n",
              " 'food': 663,\n",
              " 'hours': 664,\n",
              " 'moved': 665,\n",
              " 'medical': 666,\n",
              " 'below': 667,\n",
              " 'red': 668,\n",
              " 'loss': 669,\n",
              " 'basis': 670,\n",
              " 'cases': 671,\n",
              " 'alone': 672,\n",
              " 'various': 673,\n",
              " 'greater': 674,\n",
              " '5': 675,\n",
              " 'minutes': 676,\n",
              " 'started': 677,\n",
              " 'nations': 678,\n",
              " 'california': 679,\n",
              " 'san': 680,\n",
              " 'modern': 681,\n",
              " 'additional': 682,\n",
              " 'weeks': 683,\n",
              " 'insurance': 684,\n",
              " 'required': 685,\n",
              " 'gone': 686,\n",
              " 'particularly': 687,\n",
              " 'english': 688,\n",
              " 'sound': 689,\n",
              " 'road': 690,\n",
              " 'ground': 691,\n",
              " 'person': 692,\n",
              " 'fine': 693,\n",
              " 'floor': 694,\n",
              " 'countries': 695,\n",
              " 'except': 696,\n",
              " 'table': 697,\n",
              " 'fire': 698,\n",
              " 'soviet': 699,\n",
              " 'systems': 700,\n",
              " 'william': 701,\n",
              " 'range': 702,\n",
              " 'looking': 703,\n",
              " 'read': 704,\n",
              " 'recently': 705,\n",
              " 'complete': 706,\n",
              " 'particular': 707,\n",
              " 'similar': 708,\n",
              " 'natural': 709,\n",
              " 'western': 710,\n",
              " 'difficult': 711,\n",
              " 'deal': 712,\n",
              " 'forces': 713,\n",
              " 'rest': 714,\n",
              " 'material': 715,\n",
              " 'schools': 716,\n",
              " 'values': 717,\n",
              " 'charge': 718,\n",
              " 'finally': 719,\n",
              " '20': 720,\n",
              " 'doing': 721,\n",
              " 'especially': 722,\n",
              " 'fall': 723,\n",
              " 'continued': 724,\n",
              " 'care': 725,\n",
              " 'series': 726,\n",
              " 'record': 727,\n",
              " 'actually': 728,\n",
              " 'operating': 729,\n",
              " '100': 730,\n",
              " 'beyond': 731,\n",
              " 'surface': 732,\n",
              " 'district': 733,\n",
              " 'sort': 734,\n",
              " 'talk': 735,\n",
              " 'markets': 736,\n",
              " 'hold': 737,\n",
              " 'aid': 738,\n",
              " 'sent': 739,\n",
              " 'beginning': 740,\n",
              " 'changes': 741,\n",
              " 'live': 742,\n",
              " '12': 743,\n",
              " 'dead': 744,\n",
              " 'else': 745,\n",
              " 'father': 746,\n",
              " 'start': 747,\n",
              " 'include': 748,\n",
              " 'heart': 749,\n",
              " 'letter': 750,\n",
              " 'single': 751,\n",
              " 'followed': 752,\n",
              " 'basic': 753,\n",
              " 'attention': 754,\n",
              " 'property': 755,\n",
              " 'working': 756,\n",
              " 'subject': 757,\n",
              " 'simply': 758,\n",
              " 'using': 759,\n",
              " 'brown': 760,\n",
              " \"that's\": 761,\n",
              " 'wrote': 762,\n",
              " 'indeed': 763,\n",
              " 'dark': 764,\n",
              " 'japanese': 765,\n",
              " 'concern': 766,\n",
              " 'tried': 767,\n",
              " 'everything': 768,\n",
              " 'test': 769,\n",
              " 'effort': 770,\n",
              " 'rise': 771,\n",
              " 'tuesday': 772,\n",
              " 'considered': 773,\n",
              " 'treasury': 774,\n",
              " 'miles': 775,\n",
              " 'story': 776,\n",
              " 'banks': 777,\n",
              " 'england': 778,\n",
              " 'sold': 779,\n",
              " 'continue': 780,\n",
              " 'friends': 781,\n",
              " 'chicago': 782,\n",
              " \"i'll\": 783,\n",
              " 'bring': 784,\n",
              " 'groups': 785,\n",
              " 'health': 786,\n",
              " 'gain': 787,\n",
              " 'island': 788,\n",
              " 'hope': 789,\n",
              " 'decision': 790,\n",
              " 'analysts': 791,\n",
              " 'police': 792,\n",
              " 'showed': 793,\n",
              " 'involved': 794,\n",
              " 'agreement': 795,\n",
              " 'feeling': 796,\n",
              " 'demand': 797,\n",
              " 'passed': 798,\n",
              " 'river': 799,\n",
              " 'size': 800,\n",
              " 'fund': 801,\n",
              " 'sale': 802,\n",
              " 'spirit': 803,\n",
              " 'despite': 804,\n",
              " 'expect': 805,\n",
              " 'member': 806,\n",
              " 'hundred': 807,\n",
              " 'dropped': 808,\n",
              " '25': 809,\n",
              " 'difference': 810,\n",
              " 'london': 811,\n",
              " 'comes': 812,\n",
              " 'workers': 813,\n",
              " 'try': 814,\n",
              " 'inside': 815,\n",
              " 'lead': 816,\n",
              " 'statement': 817,\n",
              " 'questions': 818,\n",
              " 'county': 819,\n",
              " 'oil': 820,\n",
              " 'construction': 821,\n",
              " 'st.': 822,\n",
              " 'commission': 823,\n",
              " 'meet': 824,\n",
              " 'decided': 825,\n",
              " 'yield': 826,\n",
              " 'son': 827,\n",
              " 'annual': 828,\n",
              " 'cold': 829,\n",
              " 'vice': 830,\n",
              " 'stage': 831,\n",
              " 'james': 832,\n",
              " 'cash': 833,\n",
              " 'developed': 834,\n",
              " 'ended': 835,\n",
              " 'shown': 836,\n",
              " 'certainly': 837,\n",
              " 'contract': 838,\n",
              " 'dollars': 839,\n",
              " 'simple': 840,\n",
              " \"couldn't\": 841,\n",
              " 'japan': 842,\n",
              " 'friday': 843,\n",
              " 'traders': 844,\n",
              " 'happened': 845,\n",
              " 'efforts': 846,\n",
              " 'fear': 847,\n",
              " 'previous': 848,\n",
              " 'led': 849,\n",
              " 'neither': 850,\n",
              " 'bad': 851,\n",
              " 'september': 852,\n",
              " 'performance': 853,\n",
              " 'j.': 854,\n",
              " 'growing': 855,\n",
              " 'hear': 856,\n",
              " 'daily': 857,\n",
              " '6': 858,\n",
              " 'included': 859,\n",
              " 'entire': 860,\n",
              " '1988': 861,\n",
              " '1960': 862,\n",
              " 'training': 863,\n",
              " 'figures': 864,\n",
              " 'hour': 865,\n",
              " 'march': 866,\n",
              " 'limited': 867,\n",
              " 'division': 868,\n",
              " 'economy': 869,\n",
              " 'activity': 870,\n",
              " 'standard': 871,\n",
              " 'agency': 872,\n",
              " 'summer': 873,\n",
              " 'final': 874,\n",
              " 'stand': 875,\n",
              " 'works': 876,\n",
              " 'orders': 877,\n",
              " 'met': 878,\n",
              " 'account': 879,\n",
              " 'opened': 880,\n",
              " 'needs': 881,\n",
              " 'generally': 882,\n",
              " 'cause': 883,\n",
              " 'agreed': 884,\n",
              " 'labor': 885,\n",
              " 'strength': 886,\n",
              " 'consider': 887,\n",
              " 'cent': 888,\n",
              " 'apparently': 889,\n",
              " 'appeared': 890,\n",
              " 'whom': 891,\n",
              " 'couple': 892,\n",
              " 'trouble': 893,\n",
              " 'directly': 894,\n",
              " 'ways': 895,\n",
              " 'earth': 896,\n",
              " 'cars': 897,\n",
              " 'offered': 898,\n",
              " 'population': 899,\n",
              " 'computer': 900,\n",
              " 'monday': 901,\n",
              " 'organization': 902,\n",
              " 'ready': 903,\n",
              " \"can't\": 904,\n",
              " 'chance': 905,\n",
              " 'compared': 906,\n",
              " 'throughout': 907,\n",
              " 'provided': 908,\n",
              " 'concerned': 909,\n",
              " 'nine': 910,\n",
              " 'written': 911,\n",
              " 'thinking': 912,\n",
              " 'walked': 913,\n",
              " 'energy': 914,\n",
              " 'product': 915,\n",
              " 'europe': 916,\n",
              " 'anyone': 917,\n",
              " 'list': 918,\n",
              " 'club': 919,\n",
              " 'heavy': 920,\n",
              " 'opportunity': 921,\n",
              " 'knowledge': 922,\n",
              " 'ideas': 923,\n",
              " 'merely': 924,\n",
              " 'southern': 925,\n",
              " 'french': 926,\n",
              " 'blue': 927,\n",
              " 'hit': 928,\n",
              " 'religious': 929,\n",
              " 'seven': 930,\n",
              " 'noted': 931,\n",
              " 'running': 932,\n",
              " 'notes': 933,\n",
              " 'reading': 934,\n",
              " 'poor': 935,\n",
              " 'ran': 936,\n",
              " 'game': 937,\n",
              " 'ten': 938,\n",
              " 'purpose': 939,\n",
              " 'debt': 940,\n",
              " 'treatment': 941,\n",
              " 'easy': 942,\n",
              " 'method': 943,\n",
              " 'francisco': 944,\n",
              " 'press': 945,\n",
              " 'temperature': 946,\n",
              " 'answer': 947,\n",
              " 'direct': 948,\n",
              " 'main': 949,\n",
              " 'democratic': 950,\n",
              " 'color': 951,\n",
              " 'george': 952,\n",
              " 'estimated': 953,\n",
              " 'security': 954,\n",
              " 'institutions': 955,\n",
              " 'changed': 956,\n",
              " 'factors': 957,\n",
              " 'wrong': 958,\n",
              " 'army': 959,\n",
              " 'role': 960,\n",
              " 'immediately': 961,\n",
              " 'note': 962,\n",
              " 'hair': 963,\n",
              " 'june': 964,\n",
              " 'clearly': 965,\n",
              " 'trial': 966,\n",
              " 'related': 967,\n",
              " 'loans': 968,\n",
              " 'approach': 969,\n",
              " 'bid': 970,\n",
              " 'leaders': 971,\n",
              " 'judge': 972,\n",
              " 'bush': 973,\n",
              " 'christian': 974,\n",
              " 'influence': 975,\n",
              " 'carried': 976,\n",
              " 'employees': 977,\n",
              " 'senate': 978,\n",
              " \"wasn't\": 979,\n",
              " 'indicated': 980,\n",
              " 'manager': 981,\n",
              " 'worked': 982,\n",
              " 'planning': 983,\n",
              " 'theory': 984,\n",
              " 'proposed': 985,\n",
              " '9': 986,\n",
              " 'kennedy': 987,\n",
              " 'step': 988,\n",
              " 'saying': 989,\n",
              " 'ones': 990,\n",
              " 'numbers': 991,\n",
              " 'beautiful': 992,\n",
              " 'remember': 993,\n",
              " 'a.': 994,\n",
              " 'staff': 995,\n",
              " 'hall': 996,\n",
              " 'responsibility': 997,\n",
              " 'named': 998,\n",
              " 'hotel': 999,\n",
              " 'robert': 1000,\n",
              " ...}"
            ]
          },
          "execution_count": 11,
          "metadata": {},
          "output_type": "execute_result"
        }
      ],
      "source": [
        "sentence_tokenizer.fit_on_texts(x_train)\n",
        "sentence_tokenizer.word_index"
      ]
    },
    {
      "cell_type": "code",
      "execution_count": 12,
      "metadata": {
        "id": "ziy90iSwORAX"
      },
      "outputs": [
        {
          "name": "stdout",
          "output_type": "stream",
          "text": [
            "Vocabulary size: 52041\n"
          ]
        }
      ],
      "source": [
        "print(f\"Vocabulary size: {len(sentence_tokenizer.word_index)}\")"
      ]
    },
    {
      "cell_type": "markdown",
      "metadata": {
        "id": "5icc4yz_yWRD"
      },
      "source": [
        "We also need to create *another* tokenizer for the tags since our labels are also sequences. This time, we won't need an OOV token because there are only a handful of tags and, in this case, they'll all be encountered during training."
      ]
    },
    {
      "cell_type": "code",
      "execution_count": 13,
      "metadata": {
        "id": "3H571o7bOSQ2"
      },
      "outputs": [],
      "source": [
        "tag_tokenizer = keras.preprocessing.text.Tokenizer()\n",
        "tag_tokenizer.fit_on_texts(y_train)"
      ]
    },
    {
      "cell_type": "code",
      "execution_count": 14,
      "metadata": {
        "id": "9fDtT7_YOhoA"
      },
      "outputs": [
        {
          "name": "stdout",
          "output_type": "stream",
          "text": [
            "Number of PoS tags: 12\n",
            "\n"
          ]
        },
        {
          "data": {
            "text/plain": [
              "{'num_words': None,\n",
              " 'filters': '!\"#$%&()*+,-./:;<=>?@[\\\\]^_`{|}~\\t\\n',\n",
              " 'lower': True,\n",
              " 'split': ' ',\n",
              " 'char_level': False,\n",
              " 'oov_token': None,\n",
              " 'document_count': 54151,\n",
              " 'word_counts': '{\"det\": 126968, \"verb\": 174593, \"adj\": 80523, \"adp\": 136453, \"noun\": 286676, \"adv\": 51205, \".\": 142935, \"pron\": 44684, \"conj\": 35060, \"num\": 21461, \"prt\": 31229, \"x\": 6090}',\n",
              " 'word_docs': '{\".\": 53332, \"verb\": 50837, \"adp\": 43855, \"noun\": 51171, \"adj\": 36344, \"adv\": 29531, \"det\": 44747, \"conj\": 24383, \"pron\": 26965, \"num\": 11964, \"prt\": 21777, \"x\": 2682}',\n",
              " 'index_docs': '{\"3\": 53332, \"2\": 50837, \"4\": 43855, \"1\": 51171, \"6\": 36344, \"7\": 29531, \"5\": 44747, \"9\": 24383, \"8\": 26965, \"11\": 11964, \"10\": 21777, \"12\": 2682}',\n",
              " 'index_word': '{\"1\": \"noun\", \"2\": \"verb\", \"3\": \".\", \"4\": \"adp\", \"5\": \"det\", \"6\": \"adj\", \"7\": \"adv\", \"8\": \"pron\", \"9\": \"conj\", \"10\": \"prt\", \"11\": \"num\", \"12\": \"x\"}',\n",
              " 'word_index': '{\"noun\": 1, \"verb\": 2, \".\": 3, \"adp\": 4, \"det\": 5, \"adj\": 6, \"adv\": 7, \"pron\": 8, \"conj\": 9, \"prt\": 10, \"num\": 11, \"x\": 12}'}"
            ]
          },
          "execution_count": 14,
          "metadata": {},
          "output_type": "execute_result"
        }
      ],
      "source": [
        "print(f\"Number of PoS tags: {len(tag_tokenizer.word_index)}\\n\")\n",
        "tag_tokenizer.get_config()"
      ]
    },
    {
      "cell_type": "code",
      "execution_count": 15,
      "metadata": {
        "id": "YJrIrOwzyddJ"
      },
      "outputs": [
        {
          "data": {
            "text/plain": [
              "{'noun': 1,\n",
              " 'verb': 2,\n",
              " '.': 3,\n",
              " 'adp': 4,\n",
              " 'det': 5,\n",
              " 'adj': 6,\n",
              " 'adv': 7,\n",
              " 'pron': 8,\n",
              " 'conj': 9,\n",
              " 'prt': 10,\n",
              " 'num': 11,\n",
              " 'x': 12}"
            ]
          },
          "execution_count": 15,
          "metadata": {},
          "output_type": "execute_result"
        }
      ],
      "source": [
        "# The set of universal PoS tags.\n",
        "tag_tokenizer.word_index"
      ]
    },
    {
      "cell_type": "markdown",
      "metadata": {
        "id": "OUE5rf_myuGk"
      },
      "source": [
        "Next, we need to vectorize our sentences and corresponding tags. As we did in the demo on [Word Vectors](https://github.com/futuremojo/nlp-demystified/blob/main/notebooks/nlpdemystified_word_vectors.ipynb), we'll use the tokenizer's *texts_to_sequences* method to convert each sentence to a sequence of integers where each integer maps to a particular token.<br>\n",
        "https://www.tensorflow.org/api_docs/python/tf/keras/preprocessing/text/Tokenizer#texts_to_sequences"
      ]
    },
    {
      "cell_type": "code",
      "execution_count": 16,
      "metadata": {
        "id": "Khb0e73Uy9F2"
      },
      "outputs": [],
      "source": [
        "x_train_seqs = sentence_tokenizer.texts_to_sequences(x_train)"
      ]
    },
    {
      "cell_type": "code",
      "execution_count": 17,
      "metadata": {
        "id": "3A5T7HDlPG04"
      },
      "outputs": [
        {
          "name": "stdout",
          "output_type": "stream",
          "text": [
            "[27, 86, 21, 479, 7, 2, 920, 10903, 20547, 3327, 5644, 337, 4]\n"
          ]
        }
      ],
      "source": [
        "print(x_train_seqs[0])"
      ]
    },
    {
      "cell_type": "markdown",
      "metadata": {
        "id": "77U2nCHKLC4z"
      },
      "source": [
        "We can use the *sequences_to_texts* method to convert a vectorized sentence back to its preprocessed form.<br>\n",
        "https://www.tensorflow.org/api_docs/python/tf/keras/preprocessing/text/Tokenizer#sequences_to_texts"
      ]
    },
    {
      "cell_type": "code",
      "execution_count": 18,
      "metadata": {
        "id": "Io3WhTXPPcBY"
      },
      "outputs": [
        {
          "name": "stdout",
          "output_type": "stream",
          "text": [
            "Original: ['This', 'may', 'be', 'due', 'to', 'the', 'heavy', 'interlobular', 'connective', 'tissue', 'barriers', 'present', '.']\n",
            "Reconstructed: ['this may be due to the heavy interlobular connective tissue barriers present .']\n"
          ]
        }
      ],
      "source": [
        "print(f\"Original: {x_train[0]}\")\n",
        "print(f\"Reconstructed: {sentence_tokenizer.sequences_to_texts([x_train_seqs[0]])}\")"
      ]
    },
    {
      "cell_type": "markdown",
      "metadata": {
        "id": "IrTae0CTLbzs"
      },
      "source": [
        "Next, we'll vectorize the labels (i.e. sequences of PoS tags) using its respective tokenizer."
      ]
    },
    {
      "cell_type": "code",
      "execution_count": 19,
      "metadata": {
        "id": "px0r8Z8cPhqS"
      },
      "outputs": [],
      "source": [
        "y_train_seqs = tag_tokenizer.texts_to_sequences(y_train)"
      ]
    },
    {
      "cell_type": "code",
      "execution_count": 20,
      "metadata": {
        "id": "Qzz8TCP6y6LM"
      },
      "outputs": [
        {
          "name": "stdout",
          "output_type": "stream",
          "text": [
            "[5, 2, 2, 6, 4, 5, 6, 6, 6, 1, 1, 7, 3]\n"
          ]
        },
        {
          "data": {
            "text/plain": [
              "['det verb verb adj adp det adj adj adj noun noun adv .']"
            ]
          },
          "execution_count": 20,
          "metadata": {},
          "output_type": "execute_result"
        }
      ],
      "source": [
        "print(y_train_seqs[0])\n",
        "tag_tokenizer.sequences_to_texts([y_train_seqs[0]])"
      ]
    },
    {
      "cell_type": "markdown",
      "metadata": {
        "id": "tzMIDKL2Lov7"
      },
      "source": [
        "Finally, we'll do the same with the validation inputs and labels."
      ]
    },
    {
      "cell_type": "code",
      "execution_count": 21,
      "metadata": {
        "id": "sZKg10BX5O-N"
      },
      "outputs": [],
      "source": [
        "x_val_seqs = sentence_tokenizer.texts_to_sequences(x_val)\n",
        "y_val_seqs = tag_tokenizer.texts_to_sequences(y_val)"
      ]
    },
    {
      "cell_type": "code",
      "execution_count": 22,
      "metadata": {},
      "outputs": [
        {
          "name": "stdout",
          "output_type": "stream",
          "text": [
            "[27, 15, 2, 214, 108, 19, 2, 1, 390, 6, 2, 36627, 3, 38863, 10659, 4]\n",
            "['this was the big man with the <OOV> air and the beetling , shaggy eyebrows .']\n"
          ]
        }
      ],
      "source": [
        "for seq in x_val_seqs:\n",
        "  if 1 in seq:\n",
        "    print(seq)\n",
        "    print(sentence_tokenizer.sequences_to_texts([seq]))\n",
        "    break"
      ]
    },
    {
      "cell_type": "markdown",
      "metadata": {
        "id": "TfT-5dmCy_uJ"
      },
      "source": [
        "As we covered in the slides, **Recurrent Neural Networks** are capable of handling variable length sequences.<br><br>\n",
        "Despite that, it's still best to pad or truncate sequences to a uniform length for one or both of these reasons:<br>\n",
        "1. Performance. The longer a sequence, the higher the computation cost. One may want to truncate long sequences to a shorter length if that's feasible and doesn't result in too much performance loss.\n",
        "\n",
        "2. When processing datasets in batches, each sequence *in a batch* usually has to be of uniform length.<br>\n",
        "\n",
        "For simplicity, in this demo, we'll make *every* sequence be as long as the longest sequence. In other words, we'll determine how long the longest sequence is, then pad out the rest of the sequences to be the same length.<br>\n",
        "\n",
        "A more optimized solution would be to make each sequence as long as the longest sequence in each *batch* to avoid unnecessary processing."
      ]
    },
    {
      "cell_type": "code",
      "execution_count": 23,
      "metadata": {
        "id": "rYLLph5iPng5"
      },
      "outputs": [
        {
          "name": "stdout",
          "output_type": "stream",
          "text": [
            "Length of longest input sequence: 161\n"
          ]
        }
      ],
      "source": [
        "MAX_LENGTH = len(max(x_train_seqs, key=len))\n",
        "print(f\"Length of longest input sequence: {MAX_LENGTH}\")"
      ]
    },
    {
      "cell_type": "markdown",
      "metadata": {
        "id": "khQdjjfOQ5wc"
      },
      "source": [
        "We can pad the sequences with the *pad_sequences* method:<br>\n",
        "https://www.tensorflow.org/api_docs/python/tf/keras/preprocessing/sequence/pad_sequences"
      ]
    },
    {
      "cell_type": "code",
      "execution_count": 24,
      "metadata": {
        "id": "B2F9536qPpbI"
      },
      "outputs": [],
      "source": [
        "x_train_padded = keras.preprocessing.sequence.pad_sequences(x_train_seqs, padding='post',\n",
        "                                                            maxlen=MAX_LENGTH)"
      ]
    },
    {
      "cell_type": "code",
      "execution_count": 25,
      "metadata": {
        "id": "-BKa6RNLPy1J"
      },
      "outputs": [
        {
          "name": "stdout",
          "output_type": "stream",
          "text": [
            "[   27    86    21   479     7     2   920 10903 20547  3327  5644   337\n",
            "     4     0     0     0     0     0     0     0     0     0     0     0\n",
            "     0     0     0     0     0     0     0     0     0     0     0     0\n",
            "     0     0     0     0     0     0     0     0     0     0     0     0\n",
            "     0     0     0     0     0     0     0     0     0     0     0     0\n",
            "     0     0     0     0     0     0     0     0     0     0     0     0\n",
            "     0     0     0     0     0     0     0     0     0     0     0     0\n",
            "     0     0     0     0     0     0     0     0     0     0     0     0\n",
            "     0     0     0     0     0     0     0     0     0     0     0     0\n",
            "     0     0     0     0     0     0     0     0     0     0     0     0\n",
            "     0     0     0     0     0     0     0     0     0     0     0     0\n",
            "     0     0     0     0     0     0     0     0     0     0     0     0\n",
            "     0     0     0     0     0     0     0     0     0     0     0     0\n",
            "     0     0     0     0     0]\n"
          ]
        }
      ],
      "source": [
        "print(x_train_padded[0])"
      ]
    },
    {
      "cell_type": "markdown",
      "metadata": {
        "id": "XpbsTGrgRGNR"
      },
      "source": [
        "We'll do the same with the training label (PoS sequences)..."
      ]
    },
    {
      "cell_type": "code",
      "execution_count": 26,
      "metadata": {
        "id": "GDTo19V_P0CB"
      },
      "outputs": [],
      "source": [
        "y_train_padded = keras.preprocessing.sequence.pad_sequences(y_train_seqs, padding='post',\n",
        "                                                            maxlen=MAX_LENGTH)"
      ]
    },
    {
      "cell_type": "markdown",
      "metadata": {
        "id": "R4bOcVgLRK4b"
      },
      "source": [
        "...and the validation dataset."
      ]
    },
    {
      "cell_type": "code",
      "execution_count": 27,
      "metadata": {
        "id": "OCtKDmLK5uq4"
      },
      "outputs": [],
      "source": [
        "x_val_padded = keras.preprocessing.sequence.pad_sequences(x_val_seqs, padding='post', maxlen=MAX_LENGTH)\n",
        "y_val_padded = keras.preprocessing.sequence.pad_sequences(y_val_seqs, padding='post', maxlen=MAX_LENGTH)"
      ]
    },
    {
      "cell_type": "markdown",
      "metadata": {
        "id": "UFQqWmck25sA"
      },
      "source": [
        "PoS tagging is a multiclass classification task done at each timestep, so we need to convert every tag for every sentence into a one-hot encoding (we'll look at an alternative approach when we build a language model later in this demo).<br>\n",
        "https://www.tensorflow.org/api_docs/python/tf/keras/utils/to_categorical<br>"
      ]
    },
    {
      "cell_type": "code",
      "execution_count": 28,
      "metadata": {
        "id": "fZNu8P_nSv3u"
      },
      "outputs": [],
      "source": [
        "y_train_categoricals = keras.utils.to_categorical(y_train_padded)"
      ]
    },
    {
      "cell_type": "markdown",
      "metadata": {
        "id": "X_Reegcq3iiJ"
      },
      "source": [
        "The label (PoS tag sequence) for a single sentence is now a **sequence of one-hot encodings**. These will serve as our training targets."
      ]
    },
    {
      "cell_type": "code",
      "execution_count": 29,
      "metadata": {
        "id": "OPJlV1P_UStC"
      },
      "outputs": [
        {
          "name": "stdout",
          "output_type": "stream",
          "text": [
            "(161, 13)\n",
            "[[0. 0. 0. ... 0. 0. 0.]\n",
            " [0. 0. 1. ... 0. 0. 0.]\n",
            " [0. 0. 1. ... 0. 0. 0.]\n",
            " ...\n",
            " [1. 0. 0. ... 0. 0. 0.]\n",
            " [1. 0. 0. ... 0. 0. 0.]\n",
            " [1. 0. 0. ... 0. 0. 0.]]\n"
          ]
        }
      ],
      "source": [
        "# The one hot encodings for the first label.\n",
        "print(y_train_categoricals[0].shape)\n",
        "print(y_train_categoricals[0])"
      ]
    },
    {
      "cell_type": "code",
      "execution_count": 30,
      "metadata": {
        "id": "0wzIkD9L3pz6"
      },
      "outputs": [
        {
          "name": "stdout",
          "output_type": "stream",
          "text": [
            "[0. 0. 0. 0. 0. 1. 0. 0. 0. 0. 0. 0. 0.]\n"
          ]
        }
      ],
      "source": [
        "# One-hot encoding for a single tag.\n",
        "print(y_train_categoricals[0][0])"
      ]
    },
    {
      "cell_type": "markdown",
      "metadata": {
        "id": "TIxLTetGStWg"
      },
      "source": [
        "We can determine the PoS tag from a one-hot encoding by seeing which index is set to 1, then using that to query the tag tokenizer's *index_word* dictionary."
      ]
    },
    {
      "cell_type": "code",
      "execution_count": 31,
      "metadata": {
        "id": "OAqLUMuw319d"
      },
      "outputs": [
        {
          "name": "stdout",
          "output_type": "stream",
          "text": [
            "Index: 5\n",
            "Tag: det\n"
          ]
        }
      ],
      "source": [
        "idx = np.argmax(y_train_categoricals[0][0])\n",
        "print(f\"Index: {idx}\")\n",
        "\n",
        "print(f\"Tag: {tag_tokenizer.index_word[idx]}\")"
      ]
    },
    {
      "cell_type": "markdown",
      "metadata": {
        "id": "CiZFnLm5TWj3"
      },
      "source": [
        "We'll one-hot encode the validation labels as well."
      ]
    },
    {
      "cell_type": "code",
      "execution_count": 32,
      "metadata": {
        "id": "lZMDn8E2357_"
      },
      "outputs": [],
      "source": [
        "y_val_categoricals = keras.utils.to_categorical(y_val_padded)"
      ]
    },
    {
      "cell_type": "markdown",
      "metadata": {
        "id": "IdzikQR26NS2"
      },
      "source": [
        "At this point, we're ready to build our model. We'll train word embeddings concurrently with our model (though you can use pretrained word vectors as well). If you're unfamiliar with this idea, refer to the [Word Vectors](https://www.nlpdemystified.org/course/word-vectors) module.<br><br>\n",
        "There are several new things here:<br>\n",
        "1. The embedding layer has a *mask_zero* parameter. We added padding in order to make our batches the same size, but we don't want the model to make PoS predictions on padding. Setting *mask_zero* to *True* makes the layers following the embedding layer ignore padding values.<br>\n",
        "https://www.tensorflow.org/guide/keras/masking_and_padding<br>\n",
        "https://stackoverflow.com/questions/47485216/how-does-mask-zero-in-keras-embedding-layer-work<br><br>\n",
        "2. We're using a **bidirectional LSTM**. The *Bidirectional* layer is a wrapper to which we pass an *LSTM* layer. The first parameter to the *LSTM* layer is the number of units in the cell. The second parameter, *return_sequences*, controls whether the RNN returns an output for each timestep or only the last output. Since we're doing PoS-tagging, we want an output for each timestep and so *return_sequences* is set to *True*.<br>\n",
        "https://www.tensorflow.org/api_docs/python/tf/keras/layers/LSTM<br>\n",
        "https://www.tensorflow.org/api_docs/python/tf/keras/layers/Bidirectional\n"
      ]
    },
    {
      "cell_type": "code",
      "execution_count": 33,
      "metadata": {
        "id": "96PD9ncGQqO7"
      },
      "outputs": [],
      "source": [
        "# For the embedding layer. \"+ 1\" to account for the padding token.\n",
        "num_tokens = len(sentence_tokenizer.word_index) + 1\n",
        "embedding_dim = 128\n",
        "\n",
        "# For the output layer. The number of classes corresponds to the\n",
        "# number of possible tags.\n",
        "num_classes = len(tag_tokenizer.word_index) + 1"
      ]
    },
    {
      "cell_type": "code",
      "execution_count": 34,
      "metadata": {
        "id": "8enX4iWaQ-mD"
      },
      "outputs": [],
      "source": [
        "# The set_seed call and kernel_initializer parameters are used here to\n",
        "# ensure you and I get the same results. To get random weight initializations,\n",
        "# remove them.\n",
        "tf.random.set_seed(0)\n",
        "\n",
        "model = keras.Sequential()\n",
        "\n",
        "model.add(layers.Embedding(input_dim=num_tokens,\n",
        "                          output_dim=embedding_dim,\n",
        "                          mask_zero=True))\n",
        "\n",
        "model.add(layers.Bidirectional(layers.LSTM(128, return_sequences=True,\n",
        "                                          kernel_initializer=tf.keras.initializers.random_normal(seed=1))))\n",
        "\n",
        "model.add(layers.Dense(num_classes, activation='softmax',\n",
        "                      kernel_initializer=tf.keras.initializers.random_normal(seed=1)))\n",
        "\n",
        "model.compile(loss='categorical_crossentropy',\n",
        "              optimizer='adam',\n",
        "              metrics=['accuracy'])\n"
      ]
    },
    {
      "cell_type": "markdown",
      "metadata": {
        "id": "s-RPX0V86btV"
      },
      "source": [
        "A few notes about the model summary:<br>\n",
        "\n",
        "The embedding layer **output** has three dimensions:\n",
        "- Batch size (it's showing as \"None\" because we didn't specify it upfront. We'll do it when we call *model.fit*).\n",
        "- Sequence length (the sequences are all the same length now after our padding step).\n",
        "- Embedding dimension.\n",
        "<br><br>\n",
        "\n",
        "The LSTM outputs a vector *twice* the size of what we specified because it's bidirectional. Recall from the slides that the outputs from the two LSTMs will be concatenated before going to the output layer.\n",
        "<br><br>\n",
        "\n",
        "The final layer's **output** also has three dimensions:\n",
        "- Batch size\n",
        "- Sequence length\n",
        "- Output dimension (the number of possible tags).\n",
        "\n",
        "The output will be a **sequence of probability distributions** for each input sequence. One probability distribution per tag.\n",
        "\n"
      ]
    },
    {
      "cell_type": "code",
      "execution_count": 35,
      "metadata": {
        "id": "k2mAahG9U7lj"
      },
      "outputs": [
        {
          "data": {
            "text/html": [
              "<pre style=\"white-space:pre;overflow-x:auto;line-height:normal;font-family:Menlo,'DejaVu Sans Mono',consolas,'Courier New',monospace\"><span style=\"font-weight: bold\">Model: \"sequential\"</span>\n",
              "</pre>\n"
            ],
            "text/plain": [
              "\u001b[1mModel: \"sequential\"\u001b[0m\n"
            ]
          },
          "metadata": {},
          "output_type": "display_data"
        },
        {
          "data": {
            "text/html": [
              "<pre style=\"white-space:pre;overflow-x:auto;line-height:normal;font-family:Menlo,'DejaVu Sans Mono',consolas,'Courier New',monospace\">┏━━━━━━━━━━━━━━━━━━━━━━━━━━━━━━━━━┳━━━━━━━━━━━━━━━━━━━━━━━━┳━━━━━━━━━━━━━━━┓\n",
              "┃<span style=\"font-weight: bold\"> Layer (type)                    </span>┃<span style=\"font-weight: bold\"> Output Shape           </span>┃<span style=\"font-weight: bold\">       Param # </span>┃\n",
              "┡━━━━━━━━━━━━━━━━━━━━━━━━━━━━━━━━━╇━━━━━━━━━━━━━━━━━━━━━━━━╇━━━━━━━━━━━━━━━┩\n",
              "│ embedding (<span style=\"color: #0087ff; text-decoration-color: #0087ff\">Embedding</span>)           │ ?                      │   <span style=\"color: #00af00; text-decoration-color: #00af00\">0</span> (unbuilt) │\n",
              "├─────────────────────────────────┼────────────────────────┼───────────────┤\n",
              "│ bidirectional (<span style=\"color: #0087ff; text-decoration-color: #0087ff\">Bidirectional</span>)   │ ?                      │   <span style=\"color: #00af00; text-decoration-color: #00af00\">0</span> (unbuilt) │\n",
              "├─────────────────────────────────┼────────────────────────┼───────────────┤\n",
              "│ dense (<span style=\"color: #0087ff; text-decoration-color: #0087ff\">Dense</span>)                   │ ?                      │   <span style=\"color: #00af00; text-decoration-color: #00af00\">0</span> (unbuilt) │\n",
              "└─────────────────────────────────┴────────────────────────┴───────────────┘\n",
              "</pre>\n"
            ],
            "text/plain": [
              "┏━━━━━━━━━━━━━━━━━━━━━━━━━━━━━━━━━┳━━━━━━━━━━━━━━━━━━━━━━━━┳━━━━━━━━━━━━━━━┓\n",
              "┃\u001b[1m \u001b[0m\u001b[1mLayer (type)                   \u001b[0m\u001b[1m \u001b[0m┃\u001b[1m \u001b[0m\u001b[1mOutput Shape          \u001b[0m\u001b[1m \u001b[0m┃\u001b[1m \u001b[0m\u001b[1m      Param #\u001b[0m\u001b[1m \u001b[0m┃\n",
              "┡━━━━━━━━━━━━━━━━━━━━━━━━━━━━━━━━━╇━━━━━━━━━━━━━━━━━━━━━━━━╇━━━━━━━━━━━━━━━┩\n",
              "│ embedding (\u001b[38;5;33mEmbedding\u001b[0m)           │ ?                      │   \u001b[38;5;34m0\u001b[0m (unbuilt) │\n",
              "├─────────────────────────────────┼────────────────────────┼───────────────┤\n",
              "│ bidirectional (\u001b[38;5;33mBidirectional\u001b[0m)   │ ?                      │   \u001b[38;5;34m0\u001b[0m (unbuilt) │\n",
              "├─────────────────────────────────┼────────────────────────┼───────────────┤\n",
              "│ dense (\u001b[38;5;33mDense\u001b[0m)                   │ ?                      │   \u001b[38;5;34m0\u001b[0m (unbuilt) │\n",
              "└─────────────────────────────────┴────────────────────────┴───────────────┘\n"
            ]
          },
          "metadata": {},
          "output_type": "display_data"
        },
        {
          "data": {
            "text/html": [
              "<pre style=\"white-space:pre;overflow-x:auto;line-height:normal;font-family:Menlo,'DejaVu Sans Mono',consolas,'Courier New',monospace\"><span style=\"font-weight: bold\"> Total params: </span><span style=\"color: #00af00; text-decoration-color: #00af00\">0</span> (0.00 B)\n",
              "</pre>\n"
            ],
            "text/plain": [
              "\u001b[1m Total params: \u001b[0m\u001b[38;5;34m0\u001b[0m (0.00 B)\n"
            ]
          },
          "metadata": {},
          "output_type": "display_data"
        },
        {
          "data": {
            "text/html": [
              "<pre style=\"white-space:pre;overflow-x:auto;line-height:normal;font-family:Menlo,'DejaVu Sans Mono',consolas,'Courier New',monospace\"><span style=\"font-weight: bold\"> Trainable params: </span><span style=\"color: #00af00; text-decoration-color: #00af00\">0</span> (0.00 B)\n",
              "</pre>\n"
            ],
            "text/plain": [
              "\u001b[1m Trainable params: \u001b[0m\u001b[38;5;34m0\u001b[0m (0.00 B)\n"
            ]
          },
          "metadata": {},
          "output_type": "display_data"
        },
        {
          "data": {
            "text/html": [
              "<pre style=\"white-space:pre;overflow-x:auto;line-height:normal;font-family:Menlo,'DejaVu Sans Mono',consolas,'Courier New',monospace\"><span style=\"font-weight: bold\"> Non-trainable params: </span><span style=\"color: #00af00; text-decoration-color: #00af00\">0</span> (0.00 B)\n",
              "</pre>\n"
            ],
            "text/plain": [
              "\u001b[1m Non-trainable params: \u001b[0m\u001b[38;5;34m0\u001b[0m (0.00 B)\n"
            ]
          },
          "metadata": {},
          "output_type": "display_data"
        }
      ],
      "source": [
        "model.summary()"
      ]
    },
    {
      "cell_type": "markdown",
      "metadata": {
        "id": "l0XDusUT-Uew"
      },
      "source": [
        "As we did in previous demos, we'll use *early stopping* with some *patience* to halt training once validation loss stops improving.<br>\n",
        "\n",
        "The model will compare its output (sequences of softmax-generated probability distributions) against the one-hot encoded targets.\n",
        "\n"
      ]
    },
    {
      "cell_type": "code",
      "execution_count": null,
      "metadata": {
        "id": "V0HuoNKrU8si"
      },
      "outputs": [],
      "source": [
        "es_callback = keras.callbacks.EarlyStopping(monitor='val_loss', patience=3)\n",
        "\n",
        "history = model.fit(x_train_padded, y_train_categoricals, epochs=20,\n",
        "                    batch_size=256, validation_data=(x_val_padded, y_val_categoricals),\n",
        "                    callbacks=[es_callback])"
      ]
    },
    {
      "cell_type": "markdown",
      "metadata": {
        "id": "WSRTSU_PFF_5"
      },
      "source": [
        "Once our model is trained, we'll vectorize and pad the testing dataset. In the case of the labels, we'll also one-hot encode them."
      ]
    },
    {
      "cell_type": "code",
      "execution_count": null,
      "metadata": {
        "id": "NjBNMiGyaoRC"
      },
      "outputs": [],
      "source": [
        "# Preprocess the test data and test the model.\n",
        "x_test_seqs = sentence_tokenizer.texts_to_sequences(x_test)\n",
        "x_test_padded = keras.preprocessing.sequence.pad_sequences(x_test_seqs, padding='post', maxlen=MAX_LENGTH)\n",
        "\n",
        "y_test_seqs = tag_tokenizer.texts_to_sequences(y_test)\n",
        "y_test_padded = keras.preprocessing.sequence.pad_sequences(y_test_seqs, padding='post', maxlen=MAX_LENGTH)\n",
        "y_test_categoricals = keras.utils.to_categorical(y_test_padded)"
      ]
    },
    {
      "cell_type": "code",
      "execution_count": null,
      "metadata": {
        "id": "wTJ3HvUxVGVK"
      },
      "outputs": [],
      "source": [
        "model.evaluate(x_test_padded, y_test_categoricals)"
      ]
    },
    {
      "cell_type": "markdown",
      "metadata": {
        "id": "5EnxAd_UbWpt"
      },
      "source": [
        "We can now use our model to tag sentences."
      ]
    },
    {
      "cell_type": "code",
      "execution_count": null,
      "metadata": {
        "id": "vpdBrMTKYC2o"
      },
      "outputs": [],
      "source": [
        "samples = [\n",
        "    \"Brown refused to testify.\",\n",
        "    \"Brown sofas are on sale.\",\n",
        "]"
      ]
    },
    {
      "cell_type": "markdown",
      "metadata": {
        "id": "9Pk-IzuDN7Fu"
      },
      "source": [
        "The function below takes a list of strings, tokenizes and pads them, then has the model tag them. Note that if a sentence is longer than MAX_LENGTH, it'll be truncated."
      ]
    },
    {
      "cell_type": "code",
      "execution_count": null,
      "metadata": {
        "id": "eJhZy6Qtbfgz"
      },
      "outputs": [],
      "source": [
        "def tag_sentences(sentences):\n",
        "  sentences_seqs = sentence_tokenizer.texts_to_sequences(sentences)\n",
        "  sentences_padded = keras.preprocessing.sequence.pad_sequences(sentences_seqs,\n",
        "                                                                maxlen=MAX_LENGTH,\n",
        "                                                                padding='post')\n",
        "\n",
        "  # The model returns a LIST of PROBABILITY DISTRIBUTIONS (due to the softmax)\n",
        "  # for EACH sentence. There is one probability distribution for each PoS tag.\n",
        "  tag_preds = model.predict(sentences_padded)\n",
        "\n",
        "  sentence_tags = []\n",
        "\n",
        "  # For EACH LIST of probability distributions...\n",
        "  for i, preds in enumerate(tag_preds):\n",
        "\n",
        "    # Extract the most probable tag from EACH probability distribution.\n",
        "    # Note how we're extracting tags for only the non-padding tokens.\n",
        "    tags_seq = [np.argmax(p) for p in preds[:len(sentences_seqs[i])]]\n",
        "\n",
        "    # Convert the sentence and tag sequences back to their token counterparts.\n",
        "    words = [sentence_tokenizer.index_word[w] for w in sentences_seqs[i]]\n",
        "    tags = [tag_tokenizer.index_word[t] for t in tags_seq]\n",
        "    sentence_tags.append(list(zip(words, tags)))\n",
        "\n",
        "  return sentence_tags\n"
      ]
    },
    {
      "cell_type": "code",
      "execution_count": null,
      "metadata": {
        "id": "epf-F8q79U8i"
      },
      "outputs": [],
      "source": [
        "tagged_sample_sentences = tag_sentences(samples)"
      ]
    },
    {
      "cell_type": "code",
      "execution_count": null,
      "metadata": {
        "id": "1n8DlpC3fx78"
      },
      "outputs": [],
      "source": [
        "print(tagged_sample_sentences[0])"
      ]
    },
    {
      "cell_type": "code",
      "execution_count": null,
      "metadata": {
        "id": "Zu9RsRzPe1Ft"
      },
      "outputs": [],
      "source": [
        "print(tagged_sample_sentences[1])"
      ]
    },
    {
      "cell_type": "markdown",
      "metadata": {
        "id": "2gTzEc6Yd_Bt"
      },
      "source": [
        "So that's one way to build a PoS tagger. Industrial-strength taggers use a lot more data and these days, are powered by more sophisticated models which we'll learn about when we cover *transformers*."
      ]
    },
    {
      "cell_type": "markdown",
      "metadata": {
        "id": "aN6_SU-WPaMj"
      },
      "source": [
        "# Language Modelling With Stacked LSTMs"
      ]
    },
    {
      "cell_type": "markdown",
      "metadata": {
        "id": "Ay1F6VQZPeKX"
      },
      "source": [
        "We'll build a language model trained on the *Art of War* by Sun Tzu."
      ]
    },
    {
      "cell_type": "code",
      "execution_count": 3,
      "metadata": {
        "id": "ZEG0mxX0hk7v"
      },
      "outputs": [
        {
          "name": "stdout",
          "output_type": "stream",
          "text": [
            "text length is 61054\n"
          ]
        }
      ],
      "source": [
        "art_of_war = requests.get('https://raw.githubusercontent.com/futuremojo/nlp-demystified/main/datasets/art_of_war.txt')\\\n",
        "                    .text\n",
        "\n",
        "art_of_war[:300]\n",
        "print(f\"text length is {len(art_of_war)}\")"
      ]
    },
    {
      "cell_type": "markdown",
      "metadata": {
        "id": "BkHpwtcGUvaz"
      },
      "source": [
        "The language model we'll build will be **character**-based (as opposed to word-based). That is, given a sequence of one or more characters, the model will be asked to predict the next character.<br><br>\n",
        "Character-level models have the advantage of:\n",
        "- Smaller prediction space. There are only a handful of characters in the English language compared to the tens of thousands of words in a typical corpus.\n",
        "- Character-level models are more resilient to out-of-vocabulary (OOV) conditions and are better able to learn the lower mechanics of language (including punctuation).<br><br>\n",
        "\n",
        "On the other hand, character-level models need to learn a sequence of characters to \"make sense\" of a word (e.g. the sequence of \"c\", \"a\", \"t\" to identify \"cat\" as a pattern) which can be inefficient and result in lower performance.<br><br>\n",
        "RNNs can process any kind of sequence so what's shown here can easily be applied at the word level. When we cover *transformers*, we'll learn an alternative tokenization technique called **subword tokenization** that is a middle-ground between these two approaches."
      ]
    },
    {
      "cell_type": "markdown",
      "metadata": {
        "id": "XNkrCoktissC"
      },
      "source": [
        "We'll initialize a Keras **Tokenizer** and set the *char_level* parameter to True so that our corpus gets tokenized into characters rather than words. It'll continue lower-casing and applying its default light filtering.<br>\n",
        "https://www.tensorflow.org/api_docs/python/tf/keras/preprocessing/text/Tokenizer"
      ]
    },
    {
      "cell_type": "code",
      "execution_count": 4,
      "metadata": {
        "id": "mWdTaZyDNe7G"
      },
      "outputs": [],
      "source": [
        "tokenizer = keras.preprocessing.text.Tokenizer(char_level=True)"
      ]
    },
    {
      "cell_type": "code",
      "execution_count": 5,
      "metadata": {
        "id": "5K3Z3xiYNe-2"
      },
      "outputs": [],
      "source": [
        "tokenizer.fit_on_texts([art_of_war])"
      ]
    },
    {
      "cell_type": "markdown",
      "metadata": {
        "id": "SYSjvX_-jxcg"
      },
      "source": [
        "The tokenizer's internal dictionary now maps characters rather than words..."
      ]
    },
    {
      "cell_type": "code",
      "execution_count": 6,
      "metadata": {
        "id": "DmrRyC8eNfCF"
      },
      "outputs": [
        {
          "data": {
            "text/plain": [
              "{'num_words': None,\n",
              " 'filters': '!\"#$%&()*+,-./:;<=>?@[\\\\]^_`{|}~\\t\\n',\n",
              " 'lower': True,\n",
              " 'split': ' ',\n",
              " 'char_level': True,\n",
              " 'oov_token': None,\n",
              " 'document_count': 1,\n",
              " 'word_counts': '{\"1\": 179, \".\": 896, \" \": 9794, \"s\": 3081, \"u\": 1467, \"n\": 3565, \"t\": 4398, \"z\": 20, \"\\\\u016d\": 13, \"a\": 3475, \"i\": 3573, \"d\": 1681, \":\": 48, \"h\": 2558, \"e\": 5837, \"r\": 2776, \"o\": 3548, \"f\": 1238, \"w\": 981, \"v\": 478, \"l\": 1722, \"m\": 1201, \"p\": 769, \"c\": 1390, \"\\\\n\": 1443, \"2\": 127, \",\": 634, \"y\": 1055, \"b\": 708, \"j\": 23, \"q\": 55, \"g\": 1007, \"3\": 87, \"k\": 345, \"\\\\u2019\": 57, \"4\": 66, \"(\": 59, \")\": 59, \";\": 168, \"5\": 58, \"6\": 51, \"_\": 62, \"7\": 39, \"8\": 36, \"9\": 34, \"0\": 38, \"x\": 49, \"\\\\u2014\": 16, \"?\": 8, \"!\": 8, \"-\": 57, \"\\\\u201c\": 3, \"\\\\u201d\": 3, \"\\\\u0153\": 7, \"\\\\u00fc\": 3, \"\\\\u2018\": 1}',\n",
              " 'word_docs': '{\"\\\\u00fc\": 1, \"f\": 1, \"n\": 1, \"t\": 1, \"g\": 1, \"p\": 1, \"0\": 1, \"\\\\u2019\": 1, \"3\": 1, \"h\": 1, \",\": 1, \"r\": 1, \"o\": 1, \"9\": 1, \"j\": 1, \"z\": 1, \"c\": 1, \"1\": 1, \"i\": 1, \"u\": 1, \"b\": 1, \")\": 1, \"(\": 1, \"4\": 1, \"q\": 1, \" \": 1, \";\": 1, \"e\": 1, \":\": 1, \"l\": 1, \"w\": 1, \"7\": 1, \"d\": 1, \"a\": 1, \"\\\\u0153\": 1, \"v\": 1, \"8\": 1, \"m\": 1, \"2\": 1, \"\\\\u2014\": 1, \"?\": 1, \"6\": 1, \"\\\\u201c\": 1, \"\\\\u2018\": 1, \"\\\\u201d\": 1, \"\\\\u016d\": 1, \"x\": 1, \"-\": 1, \"\\\\n\": 1, \".\": 1, \"s\": 1, \"_\": 1, \"y\": 1, \"!\": 1, \"5\": 1, \"k\": 1}',\n",
              " 'index_docs': '{\"55\": 1, \"16\": 1, \"5\": 1, \"3\": 1, \"19\": 1, \"22\": 1, \"43\": 1, \"36\": 1, \"30\": 1, \"10\": 1, \"24\": 1, \"9\": 1, \"6\": 1, \"45\": 1, \"46\": 1, \"47\": 1, \"15\": 1, \"27\": 1, \"4\": 1, \"13\": 1, \"23\": 1, \"34\": 1, \"33\": 1, \"31\": 1, \"38\": 1, \"1\": 1, \"28\": 1, \"2\": 1, \"41\": 1, \"11\": 1, \"20\": 1, \"42\": 1, \"12\": 1, \"7\": 1, \"52\": 1, \"25\": 1, \"44\": 1, \"17\": 1, \"29\": 1, \"48\": 1, \"50\": 1, \"39\": 1, \"53\": 1, \"56\": 1, \"54\": 1, \"49\": 1, \"40\": 1, \"37\": 1, \"14\": 1, \"21\": 1, \"8\": 1, \"32\": 1, \"18\": 1, \"51\": 1, \"35\": 1, \"26\": 1}',\n",
              " 'index_word': '{\"1\": \" \", \"2\": \"e\", \"3\": \"t\", \"4\": \"i\", \"5\": \"n\", \"6\": \"o\", \"7\": \"a\", \"8\": \"s\", \"9\": \"r\", \"10\": \"h\", \"11\": \"l\", \"12\": \"d\", \"13\": \"u\", \"14\": \"\\\\n\", \"15\": \"c\", \"16\": \"f\", \"17\": \"m\", \"18\": \"y\", \"19\": \"g\", \"20\": \"w\", \"21\": \".\", \"22\": \"p\", \"23\": \"b\", \"24\": \",\", \"25\": \"v\", \"26\": \"k\", \"27\": \"1\", \"28\": \";\", \"29\": \"2\", \"30\": \"3\", \"31\": \"4\", \"32\": \"_\", \"33\": \"(\", \"34\": \")\", \"35\": \"5\", \"36\": \"\\\\u2019\", \"37\": \"-\", \"38\": \"q\", \"39\": \"6\", \"40\": \"x\", \"41\": \":\", \"42\": \"7\", \"43\": \"0\", \"44\": \"8\", \"45\": \"9\", \"46\": \"j\", \"47\": \"z\", \"48\": \"\\\\u2014\", \"49\": \"\\\\u016d\", \"50\": \"?\", \"51\": \"!\", \"52\": \"\\\\u0153\", \"53\": \"\\\\u201c\", \"54\": \"\\\\u201d\", \"55\": \"\\\\u00fc\", \"56\": \"\\\\u2018\"}',\n",
              " 'word_index': '{\" \": 1, \"e\": 2, \"t\": 3, \"i\": 4, \"n\": 5, \"o\": 6, \"a\": 7, \"s\": 8, \"r\": 9, \"h\": 10, \"l\": 11, \"d\": 12, \"u\": 13, \"\\\\n\": 14, \"c\": 15, \"f\": 16, \"m\": 17, \"y\": 18, \"g\": 19, \"w\": 20, \".\": 21, \"p\": 22, \"b\": 23, \",\": 24, \"v\": 25, \"k\": 26, \"1\": 27, \";\": 28, \"2\": 29, \"3\": 30, \"4\": 31, \"_\": 32, \"(\": 33, \")\": 34, \"5\": 35, \"\\\\u2019\": 36, \"-\": 37, \"q\": 38, \"6\": 39, \"x\": 40, \":\": 41, \"7\": 42, \"0\": 43, \"8\": 44, \"9\": 45, \"j\": 46, \"z\": 47, \"\\\\u2014\": 48, \"\\\\u016d\": 49, \"?\": 50, \"!\": 51, \"\\\\u0153\": 52, \"\\\\u201c\": 53, \"\\\\u201d\": 54, \"\\\\u00fc\": 55, \"\\\\u2018\": 56}'}"
            ]
          },
          "execution_count": 6,
          "metadata": {},
          "output_type": "execute_result"
        }
      ],
      "source": [
        "tokenizer.get_config()"
      ]
    },
    {
      "cell_type": "markdown",
      "metadata": {
        "id": "gk0m9YXhjw4q"
      },
      "source": [
        "...and the resulting possibility space is much smaller."
      ]
    },
    {
      "cell_type": "code",
      "execution_count": 7,
      "metadata": {
        "id": "xYVGJN0ENfE9"
      },
      "outputs": [
        {
          "name": "stdout",
          "output_type": "stream",
          "text": [
            "Tokenizer \"Vocabulary\" size: 56\n"
          ]
        }
      ],
      "source": [
        "print(f\"Tokenizer \\\"Vocabulary\\\" size: {len(tokenizer.word_index)}\")"
      ]
    },
    {
      "cell_type": "markdown",
      "metadata": {
        "id": "nVihxn9hj8ri"
      },
      "source": [
        "As we did when building the PoS tagger, we'll vectorize the book's characters into a sequence of integers, each integer mapping to a particular character."
      ]
    },
    {
      "cell_type": "code",
      "execution_count": 8,
      "metadata": {
        "id": "Z-ZpUDbnNfHm"
      },
      "outputs": [],
      "source": [
        "seq = tokenizer.texts_to_sequences([art_of_war])[0]"
      ]
    },
    {
      "cell_type": "code",
      "execution_count": 9,
      "metadata": {
        "id": "31omC4dINfKN"
      },
      "outputs": [
        {
          "name": "stdout",
          "output_type": "stream",
          "text": [
            "Text length: 61054\n"
          ]
        }
      ],
      "source": [
        "print(f\"Text length: {len(seq)}\")"
      ]
    },
    {
      "cell_type": "code",
      "execution_count": 10,
      "metadata": {
        "id": "6dSf6yi8yDSg"
      },
      "outputs": [
        {
          "data": {
            "text/plain": [
              "['1 .   s u n   t z ŭ']"
            ]
          },
          "execution_count": 10,
          "metadata": {},
          "output_type": "execute_result"
        }
      ],
      "source": [
        "# Sanity check.\n",
        "tokenizer.sequences_to_texts([seq[:10]])"
      ]
    },
    {
      "cell_type": "markdown",
      "metadata": {
        "id": "tnEjEAzBkR9E"
      },
      "source": [
        "Our training data is currently one long sequence which we'll need to segment into training examples. To do this, we'll use the **Tensorflow Data** API which makes it easy to build preprocessing pipelines by chaining operations together.<br>\n",
        "https://www.tensorflow.org/guide/data<br>\n",
        "https://www.tensorflow.org/api_docs/python/tf/data<br>"
      ]
    },
    {
      "cell_type": "markdown",
      "metadata": {
        "id": "1V6igK_9wJjs"
      },
      "source": [
        "To use this API, we need to first convert our vectorized corpus (which is a plain Python list) into a  **Dataset** object, which we can do using the *from_tensor_slices* method. This takes our vectorized corpus and returns a stream of tensors, one tensor for each integer. We'll then be able to perform operations on this **Dataset** object to prep our data.<br>\n",
        "https://www.tensorflow.org/api_docs/python/tf/data/Dataset#from_tensor_slices<br>\n",
        "https://www.tensorflow.org/api_docs/python/tf/data/Dataset"
      ]
    },
    {
      "cell_type": "code",
      "execution_count": 11,
      "metadata": {
        "id": "HA6Av1ZC58KW"
      },
      "outputs": [
        {
          "data": {
            "text/plain": [
              "tensorflow.python.data.ops.from_tensor_slices_op._TensorSliceDataset"
            ]
          },
          "execution_count": 11,
          "metadata": {},
          "output_type": "execute_result"
        }
      ],
      "source": [
        "slices = tf.data.Dataset.from_tensor_slices(seq)\n",
        "type(slices)"
      ]
    },
    {
      "cell_type": "markdown",
      "metadata": {
        "id": "8If8jVoXxReD"
      },
      "source": [
        "Like Python **generators**, TF **Datasets** function like iterators, so we need to do things like convert them into a list or iterate over them in order to print them.<br>\n",
        "https://www.tensorflow.org/api_docs/python/tf/data/Dataset#take"
      ]
    },
    {
      "cell_type": "code",
      "execution_count": 12,
      "metadata": {
        "id": "rKO3vdcWyNm1"
      },
      "outputs": [
        {
          "data": {
            "text/plain": [
              "[<tf.Tensor: shape=(), dtype=int32, numpy=27>,\n",
              " <tf.Tensor: shape=(), dtype=int32, numpy=21>,\n",
              " <tf.Tensor: shape=(), dtype=int32, numpy=1>,\n",
              " <tf.Tensor: shape=(), dtype=int32, numpy=8>,\n",
              " <tf.Tensor: shape=(), dtype=int32, numpy=13>,\n",
              " <tf.Tensor: shape=(), dtype=int32, numpy=5>,\n",
              " <tf.Tensor: shape=(), dtype=int32, numpy=1>,\n",
              " <tf.Tensor: shape=(), dtype=int32, numpy=3>,\n",
              " <tf.Tensor: shape=(), dtype=int32, numpy=47>,\n",
              " <tf.Tensor: shape=(), dtype=int32, numpy=49>]"
            ]
          },
          "execution_count": 12,
          "metadata": {},
          "output_type": "execute_result"
        }
      ],
      "source": [
        "# Create a Dataset from the first ten slices and convert to a list to output to console.\n",
        "list(slices.take(10))"
      ]
    },
    {
      "cell_type": "code",
      "execution_count": 13,
      "metadata": {
        "id": "O8XQ464jyYCW"
      },
      "outputs": [
        {
          "data": {
            "text/plain": [
              "[27, 21, 1, 8, 13, 5, 1, 3, 47, 49]"
            ]
          },
          "execution_count": 13,
          "metadata": {},
          "output_type": "execute_result"
        }
      ],
      "source": [
        "# The first ten elements from the original vectorized corpus.\n",
        "seq[:10]"
      ]
    },
    {
      "cell_type": "markdown",
      "metadata": {
        "id": "X1c-ihOByy88"
      },
      "source": [
        "The next step is to create the training examples. To do that, we'll use the *window* method. Calling *window* on a dataset results in a sequence of datasets each containing N elements. So calling window(100) on a dataset of 1000 will result in a sequence of 10 datasets, each containing 100 elements.<br>\n",
        "https://www.tensorflow.org/api_docs/python/tf/data/Dataset#window"
      ]
    },
    {
      "cell_type": "markdown",
      "metadata": {
        "id": "YPGcuQTQz7Mc"
      },
      "source": [
        "Here, we're creating windows of `input_timesteps + 1`. The *input_timesteps* represents our training example length. The *+1* is there to help us create the target/label for each training example. This will be clarified further below.<br><br>\n",
        "In addition, we're setting *shift* to 1. This means we'll get overlapping windows shifted by 1. e.g. if the input is [1, 2, 3, 4, ...]. The first window will contain [1, 2, 3, ...], the second window will contain [2, 3, 4, ...] and so on. This is so we can have more training examples.<br><br>\n",
        "Finally, we're setting *drop_remainder* to True which ensures ALL windows contain exactly N elements. i.e. once the input contains fewer than N elements, they are ignored."
      ]
    },
    {
      "cell_type": "code",
      "execution_count": 14,
      "metadata": {
        "id": "ktpU39wkvHJz"
      },
      "outputs": [],
      "source": [
        "input_timesteps = 100\n",
        "window_size = input_timesteps + 1\n",
        "windows = slices.window(window_size, shift=1, drop_remainder=True)"
      ]
    },
    {
      "cell_type": "markdown",
      "metadata": {
        "id": "_ZPxcG8W1_1y"
      },
      "source": [
        "Looking at the first few windows, we can see they're all the same length and that each subsequent window is shifted over by 1. Our corpus has now been divided into segments of length `input_timesteps + 1`."
      ]
    },
    {
      "cell_type": "code",
      "execution_count": 15,
      "metadata": {
        "id": "m5yh94YQvHNk"
      },
      "outputs": [
        {
          "name": "stdout",
          "output_type": "stream",
          "text": [
            "101 [27, 21, 1, 8, 13, 5, 1, 3, 47, 49, 1, 8, 7, 4, 12, 41, 1, 3, 10, 2, 1, 7, 9, 3, 1, 6, 16, 1, 20, 7, 9, 1, 4, 8, 1, 6, 16, 1, 25, 4, 3, 7, 11, 1, 4, 17, 22, 6, 9, 3, 7, 5, 15, 2, 1, 3, 6, 1, 3, 10, 2, 1, 8, 3, 7, 3, 2, 21, 14, 14, 29, 21, 1, 4, 3, 1, 4, 8, 1, 7, 1, 17, 7, 3, 3, 2, 9, 1, 6, 16, 1, 11, 4, 16, 2, 1, 7, 5, 12, 1, 12]\n",
            "101 [21, 1, 8, 13, 5, 1, 3, 47, 49, 1, 8, 7, 4, 12, 41, 1, 3, 10, 2, 1, 7, 9, 3, 1, 6, 16, 1, 20, 7, 9, 1, 4, 8, 1, 6, 16, 1, 25, 4, 3, 7, 11, 1, 4, 17, 22, 6, 9, 3, 7, 5, 15, 2, 1, 3, 6, 1, 3, 10, 2, 1, 8, 3, 7, 3, 2, 21, 14, 14, 29, 21, 1, 4, 3, 1, 4, 8, 1, 7, 1, 17, 7, 3, 3, 2, 9, 1, 6, 16, 1, 11, 4, 16, 2, 1, 7, 5, 12, 1, 12, 2]\n",
            "101 [1, 8, 13, 5, 1, 3, 47, 49, 1, 8, 7, 4, 12, 41, 1, 3, 10, 2, 1, 7, 9, 3, 1, 6, 16, 1, 20, 7, 9, 1, 4, 8, 1, 6, 16, 1, 25, 4, 3, 7, 11, 1, 4, 17, 22, 6, 9, 3, 7, 5, 15, 2, 1, 3, 6, 1, 3, 10, 2, 1, 8, 3, 7, 3, 2, 21, 14, 14, 29, 21, 1, 4, 3, 1, 4, 8, 1, 7, 1, 17, 7, 3, 3, 2, 9, 1, 6, 16, 1, 11, 4, 16, 2, 1, 7, 5, 12, 1, 12, 2, 7]\n"
          ]
        },
        {
          "name": "stderr",
          "output_type": "stream",
          "text": [
            "2024-07-18 23:32:52.528277: W tensorflow/core/framework/dataset.cc:959] Input of Window will not be optimized because the dataset does not implement the AsGraphDefInternal() method needed to apply optimizations.\n"
          ]
        }
      ],
      "source": [
        "for w in windows.take(3):\n",
        "  arr = list(w.as_numpy_iterator())\n",
        "  print(len(arr), arr)"
      ]
    },
    {
      "cell_type": "markdown",
      "metadata": {
        "id": "0tlBHrkh3a_j"
      },
      "source": [
        "The *window* method returns a nested dataset of datasets (i.e. each window is a dataset containing a tensor)."
      ]
    },
    {
      "cell_type": "code",
      "execution_count": 16,
      "metadata": {
        "id": "aUlSKqMIv4DE"
      },
      "outputs": [
        {
          "name": "stdout",
          "output_type": "stream",
          "text": [
            "<_WindowDataset element_spec=DatasetSpec(TensorSpec(shape=(), dtype=tf.int32, name=None), TensorShape([]))> \n",
            "\n",
            "<_VariantDataset element_spec=TensorSpec(shape=(), dtype=tf.int32, name=None)>\n",
            "<_VariantDataset element_spec=TensorSpec(shape=(), dtype=tf.int32, name=None)>\n"
          ]
        }
      ],
      "source": [
        "print(windows, '\\n')\n",
        "\n",
        "for w in windows.take(2):\n",
        "  print(w)"
      ]
    },
    {
      "cell_type": "markdown",
      "metadata": {
        "id": "1FeagND73tID"
      },
      "source": [
        "But our model won't accept those. It'll accept only tensors, so we need to extract the tensors from each window. To do that, we'll use *flat_map* which will flatten the dataset of datasets into a single dataset of elements. But because we want to retain our segmented sequences, we'll also pass in a *batch* function to maintain the segments (otherwise, we'll just get back one large tensor representing our whole corpus).<br>\n",
        "https://www.tensorflow.org/api_docs/python/tf/data/Dataset#flat_map<br>\n",
        "https://www.tensorflow.org/api_docs/python/tf/data/Dataset#batch"
      ]
    },
    {
      "cell_type": "code",
      "execution_count": 17,
      "metadata": {
        "id": "caKhWf45vHQY"
      },
      "outputs": [],
      "source": [
        "dataset = windows.flat_map(lambda window: window.batch(window_size))"
      ]
    },
    {
      "cell_type": "markdown",
      "metadata": {
        "id": "-VEWbChD3xRT"
      },
      "source": [
        "We now have a single dataset of tensors, where each tensor is `input_timesteps+1` long and shifted by 1."
      ]
    },
    {
      "cell_type": "code",
      "execution_count": 18,
      "metadata": {
        "id": "86Kj0agg3UaF"
      },
      "outputs": [
        {
          "name": "stdout",
          "output_type": "stream",
          "text": [
            "tf.Tensor(\n",
            "[27 21  1  8 13  5  1  3 47 49  1  8  7  4 12 41  1  3 10  2  1  7  9  3\n",
            "  1  6 16  1 20  7  9  1  4  8  1  6 16  1 25  4  3  7 11  1  4 17 22  6\n",
            "  9  3  7  5 15  2  1  3  6  1  3 10  2  1  8  3  7  3  2 21 14 14 29 21\n",
            "  1  4  3  1  4  8  1  7  1 17  7  3  3  2  9  1  6 16  1 11  4 16  2  1\n",
            "  7  5 12  1 12], shape=(101,), dtype=int32)\n",
            "tf.Tensor(\n",
            "[21  1  8 13  5  1  3 47 49  1  8  7  4 12 41  1  3 10  2  1  7  9  3  1\n",
            "  6 16  1 20  7  9  1  4  8  1  6 16  1 25  4  3  7 11  1  4 17 22  6  9\n",
            "  3  7  5 15  2  1  3  6  1  3 10  2  1  8  3  7  3  2 21 14 14 29 21  1\n",
            "  4  3  1  4  8  1  7  1 17  7  3  3  2  9  1  6 16  1 11  4 16  2  1  7\n",
            "  5 12  1 12  2], shape=(101,), dtype=int32)\n"
          ]
        }
      ],
      "source": [
        "for d in dataset.take(2):\n",
        "  print(d)"
      ]
    },
    {
      "cell_type": "markdown",
      "metadata": {
        "id": "QLY8M5jA47VX"
      },
      "source": [
        "The next step is to create batches from our dataset. To do this, we'll shuffle the dataset, then create batches.<br>\n",
        "https://www.tensorflow.org/api_docs/python/tf/data/Dataset#shuffle<br>\n"
      ]
    },
    {
      "cell_type": "code",
      "execution_count": 19,
      "metadata": {
        "id": "2GgpocDSvHYN"
      },
      "outputs": [],
      "source": [
        "batch_size = 32"
      ]
    },
    {
      "cell_type": "code",
      "execution_count": 20,
      "metadata": {
        "id": "Wlg3yFIJ8OmH"
      },
      "outputs": [],
      "source": [
        "# The expected number of batches should be (len(seq) - input_timesteps) / batch_size\n",
        "batches = dataset.shuffle(10000).batch(batch_size)"
      ]
    },
    {
      "cell_type": "code",
      "execution_count": 21,
      "metadata": {
        "id": "qsa1nIFqyDpH"
      },
      "outputs": [
        {
          "name": "stdout",
          "output_type": "stream",
          "text": [
            "tf.Tensor(\n",
            "[ 4 17 21 14 22  9  2  3  2  5 12  1  3  6  1 23  2  1 20  2  7 26 24  1\n",
            "  3 10  7  3  1 10  2  1 17  7 18  1 19  9  6 20  1  7  9  9  6 19  7  5\n",
            "  3 21 14 14 29 30 21  1  4 16  1 10  2  1  4  8  1  3  7 26  4  5 19  1\n",
            " 10  4  8  1  2  7  8  2 24  1 19  4 25  2  1 10  4 17  1  5  6  1  9  2\n",
            "  8  3 21  1  4], shape=(101,), dtype=int32)\n",
            "tf.Tensor(\n",
            "[13  8  1  3 10  2  1 10  4 19 10  2  8  3  1 16  6  9 17  1  6 16  1 19\n",
            "  2  5  2  9  7 11  8 10  4 22  1  4  8  1  3  6  1 23  7 13 11 26  1  3\n",
            " 10  2  1  2  5  2 17 18 36  8  1 22 11  7  5  8 28 14  3 10  2  1  5  2\n",
            " 40  3  1 23  2  8  3  1  4  8  1  3  6  1 22  9  2 25  2  5  3  1  3 10\n",
            "  2  1 46 13  5], shape=(101,), dtype=int32)\n"
          ]
        }
      ],
      "source": [
        "for b in batches.take(1):\n",
        "  print(b[0])\n",
        "  print(b[1])"
      ]
    },
    {
      "cell_type": "markdown",
      "metadata": {
        "id": "feeAcKdY7fU1"
      },
      "source": [
        "We can now separate each example into an input sequence(x) and a corresponding label/target sequence(y).<br><br>\n",
        "In the slides, we talked about **Teacher Forcing** where:<br>\n",
        "1. At each timestep during training, the output is compared to a label.\n",
        "2. At the next timestep, rather than feeding the model the previous output, we feed it the next character of the input sequence (i.e. what the model should've outputted).\n",
        "<br><br>\n",
        "\n",
        "This is why each sequence is of size *input_timesteps + 1*. Each sequence is now going to be separated into TWO sequences. The first sequence will be the training input and will be of length *input_timesteps* (i.e. everything but the LAST character). The second sequence will be the label/target and will consist of all the sequence elements shifted by 1 (i.e. everything but the FIRST character). If this is confusing, refer to the accompanying video for this module where we cover training language models.<br><br>\n",
        "\n",
        "So if a sequence is \"she swam in the lake\", then:\n",
        "- The input will be \"she swam in the lak\" (drop the last character)\n",
        "- The target/label will be \"he swam in the lake\" (drop the first character)"
      ]
    },
    {
      "cell_type": "code",
      "execution_count": 22,
      "metadata": {
        "id": "opFC6gMn7p_u"
      },
      "outputs": [],
      "source": [
        "xy_batches = batches.map(lambda batch: (batch[:, :-1], batch[:, 1:]))"
      ]
    },
    {
      "cell_type": "markdown",
      "metadata": {
        "id": "QV0FZN41-ASJ"
      },
      "source": [
        "Each batch now consists of a set of input sequences and a corresponding set of label/target sequences, with the labels/targets shifted by 1."
      ]
    },
    {
      "cell_type": "code",
      "execution_count": 23,
      "metadata": {
        "id": "A7iErZRc7sTE"
      },
      "outputs": [
        {
          "name": "stdout",
          "output_type": "stream",
          "text": [
            "(<tf.Tensor: shape=(32, 100), dtype=int32, numpy=\n",
            "array([[ 7,  3, 41, ...,  4,  8, 14],\n",
            "       [ 1, 16,  9, ...,  9, 18,  1],\n",
            "       [ 5,  3,  1, ..., 10,  2,  9],\n",
            "       ...,\n",
            "       [14, 10,  2, ..., 39, 21,  1],\n",
            "       [ 7, 26,  2, ...,  2, 17, 18],\n",
            "       [21,  1,  6, ..., 19, 11,  2]], dtype=int32)>, <tf.Tensor: shape=(32, 100), dtype=int32, numpy=\n",
            "array([[ 3, 41,  1, ...,  8, 14, 11],\n",
            "       [16,  9,  6, ..., 18,  1,  7],\n",
            "       [ 3,  1,  3, ...,  2,  9,  2],\n",
            "       ...,\n",
            "       [10,  2,  7, ..., 21,  1, 20],\n",
            "       [26,  2,  5, ..., 17, 18, 36],\n",
            "       [ 1,  6,  5, ..., 11,  2,  1]], dtype=int32)>)\n"
          ]
        }
      ],
      "source": [
        "for b in xy_batches.take(1):\n",
        "  print(b)"
      ]
    },
    {
      "cell_type": "code",
      "execution_count": 24,
      "metadata": {
        "id": "WL0sd8B0y4gK"
      },
      "outputs": [
        {
          "name": "stdout",
          "output_type": "stream",
          "text": [
            "x1 length:  100\n",
            "x1:  [17 22 11  2 17  2  5  3  8  1  6 16  1 20  7  9 24  1 20  4 11 11  1  3\n",
            "  7 26  2  1 13 22  1  3 10  9  2  2  1 20 10  6 11  2  1 17  6  5  3 10\n",
            "  8 28  1  7  5 12  1  3 10  2  1 22  4 11  4  5 19  1 13 22 14  6 16  1\n",
            " 17  6 13  5 12  8  1  6 25  2  9  1  7 19  7  4  5  8  3  1  3 10  2  1\n",
            " 20  7 11 11]\n",
            "\n",
            "\n",
            "y1 length:  100\n",
            "y1:  [22 11  2 17  2  5  3  8  1  6 16  1 20  7  9 24  1 20  4 11 11  1  3  7\n",
            " 26  2  1 13 22  1  3 10  9  2  2  1 20 10  6 11  2  1 17  6  5  3 10  8\n",
            " 28  1  7  5 12  1  3 10  2  1 22  4 11  4  5 19  1 13 22 14  6 16  1 17\n",
            "  6 13  5 12  8  1  6 25  2  9  1  7 19  7  4  5  8  3  1  3 10  2  1 20\n",
            "  7 11 11  8]\n"
          ]
        }
      ],
      "source": [
        "# For greater clarity, this is the first input sequence from the first batch,\n",
        "# and it's corresponding label/target sequence.\n",
        "for b in xy_batches.take(1):\n",
        "  print(\"x1 length: \", len(b[0][0].numpy()))\n",
        "  print(\"x1: \", b[0][0].numpy())\n",
        "  print(\"\\n\")\n",
        "  print(\"y1 length: \", len(b[1][0].numpy()))\n",
        "  print(\"y1: \", b[1][0].numpy())"
      ]
    },
    {
      "cell_type": "markdown",
      "metadata": {
        "id": "2DgNpgicAMbr"
      },
      "source": [
        "The last step before we can build our model is to one-hot encode the **inputs**. We're doing this because:\n",
        "1. We're not using embeddings for the input. We can, but since this is a character model with just a few dozen possible choices, we can get away with one-hot encoding. There's also no reason to think a particular letter should be closer to another in vector space as we would want in a word-level model.\n",
        "\n",
        "2. Since we're not using embeddings and our input is categorical, we need to one-hot encode.\n",
        "\n",
        "Note that despite our labels ALSO being categorical, we are NOT one-hot encoding them this time. This is because we'll be using a loss function that can help us skip that step (more below)."
      ]
    },
    {
      "cell_type": "code",
      "execution_count": 25,
      "metadata": {
        "id": "hxEGMY5Cy4mh"
      },
      "outputs": [],
      "source": [
        "num_tokens = len(tokenizer.word_index) + 1\n",
        "\n",
        "# One-hot encode the input sequences, don't do anything with the label/target sequences.\n",
        "xy_batches = xy_batches.map(lambda inputs, labels: (tf.one_hot(inputs, depth=num_tokens), labels))"
      ]
    },
    {
      "cell_type": "code",
      "execution_count": 69,
      "metadata": {
        "id": "0ENgyGB2y4o_"
      },
      "outputs": [
        {
          "name": "stdout",
          "output_type": "stream",
          "text": [
            "x1:  [[0. 0. 0. ... 0. 0. 0.]\n",
            " [0. 0. 0. ... 0. 0. 0.]\n",
            " [0. 0. 0. ... 0. 0. 0.]\n",
            " ...\n",
            " [0. 1. 0. ... 0. 0. 0.]\n",
            " [0. 0. 0. ... 0. 0. 0.]\n",
            " [0. 0. 1. ... 0. 0. 0.]]\n",
            "shape is (100, 57)\n",
            "\n",
            "\n",
            "y1:  [ 3  8  1  6 16  1  7  1  8  4  2 19  2 21 14 14 39 21  1  3 10  2  9  2\n",
            " 16  6  9  2  1  3 10  2  1  8 26  4 11 16 13 11  1 11  2  7 12  2  9  1\n",
            "  8 13 23 12 13  2  8  1  3 10  2  1  2  5  2 17 18 36  8  1  3  9  6  6\n",
            " 22  8  1 20  4  3 10  6 13  3  1  7  5 18 14 16  4 19 10  3  4  5 19 28\n",
            "  1 10  2  1]\n",
            "shape is (100,)\n"
          ]
        }
      ],
      "source": [
        "# Each input sequence is now a sequence of one-hot encodings.\n",
        "for b in xy_batches.take(1):\n",
        "  my_arr = b[0][0].numpy() \n",
        "  print(\"x1: \", my_arr)\n",
        "  print(f\"shape is {my_arr.shape}\")\n",
        "\n",
        "  print(\"\\n\")\n",
        "  print(\"y1: \", b[1][0].numpy())\n",
        "  print(f\"shape is {b[1][0].numpy().shape}\")"
      ]
    },
    {
      "cell_type": "markdown",
      "metadata": {
        "id": "H4yAf-VfG7nW"
      },
      "source": [
        "At this point, we've:\n",
        "- Segmented our corpus into fixed-length sequences.\n",
        "- Created training and label/target sequences.\n",
        "- Organized them into batches.\n",
        "\n",
        "The last step is to add some **prefetching**. This is an optimization step. This way, while the model trains on the current batch of data, the pipeline reads and prepares the next batch.<br>\n",
        "https://www.tensorflow.org/guide/data_performance#prefetching"
      ]
    },
    {
      "cell_type": "code",
      "execution_count": 27,
      "metadata": {
        "id": "2G6p9SOky4rp"
      },
      "outputs": [],
      "source": [
        "dataset = dataset.prefetch(tf.data.AUTOTUNE)"
      ]
    },
    {
      "cell_type": "markdown",
      "metadata": {
        "id": "u01wPGyqK5wx"
      },
      "source": [
        "We can now build our model. There are three new things here:\n",
        "1. We're stacking two LSTMs. The sequential output of the first LSTM will become the sequential input to the second LSTM.<br><br>\n",
        "2. We're adding some *recurrent_dropout*. This drops connections between the recurrent units (i.e. the dropout is applied horizontally across time). You can still use regular *dropout* as well which will be applied to the inputs/outputs. Refer to this paper for more information:<br>\n",
        "https://arxiv.org/abs/1512.05287<br><br>\n",
        "3. We're using **sparse_categorical_crossentropy**. This allows us to provide labels as integers for multiclass classification rather than one-hot encodings.<br>\n",
        "https://keras.io/api/losses/probabilistic_losses/#sparsecategoricalcrossentropy-class"
      ]
    },
    {
      "cell_type": "code",
      "execution_count": 28,
      "metadata": {
        "id": "Ka3xgXNDy4wq"
      },
      "outputs": [],
      "source": [
        "model = keras.models.Sequential()\n",
        "\n",
        "model.add(layers.LSTM(128, return_sequences=True, input_shape=[None, num_tokens], recurrent_dropout=0.2))\n",
        "model.add(layers.LSTM(128, return_sequences=True, input_shape=[None, num_tokens], recurrent_dropout=0.2))\n",
        "\n",
        "model.add(layers.Dense(num_tokens, activation='softmax'))\n",
        "\n",
        "model.compile(loss=\"sparse_categorical_crossentropy\", optimizer='adam')\n"
      ]
    },
    {
      "cell_type": "code",
      "execution_count": 29,
      "metadata": {
        "id": "ELfe3-O_y4zJ"
      },
      "outputs": [
        {
          "name": "stdout",
          "output_type": "stream",
          "text": [
            "Model: \"sequential\"\n",
            "_________________________________________________________________\n",
            " Layer (type)                Output Shape              Param #   \n",
            "=================================================================\n",
            " lstm (LSTM)                 (None, None, 128)         95232     \n",
            "                                                                 \n",
            " lstm_1 (LSTM)               (None, None, 128)         131584    \n",
            "                                                                 \n",
            " dense (Dense)               (None, None, 57)          7353      \n",
            "                                                                 \n",
            "=================================================================\n",
            "Total params: 234169 (914.72 KB)\n",
            "Trainable params: 234169 (914.72 KB)\n",
            "Non-trainable params: 0 (0.00 Byte)\n",
            "_________________________________________________________________\n"
          ]
        }
      ],
      "source": [
        "model.summary()"
      ]
    },
    {
      "cell_type": "markdown",
      "metadata": {
        "id": "8SS9vRezNbCP"
      },
      "source": [
        "Because this model takes a few hours to train, we're using **model checkpoints** to save the weights after every epoch. This way, if something goes wrong with our system during training, we can reload the last set of weights from the checkpoint, and resume training from there.<br>\n",
        "https://keras.io/api/callbacks/model_checkpoint/"
      ]
    },
    {
      "cell_type": "code",
      "execution_count": 30,
      "metadata": {
        "id": "VBXSpEIQy437"
      },
      "outputs": [],
      "source": [
        "filepath=\"./ArtofWarLM/training1/cp.ckpt\"\n",
        "\n",
        "# Create a callback that saves the model's weights\n",
        "cp_callback = tf.keras.callbacks.ModelCheckpoint(filepath=filepath,\n",
        "                                                save_weights_only=True,\n",
        "                                                verbose=1)"
      ]
    },
    {
      "cell_type": "markdown",
      "metadata": {
        "id": "bExv-bELNxMd"
      },
      "source": [
        "When calling the model's *fit* method, we:<br>\n",
        "1. simply pass in the batches as is (no need to separate into explicit x and y arguments).\n",
        "2. pass the model checkpoint callback to save the weights after every epoch\n",
        "\n",
        "**NOTE**: The call to *fit* below is commented out. Because this model takes a few hours to train, I trained it ahead of time and saved it. If you want to train it yourself, feel free to uncomment and execute it. Also, because of the random weight initialization, your trained model's output will likely differ from mine."
      ]
    },
    {
      "cell_type": "code",
      "execution_count": 31,
      "metadata": {
        "id": "152rPbsMy46W"
      },
      "outputs": [],
      "source": [
        "#\n",
        "# history = model.fit(xy_batches, epochs=50, callbacks=[cp_callback])\n",
        "#"
      ]
    },
    {
      "cell_type": "markdown",
      "metadata": {
        "id": "5K2uM9ZuOdU5"
      },
      "source": [
        "Once training is complete, we can call the model's *save* method to save its weights and metadata. Again, this is commented out because I already trained the model previously.<br>\n",
        "https://www.tensorflow.org/api_docs/python/tf/keras/Model#save<br>\n",
        "https://www.tensorflow.org/guide/keras/save_and_serialize"
      ]
    },
    {
      "cell_type": "code",
      "execution_count": 32,
      "metadata": {
        "id": "rncmIneRy487"
      },
      "outputs": [],
      "source": [
        "#\n",
        "# model.save('art_of_war_char_level_lm')\n",
        "#"
      ]
    },
    {
      "cell_type": "markdown",
      "metadata": {
        "id": "H-4LQRthQ-XN"
      },
      "source": [
        "Download and unzip the previously trained model..."
      ]
    },
    {
      "cell_type": "code",
      "execution_count": 33,
      "metadata": {
        "id": "fA2om-61cm-I"
      },
      "outputs": [
        {
          "name": "stdout",
          "output_type": "stream",
          "text": [
            "--2024-07-18 23:32:58--  https://github.com/futuremojo/nlp-demystified/raw/main/models/art_of_war_char_level_lm.zip\n",
            "Resolving github.com (github.com)... 140.82.112.3\n",
            "Connecting to github.com (github.com)|140.82.112.3|:443... connected.\n",
            "HTTP request sent, awaiting response... 302 Found\n",
            "Location: https://raw.githubusercontent.com/futuremojo/nlp-demystified/main/models/art_of_war_char_level_lm.zip [following]\n",
            "--2024-07-18 23:32:58--  https://raw.githubusercontent.com/futuremojo/nlp-demystified/main/models/art_of_war_char_level_lm.zip\n",
            "Resolving raw.githubusercontent.com (raw.githubusercontent.com)... 2606:50c0:8003::154, 2606:50c0:8000::154, 2606:50c0:8001::154, ...\n",
            "Connecting to raw.githubusercontent.com (raw.githubusercontent.com)|2606:50c0:8003::154|:443... connected.\n",
            "HTTP request sent, awaiting response... 200 OK\n",
            "Length: 2691531 (2.6M) [application/zip]\n",
            "Saving to: ‘art_of_war_char_level_lm.zip.1’\n",
            "\n",
            "art_of_war_char_lev 100%[===================>]   2.57M  14.8MB/s    in 0.2s    \n",
            "\n",
            "2024-07-18 23:32:58 (14.8 MB/s) - ‘art_of_war_char_level_lm.zip.1’ saved [2691531/2691531]\n",
            "\n",
            "Archive:  art_of_war_char_level_lm.zip\n",
            "  inflating: art_of_war_char_level_lm/variables/variables.data-00000-of-00001  \n",
            "  inflating: art_of_war_char_level_lm/variables/variables.index  \n",
            "  inflating: art_of_war_char_level_lm/saved_model.pb  \n",
            "  inflating: art_of_war_char_level_lm/keras_metadata.pb  \n"
          ]
        }
      ],
      "source": [
        "!wget https://github.com/futuremojo/nlp-demystified/raw/main/models/art_of_war_char_level_lm.zip\n",
        "!unzip -o art_of_war_char_level_lm.zip"
      ]
    },
    {
      "cell_type": "markdown",
      "metadata": {
        "id": "BFUVEoC4hVIY"
      },
      "source": [
        "...and load it.<br>\n",
        "https://www.tensorflow.org/api_docs/python/tf/keras/models/load_model"
      ]
    },
    {
      "cell_type": "code",
      "execution_count": 34,
      "metadata": {
        "id": "q-5khVOuy4_a"
      },
      "outputs": [],
      "source": [
        "model = keras.models.load_model('art_of_war_char_level_lm')"
      ]
    },
    {
      "cell_type": "markdown",
      "metadata": {
        "id": "6xaiAYc1RLrd"
      },
      "source": [
        "Now that we have a trained model, let's generate some text.<br><br>\n",
        "The function below takes some seed text and uses that to generate a certain number of characters. For each character, it uses the generated text so far as the input. It's not the most efficient function but it'll work here.<br><br>\n",
        "There's also a *temperature* parameter. The next character is picked from a probability distribution. By dividing the log of this distribution by *temperature*, we can influence the randomness of the output.<br><br>\n",
        "When the temperature is low (< 1), the probability distribution sharpens and the model will be more strict in recreating the original text. As we raise the temperature, the distribution flattens and there's a higher chance the model picks something unexpected, resulting in greater surprise in the output. In practice, a high enough temperature will result in nonsense."
      ]
    },
    {
      "cell_type": "code",
      "execution_count": 64,
      "metadata": {
        "id": "jiwXXCn7JKea"
      },
      "outputs": [],
      "source": [
        "def generate_text(model, tokenizer, seed_text, num_chars=200, temperature=1):\n",
        "  print(input_timesteps)\n",
        "\n",
        "  text = seed_text\n",
        "\n",
        "\n",
        "  for i in range(num_chars):\n",
        "\n",
        "    # Take the last *input_timesteps* number of characters in the text so far\n",
        "    # as input.\n",
        "    input = np.array(tokenizer.texts_to_sequences([text[-input_timesteps:]]))\n",
        "    input = tf.one_hot(input, num_tokens)\n",
        "\n",
        "    # Create probability distribution for next character adjusted by temperature.\n",
        "    preds = model.predict(input)\n",
        "    if i == 0:\n",
        "      print(f\"preds shape is {preds.shape}\")\n",
        "      #print(preds[0, -1, :])\n",
        "    preds = preds[0, -1:, :] # <-- We want only the last character so we're extracting the softmax output for that.\n",
        "    preds = tf.math.log(preds) / temperature\n",
        "\n",
        "    # Sample next character and add to running text.\n",
        "    next_char = tf.random.categorical(preds, num_samples=1)\n",
        "    next_char = tokenizer.sequences_to_texts(next_char.numpy())[0]\n",
        "\n",
        "    text += next_char\n",
        "\n",
        "  return text\n"
      ]
    },
    {
      "cell_type": "code",
      "execution_count": 36,
      "metadata": {
        "id": "hywFzqgFGb43"
      },
      "outputs": [
        {
          "name": "stdout",
          "output_type": "stream",
          "text": [
            "100\n",
            "35\n",
            "1/1 [==============================] - 0s 282ms/step\n",
            "preds shape is (1, 35, 57)\n",
            "[4.8527163e-16 9.9980050e-01 4.1151971e-08 6.7554589e-05 2.7856488e-09\n",
            " 7.6692486e-06 5.8493815e-10 2.7909670e-09 2.4330591e-06 7.7925879e-09\n",
            " 8.0071477e-11 5.3051914e-09 3.1083557e-06 6.3023718e-11 8.0092883e-05\n",
            " 1.4726690e-07 5.4318280e-06 2.7884507e-05 4.8222134e-12 1.0782331e-08\n",
            " 1.3419165e-11 4.1566518e-06 1.2310036e-10 2.3913692e-13 1.2898590e-07\n",
            " 6.0833554e-07 1.1775534e-09 2.2182006e-19 3.9550918e-09 1.1891361e-17\n",
            " 8.0347734e-12 5.1596501e-21 1.8436752e-13 1.5390125e-20 2.1716431e-09\n",
            " 6.9347667e-18 1.4449316e-11 1.8289111e-07 8.3981412e-08 3.2869567e-17\n",
            " 2.7139365e-12 3.2225909e-08 7.8978511e-25 8.6826717e-24 5.6423546e-19\n",
            " 1.7030239e-21 5.8498086e-09 3.5928325e-15 2.4434428e-16 4.2282807e-20\n",
            " 2.4364534e-12 1.3846587e-11 1.0496669e-10 7.8750217e-24 2.9039843e-17\n",
            " 1.3203912e-19 2.2409261e-19]\n",
            "1/1 [==============================] - 0s 265ms/step\n",
            "1/1 [==============================] - 0s 80ms/step\n",
            "1/1 [==============================] - 0s 21ms/step\n",
            "1/1 [==============================] - 0s 21ms/step\n",
            "1/1 [==============================] - 0s 21ms/step\n",
            "1/1 [==============================] - 0s 22ms/step\n",
            "1/1 [==============================] - 0s 24ms/step\n",
            "1/1 [==============================] - 0s 22ms/step\n",
            "1/1 [==============================] - 0s 23ms/step\n",
            "1/1 [==============================] - 0s 25ms/step\n",
            "1/1 [==============================] - 0s 25ms/step\n",
            "1/1 [==============================] - 0s 30ms/step\n",
            "1/1 [==============================] - 0s 30ms/step\n",
            "1/1 [==============================] - 0s 26ms/step\n",
            "1/1 [==============================] - 0s 24ms/step\n",
            "1/1 [==============================] - 0s 23ms/step\n",
            "1/1 [==============================] - 0s 23ms/step\n",
            "1/1 [==============================] - 0s 24ms/step\n",
            "1/1 [==============================] - 0s 26ms/step\n",
            "1/1 [==============================] - 0s 26ms/step\n",
            "1/1 [==============================] - 0s 27ms/step\n",
            "1/1 [==============================] - 0s 30ms/step\n",
            "1/1 [==============================] - 0s 24ms/step\n",
            "1/1 [==============================] - 0s 24ms/step\n",
            "1/1 [==============================] - 0s 24ms/step\n",
            "1/1 [==============================] - 0s 26ms/step\n",
            "1/1 [==============================] - 0s 25ms/step\n",
            "1/1 [==============================] - 0s 25ms/step\n",
            "1/1 [==============================] - 0s 25ms/step\n",
            "1/1 [==============================] - 0s 26ms/step\n",
            "1/1 [==============================] - 0s 25ms/step\n",
            "1/1 [==============================] - 0s 26ms/step\n",
            "1/1 [==============================] - 0s 26ms/step\n",
            "1/1 [==============================] - 0s 27ms/step\n",
            "1/1 [==============================] - 0s 32ms/step\n",
            "1/1 [==============================] - 0s 30ms/step\n",
            "1/1 [==============================] - 0s 31ms/step\n",
            "1/1 [==============================] - 0s 27ms/step\n",
            "1/1 [==============================] - 0s 28ms/step\n",
            "1/1 [==============================] - 0s 28ms/step\n",
            "1/1 [==============================] - 0s 28ms/step\n",
            "1/1 [==============================] - 0s 27ms/step\n",
            "1/1 [==============================] - 0s 27ms/step\n",
            "1/1 [==============================] - 0s 28ms/step\n",
            "1/1 [==============================] - 0s 28ms/step\n",
            "1/1 [==============================] - 0s 27ms/step\n",
            "1/1 [==============================] - 0s 31ms/step\n",
            "1/1 [==============================] - 0s 32ms/step\n",
            "1/1 [==============================] - 0s 34ms/step\n",
            "Banana peels on the battlefield can never come again\n",
            "into being; nor can the dead eve\n",
            "CPU times: user 3.21 s, sys: 158 ms, total: 3.36 s\n",
            "Wall time: 3.25 s\n"
          ]
        }
      ],
      "source": [
        "%%time\n",
        "print(generate_text(model, tokenizer, \"Banana peels on the battlefield can\", num_chars=50, temperature=0.2))"
      ]
    },
    {
      "cell_type": "code",
      "execution_count": 66,
      "metadata": {
        "id": "GMVFH66EMfXh"
      },
      "outputs": [
        {
          "name": "stdout",
          "output_type": "stream",
          "text": [
            "100\n",
            "1/1 [==============================] - 0s 23ms/step\n",
            "preds shape is (1, 35, 57)\n",
            "1/1 [==============================] - 0s 23ms/step\n",
            "1/1 [==============================] - 0s 24ms/step\n",
            "1/1 [==============================] - 0s 22ms/step\n",
            "1/1 [==============================] - 0s 23ms/step\n",
            "1/1 [==============================] - 0s 22ms/step\n",
            "1/1 [==============================] - 0s 22ms/step\n",
            "1/1 [==============================] - 0s 23ms/step\n",
            "1/1 [==============================] - 0s 24ms/step\n",
            "1/1 [==============================] - 0s 22ms/step\n",
            "1/1 [==============================] - 0s 23ms/step\n",
            "1/1 [==============================] - 0s 23ms/step\n",
            "1/1 [==============================] - 0s 23ms/step\n",
            "1/1 [==============================] - 0s 24ms/step\n",
            "1/1 [==============================] - 0s 25ms/step\n",
            "1/1 [==============================] - 0s 25ms/step\n",
            "1/1 [==============================] - 0s 24ms/step\n",
            "1/1 [==============================] - 0s 25ms/step\n",
            "1/1 [==============================] - 0s 25ms/step\n",
            "1/1 [==============================] - 0s 25ms/step\n",
            "1/1 [==============================] - 0s 24ms/step\n",
            "1/1 [==============================] - 0s 24ms/step\n",
            "1/1 [==============================] - 0s 25ms/step\n",
            "1/1 [==============================] - 0s 27ms/step\n",
            "1/1 [==============================] - 0s 25ms/step\n",
            "1/1 [==============================] - 0s 26ms/step\n",
            "1/1 [==============================] - 0s 29ms/step\n",
            "1/1 [==============================] - 0s 29ms/step\n",
            "1/1 [==============================] - 0s 30ms/step\n",
            "1/1 [==============================] - 0s 28ms/step\n",
            "1/1 [==============================] - 0s 26ms/step\n",
            "1/1 [==============================] - 0s 27ms/step\n",
            "1/1 [==============================] - 0s 27ms/step\n",
            "1/1 [==============================] - 0s 26ms/step\n",
            "1/1 [==============================] - 0s 27ms/step\n",
            "1/1 [==============================] - 0s 27ms/step\n",
            "1/1 [==============================] - 0s 26ms/step\n",
            "1/1 [==============================] - 0s 26ms/step\n",
            "1/1 [==============================] - 0s 26ms/step\n",
            "1/1 [==============================] - 0s 27ms/step\n",
            "1/1 [==============================] - 0s 30ms/step\n",
            "1/1 [==============================] - 0s 30ms/step\n",
            "1/1 [==============================] - 0s 29ms/step\n",
            "1/1 [==============================] - 0s 28ms/step\n",
            "1/1 [==============================] - 0s 27ms/step\n",
            "1/1 [==============================] - 0s 28ms/step\n",
            "1/1 [==============================] - 0s 28ms/step\n",
            "1/1 [==============================] - 0s 27ms/step\n",
            "1/1 [==============================] - 0s 27ms/step\n",
            "1/1 [==============================] - 0s 29ms/step\n",
            "1/1 [==============================] - 0s 36ms/step\n",
            "1/1 [==============================] - 0s 36ms/step\n",
            "1/1 [==============================] - 0s 33ms/step\n",
            "1/1 [==============================] - 0s 29ms/step\n",
            "1/1 [==============================] - 0s 30ms/step\n",
            "1/1 [==============================] - 0s 31ms/step\n",
            "1/1 [==============================] - 0s 30ms/step\n",
            "1/1 [==============================] - 0s 30ms/step\n",
            "1/1 [==============================] - 0s 30ms/step\n",
            "1/1 [==============================] - 0s 31ms/step\n",
            "1/1 [==============================] - 0s 33ms/step\n",
            "1/1 [==============================] - 0s 31ms/step\n",
            "1/1 [==============================] - 0s 31ms/step\n",
            "1/1 [==============================] - 0s 31ms/step\n",
            "1/1 [==============================] - 0s 30ms/step\n",
            "1/1 [==============================] - 0s 30ms/step\n",
            "1/1 [==============================] - 0s 32ms/step\n",
            "1/1 [==============================] - 0s 32ms/step\n",
            "1/1 [==============================] - 0s 32ms/step\n",
            "1/1 [==============================] - 0s 31ms/step\n",
            "1/1 [==============================] - 0s 32ms/step\n",
            "1/1 [==============================] - 0s 31ms/step\n",
            "1/1 [==============================] - 0s 70ms/step\n",
            "1/1 [==============================] - 0s 31ms/step\n",
            "1/1 [==============================] - 0s 31ms/step\n",
            "1/1 [==============================] - 0s 32ms/step\n",
            "1/1 [==============================] - 0s 31ms/step\n",
            "1/1 [==============================] - 0s 31ms/step\n",
            "1/1 [==============================] - 0s 31ms/step\n",
            "1/1 [==============================] - 0s 91ms/step\n",
            "1/1 [==============================] - 0s 31ms/step\n",
            "1/1 [==============================] - 0s 31ms/step\n",
            "1/1 [==============================] - 0s 31ms/step\n",
            "1/1 [==============================] - 0s 32ms/step\n",
            "1/1 [==============================] - 0s 30ms/step\n",
            "1/1 [==============================] - 0s 30ms/step\n",
            "1/1 [==============================] - 0s 32ms/step\n",
            "1/1 [==============================] - 0s 33ms/step\n",
            "1/1 [==============================] - 0s 41ms/step\n",
            "1/1 [==============================] - 0s 98ms/step\n",
            "1/1 [==============================] - 0s 32ms/step\n",
            "1/1 [==============================] - 0s 32ms/step\n",
            "1/1 [==============================] - 0s 30ms/step\n",
            "1/1 [==============================] - 0s 31ms/step\n",
            "1/1 [==============================] - 0s 32ms/step\n",
            "1/1 [==============================] - 0s 54ms/step\n",
            "1/1 [==============================] - 0s 33ms/step\n",
            "1/1 [==============================] - 0s 31ms/step\n",
            "1/1 [==============================] - 0s 31ms/step\n",
            "1/1 [==============================] - 0s 32ms/step\n",
            "1/1 [==============================] - 0s 31ms/step\n",
            "1/1 [==============================] - 0s 32ms/step\n",
            "1/1 [==============================] - 0s 30ms/step\n",
            "1/1 [==============================] - 0s 30ms/step\n",
            "1/1 [==============================] - 0s 32ms/step\n",
            "1/1 [==============================] - 0s 67ms/step\n",
            "1/1 [==============================] - 0s 31ms/step\n",
            "1/1 [==============================] - 0s 33ms/step\n",
            "1/1 [==============================] - 0s 37ms/step\n",
            "1/1 [==============================] - 0s 39ms/step\n",
            "1/1 [==============================] - 0s 33ms/step\n",
            "1/1 [==============================] - 0s 45ms/step\n",
            "1/1 [==============================] - 0s 31ms/step\n",
            "1/1 [==============================] - 0s 31ms/step\n",
            "1/1 [==============================] - 0s 31ms/step\n",
            "1/1 [==============================] - 0s 31ms/step\n",
            "1/1 [==============================] - 0s 31ms/step\n",
            "1/1 [==============================] - 0s 30ms/step\n",
            "1/1 [==============================] - 0s 31ms/step\n",
            "1/1 [==============================] - 0s 31ms/step\n",
            "1/1 [==============================] - 0s 30ms/step\n",
            "1/1 [==============================] - 0s 40ms/step\n",
            "1/1 [==============================] - 0s 31ms/step\n",
            "1/1 [==============================] - 0s 31ms/step\n",
            "1/1 [==============================] - 0s 31ms/step\n",
            "1/1 [==============================] - 0s 31ms/step\n",
            "1/1 [==============================] - 0s 30ms/step\n",
            "1/1 [==============================] - 0s 31ms/step\n",
            "1/1 [==============================] - 0s 30ms/step\n",
            "1/1 [==============================] - 0s 31ms/step\n",
            "1/1 [==============================] - 0s 31ms/step\n",
            "1/1 [==============================] - 0s 31ms/step\n",
            "1/1 [==============================] - 0s 32ms/step\n",
            "1/1 [==============================] - 0s 31ms/step\n",
            "1/1 [==============================] - 0s 31ms/step\n",
            "1/1 [==============================] - 0s 31ms/step\n",
            "1/1 [==============================] - 0s 32ms/step\n",
            "1/1 [==============================] - 0s 31ms/step\n",
            "1/1 [==============================] - 0s 34ms/step\n",
            "1/1 [==============================] - 0s 34ms/step\n",
            "1/1 [==============================] - 0s 34ms/step\n",
            "1/1 [==============================] - 0s 34ms/step\n",
            "1/1 [==============================] - 0s 32ms/step\n",
            "1/1 [==============================] - 0s 31ms/step\n",
            "1/1 [==============================] - 0s 32ms/step\n",
            "1/1 [==============================] - 0s 32ms/step\n",
            "1/1 [==============================] - 0s 31ms/step\n",
            "1/1 [==============================] - 0s 32ms/step\n",
            "1/1 [==============================] - 0s 30ms/step\n",
            "1/1 [==============================] - 0s 32ms/step\n",
            "1/1 [==============================] - 0s 31ms/step\n",
            "1/1 [==============================] - 0s 31ms/step\n",
            "1/1 [==============================] - 0s 31ms/step\n",
            "1/1 [==============================] - 0s 30ms/step\n",
            "1/1 [==============================] - 0s 31ms/step\n",
            "1/1 [==============================] - 0s 30ms/step\n",
            "1/1 [==============================] - 0s 31ms/step\n",
            "1/1 [==============================] - 0s 30ms/step\n",
            "1/1 [==============================] - 0s 31ms/step\n",
            "1/1 [==============================] - 0s 30ms/step\n",
            "1/1 [==============================] - 0s 31ms/step\n",
            "1/1 [==============================] - 0s 31ms/step\n",
            "1/1 [==============================] - 0s 31ms/step\n",
            "1/1 [==============================] - 0s 30ms/step\n",
            "1/1 [==============================] - 0s 31ms/step\n",
            "1/1 [==============================] - 0s 30ms/step\n",
            "1/1 [==============================] - 0s 30ms/step\n",
            "1/1 [==============================] - 0s 33ms/step\n",
            "1/1 [==============================] - 0s 31ms/step\n",
            "1/1 [==============================] - 0s 31ms/step\n",
            "1/1 [==============================] - 0s 31ms/step\n",
            "1/1 [==============================] - 0s 30ms/step\n",
            "1/1 [==============================] - 0s 31ms/step\n",
            "1/1 [==============================] - 0s 31ms/step\n",
            "1/1 [==============================] - 0s 31ms/step\n",
            "1/1 [==============================] - 0s 31ms/step\n",
            "1/1 [==============================] - 0s 32ms/step\n",
            "1/1 [==============================] - 0s 81ms/step\n",
            "1/1 [==============================] - 0s 33ms/step\n",
            "1/1 [==============================] - 0s 32ms/step\n",
            "1/1 [==============================] - 0s 32ms/step\n",
            "1/1 [==============================] - 0s 32ms/step\n",
            "1/1 [==============================] - 0s 31ms/step\n",
            "1/1 [==============================] - 0s 76ms/step\n",
            "1/1 [==============================] - 0s 66ms/step\n",
            "1/1 [==============================] - 0s 48ms/step\n",
            "1/1 [==============================] - 0s 52ms/step\n",
            "1/1 [==============================] - 0s 38ms/step\n",
            "1/1 [==============================] - 0s 39ms/step\n",
            "1/1 [==============================] - 0s 32ms/step\n",
            "1/1 [==============================] - 0s 33ms/step\n",
            "1/1 [==============================] - 0s 30ms/step\n",
            "1/1 [==============================] - 0s 30ms/step\n",
            "1/1 [==============================] - 0s 31ms/step\n",
            "1/1 [==============================] - 0s 30ms/step\n",
            "1/1 [==============================] - 0s 33ms/step\n",
            "1/1 [==============================] - 0s 32ms/step\n",
            "1/1 [==============================] - 0s 30ms/step\n",
            "1/1 [==============================] - 0s 31ms/step\n",
            "1/1 [==============================] - 0s 30ms/step\n",
            "1/1 [==============================] - 0s 33ms/step\n",
            "1/1 [==============================] - 0s 30ms/step\n",
            "1/1 [==============================] - 0s 30ms/step\n",
            "1/1 [==============================] - 0s 30ms/step\n",
            "1/1 [==============================] - 0s 33ms/step\n",
            "1/1 [==============================] - 0s 32ms/step\n",
            "1/1 [==============================] - 0s 36ms/step\n",
            "1/1 [==============================] - 0s 33ms/step\n",
            "1/1 [==============================] - 0s 34ms/step\n",
            "1/1 [==============================] - 0s 32ms/step\n",
            "1/1 [==============================] - 0s 31ms/step\n",
            "1/1 [==============================] - 0s 30ms/step\n",
            "1/1 [==============================] - 0s 76ms/step\n",
            "1/1 [==============================] - 0s 34ms/step\n",
            "1/1 [==============================] - 0s 32ms/step\n",
            "1/1 [==============================] - 0s 39ms/step\n",
            "1/1 [==============================] - 0s 31ms/step\n",
            "1/1 [==============================] - 0s 30ms/step\n",
            "1/1 [==============================] - 0s 31ms/step\n",
            "1/1 [==============================] - 0s 30ms/step\n",
            "1/1 [==============================] - 0s 31ms/step\n",
            "1/1 [==============================] - 0s 30ms/step\n",
            "1/1 [==============================] - 0s 30ms/step\n",
            "1/1 [==============================] - 0s 34ms/step\n",
            "1/1 [==============================] - 0s 32ms/step\n",
            "1/1 [==============================] - 0s 30ms/step\n",
            "1/1 [==============================] - 0s 31ms/step\n",
            "1/1 [==============================] - 0s 37ms/step\n",
            "1/1 [==============================] - 0s 32ms/step\n",
            "1/1 [==============================] - 0s 31ms/step\n",
            "1/1 [==============================] - 0s 30ms/step\n",
            "1/1 [==============================] - 0s 39ms/step\n",
            "1/1 [==============================] - 0s 31ms/step\n",
            "1/1 [==============================] - 0s 30ms/step\n",
            "1/1 [==============================] - 0s 30ms/step\n",
            "1/1 [==============================] - 0s 31ms/step\n",
            "1/1 [==============================] - 0s 31ms/step\n",
            "1/1 [==============================] - 0s 30ms/step\n",
            "1/1 [==============================] - 0s 59ms/step\n",
            "1/1 [==============================] - 0s 31ms/step\n",
            "1/1 [==============================] - 0s 31ms/step\n",
            "1/1 [==============================] - 0s 31ms/step\n",
            "1/1 [==============================] - 0s 31ms/step\n",
            "1/1 [==============================] - 0s 30ms/step\n",
            "1/1 [==============================] - 0s 33ms/step\n",
            "1/1 [==============================] - 0s 30ms/step\n",
            "1/1 [==============================] - 0s 31ms/step\n",
            "1/1 [==============================] - 0s 46ms/step\n",
            "1/1 [==============================] - 0s 39ms/step\n",
            "1/1 [==============================] - 0s 36ms/step\n",
            "1/1 [==============================] - 0s 35ms/step\n",
            "1/1 [==============================] - 0s 33ms/step\n",
            "1/1 [==============================] - 0s 33ms/step\n",
            "1/1 [==============================] - 0s 32ms/step\n",
            "1/1 [==============================] - 0s 76ms/step\n",
            "1/1 [==============================] - 0s 31ms/step\n",
            "1/1 [==============================] - 0s 40ms/step\n",
            "1/1 [==============================] - 0s 32ms/step\n",
            "1/1 [==============================] - 0s 30ms/step\n",
            "1/1 [==============================] - 0s 34ms/step\n",
            "1/1 [==============================] - 0s 32ms/step\n",
            "1/1 [==============================] - 0s 62ms/step\n",
            "1/1 [==============================] - 0s 34ms/step\n",
            "1/1 [==============================] - 0s 33ms/step\n",
            "1/1 [==============================] - 0s 32ms/step\n",
            "1/1 [==============================] - 0s 35ms/step\n",
            "1/1 [==============================] - 0s 34ms/step\n",
            "1/1 [==============================] - 0s 32ms/step\n",
            "1/1 [==============================] - 0s 32ms/step\n",
            "1/1 [==============================] - 0s 32ms/step\n",
            "1/1 [==============================] - 0s 30ms/step\n",
            "1/1 [==============================] - 0s 31ms/step\n",
            "1/1 [==============================] - 0s 31ms/step\n",
            "1/1 [==============================] - 0s 30ms/step\n",
            "1/1 [==============================] - 0s 31ms/step\n",
            "1/1 [==============================] - 0s 31ms/step\n",
            "1/1 [==============================] - 0s 31ms/step\n",
            "1/1 [==============================] - 0s 31ms/step\n",
            "1/1 [==============================] - 0s 33ms/step\n",
            "1/1 [==============================] - 0s 34ms/step\n",
            "1/1 [==============================] - 0s 38ms/step\n",
            "1/1 [==============================] - 0s 32ms/step\n",
            "1/1 [==============================] - 0s 32ms/step\n",
            "1/1 [==============================] - 0s 37ms/step\n",
            "1/1 [==============================] - 0s 128ms/step\n",
            "1/1 [==============================] - 0s 45ms/step\n",
            "1/1 [==============================] - 0s 39ms/step\n",
            "1/1 [==============================] - 0s 39ms/step\n",
            "1/1 [==============================] - 0s 37ms/step\n",
            "1/1 [==============================] - 0s 35ms/step\n",
            "1/1 [==============================] - 0s 31ms/step\n",
            "1/1 [==============================] - 0s 105ms/step\n",
            "1/1 [==============================] - 0s 72ms/step\n",
            "1/1 [==============================] - 0s 32ms/step\n",
            "1/1 [==============================] - 0s 30ms/step\n",
            "1/1 [==============================] - 0s 39ms/step\n",
            "1/1 [==============================] - 0s 32ms/step\n",
            "1/1 [==============================] - 0s 31ms/step\n",
            "1/1 [==============================] - 0s 31ms/step\n",
            "1/1 [==============================] - 0s 31ms/step\n",
            "It's time to release the Kraken when the enemy’s men were scattered, they prevented them from\n",
            "concentrating; even when their forces were united, they managed to keep\n",
            "them in disorder.\n",
            "\n",
            "17. when it was to their advantage, they made a forward move; if not, stay where\n",
            "you are.\n",
            "\n",
            "20. anger may in time change to gladness; vexation may be su\n"
          ]
        }
      ],
      "source": [
        "print(generate_text(model, tokenizer, \"It's time to release the Kraken when\", num_chars=300, temperature=0.5))"
      ]
    },
    {
      "cell_type": "code",
      "execution_count": 67,
      "metadata": {
        "id": "0LAiIE6IGb1H"
      },
      "outputs": [
        {
          "name": "stdout",
          "output_type": "stream",
          "text": [
            "100\n",
            "1/1 [==============================] - 0s 28ms/step\n",
            "preds shape is (1, 51, 57)\n",
            "1/1 [==============================] - 0s 28ms/step\n",
            "1/1 [==============================] - 0s 25ms/step\n",
            "1/1 [==============================] - 0s 29ms/step\n",
            "1/1 [==============================] - 0s 25ms/step\n",
            "1/1 [==============================] - 0s 28ms/step\n",
            "1/1 [==============================] - 0s 36ms/step\n",
            "1/1 [==============================] - 0s 25ms/step\n",
            "1/1 [==============================] - 0s 25ms/step\n",
            "1/1 [==============================] - 0s 26ms/step\n",
            "1/1 [==============================] - 0s 27ms/step\n",
            "1/1 [==============================] - 0s 28ms/step\n",
            "1/1 [==============================] - 0s 29ms/step\n",
            "1/1 [==============================] - 0s 28ms/step\n",
            "1/1 [==============================] - 0s 29ms/step\n",
            "1/1 [==============================] - 0s 42ms/step\n",
            "1/1 [==============================] - 0s 30ms/step\n",
            "1/1 [==============================] - 0s 41ms/step\n",
            "1/1 [==============================] - 0s 31ms/step\n",
            "1/1 [==============================] - 0s 31ms/step\n",
            "1/1 [==============================] - 0s 27ms/step\n",
            "1/1 [==============================] - 0s 28ms/step\n",
            "1/1 [==============================] - 0s 31ms/step\n",
            "1/1 [==============================] - 0s 28ms/step\n",
            "1/1 [==============================] - 0s 29ms/step\n",
            "1/1 [==============================] - 0s 27ms/step\n",
            "1/1 [==============================] - 0s 60ms/step\n",
            "1/1 [==============================] - 0s 34ms/step\n",
            "1/1 [==============================] - 0s 33ms/step\n",
            "1/1 [==============================] - 0s 30ms/step\n",
            "1/1 [==============================] - 0s 30ms/step\n",
            "1/1 [==============================] - 0s 31ms/step\n",
            "1/1 [==============================] - 0s 30ms/step\n",
            "1/1 [==============================] - 0s 28ms/step\n",
            "1/1 [==============================] - 0s 27ms/step\n",
            "1/1 [==============================] - 0s 29ms/step\n",
            "1/1 [==============================] - 0s 29ms/step\n",
            "1/1 [==============================] - 0s 29ms/step\n",
            "1/1 [==============================] - 0s 29ms/step\n",
            "1/1 [==============================] - 0s 30ms/step\n",
            "1/1 [==============================] - 0s 31ms/step\n",
            "1/1 [==============================] - 0s 29ms/step\n",
            "1/1 [==============================] - 0s 32ms/step\n",
            "1/1 [==============================] - 0s 31ms/step\n",
            "1/1 [==============================] - 0s 32ms/step\n",
            "1/1 [==============================] - 0s 29ms/step\n",
            "1/1 [==============================] - 0s 31ms/step\n",
            "1/1 [==============================] - 0s 30ms/step\n",
            "1/1 [==============================] - 0s 31ms/step\n",
            "1/1 [==============================] - 0s 33ms/step\n",
            "1/1 [==============================] - 0s 35ms/step\n",
            "1/1 [==============================] - 0s 31ms/step\n",
            "1/1 [==============================] - 0s 33ms/step\n",
            "1/1 [==============================] - 0s 35ms/step\n",
            "1/1 [==============================] - 0s 82ms/step\n",
            "1/1 [==============================] - 0s 32ms/step\n",
            "1/1 [==============================] - 0s 32ms/step\n",
            "1/1 [==============================] - 0s 32ms/step\n",
            "1/1 [==============================] - 0s 32ms/step\n",
            "1/1 [==============================] - 0s 33ms/step\n",
            "1/1 [==============================] - 0s 33ms/step\n",
            "1/1 [==============================] - 0s 33ms/step\n",
            "1/1 [==============================] - 0s 31ms/step\n",
            "1/1 [==============================] - 0s 30ms/step\n",
            "1/1 [==============================] - 0s 31ms/step\n",
            "1/1 [==============================] - 0s 33ms/step\n",
            "1/1 [==============================] - 0s 32ms/step\n",
            "1/1 [==============================] - 0s 31ms/step\n",
            "1/1 [==============================] - 0s 30ms/step\n",
            "1/1 [==============================] - 0s 30ms/step\n",
            "1/1 [==============================] - 0s 33ms/step\n",
            "1/1 [==============================] - 0s 31ms/step\n",
            "1/1 [==============================] - 0s 30ms/step\n",
            "1/1 [==============================] - 0s 30ms/step\n",
            "1/1 [==============================] - 0s 32ms/step\n",
            "1/1 [==============================] - 0s 31ms/step\n",
            "1/1 [==============================] - 0s 32ms/step\n",
            "1/1 [==============================] - 0s 31ms/step\n",
            "1/1 [==============================] - 0s 32ms/step\n",
            "1/1 [==============================] - 0s 35ms/step\n",
            "1/1 [==============================] - 0s 34ms/step\n",
            "1/1 [==============================] - 0s 32ms/step\n",
            "1/1 [==============================] - 0s 33ms/step\n",
            "1/1 [==============================] - 0s 33ms/step\n",
            "1/1 [==============================] - 0s 33ms/step\n",
            "1/1 [==============================] - 0s 31ms/step\n",
            "1/1 [==============================] - 0s 31ms/step\n",
            "1/1 [==============================] - 0s 32ms/step\n",
            "1/1 [==============================] - 0s 30ms/step\n",
            "1/1 [==============================] - 0s 32ms/step\n",
            "1/1 [==============================] - 0s 31ms/step\n",
            "1/1 [==============================] - 0s 32ms/step\n",
            "1/1 [==============================] - 0s 30ms/step\n",
            "1/1 [==============================] - 0s 31ms/step\n",
            "1/1 [==============================] - 0s 30ms/step\n",
            "1/1 [==============================] - 0s 32ms/step\n",
            "1/1 [==============================] - 0s 30ms/step\n",
            "1/1 [==============================] - 0s 31ms/step\n",
            "1/1 [==============================] - 0s 31ms/step\n",
            "1/1 [==============================] - 0s 31ms/step\n",
            "1/1 [==============================] - 0s 32ms/step\n",
            "1/1 [==============================] - 0s 36ms/step\n",
            "1/1 [==============================] - 0s 36ms/step\n",
            "1/1 [==============================] - 0s 92ms/step\n",
            "1/1 [==============================] - 0s 34ms/step\n",
            "1/1 [==============================] - 0s 36ms/step\n",
            "1/1 [==============================] - 0s 34ms/step\n",
            "1/1 [==============================] - 0s 32ms/step\n",
            "1/1 [==============================] - 0s 31ms/step\n",
            "1/1 [==============================] - 0s 30ms/step\n",
            "1/1 [==============================] - 0s 30ms/step\n",
            "1/1 [==============================] - 0s 30ms/step\n",
            "1/1 [==============================] - 0s 30ms/step\n",
            "1/1 [==============================] - 0s 32ms/step\n",
            "1/1 [==============================] - 0s 30ms/step\n",
            "1/1 [==============================] - 0s 31ms/step\n",
            "1/1 [==============================] - 0s 30ms/step\n",
            "1/1 [==============================] - 0s 30ms/step\n",
            "1/1 [==============================] - 0s 37ms/step\n",
            "1/1 [==============================] - 0s 30ms/step\n",
            "1/1 [==============================] - 0s 29ms/step\n",
            "1/1 [==============================] - 0s 29ms/step\n",
            "1/1 [==============================] - 0s 31ms/step\n",
            "1/1 [==============================] - 0s 31ms/step\n",
            "1/1 [==============================] - 0s 31ms/step\n",
            "1/1 [==============================] - 0s 31ms/step\n",
            "1/1 [==============================] - 0s 30ms/step\n",
            "1/1 [==============================] - 0s 29ms/step\n",
            "1/1 [==============================] - 0s 30ms/step\n",
            "1/1 [==============================] - 0s 29ms/step\n",
            "1/1 [==============================] - 0s 30ms/step\n",
            "1/1 [==============================] - 0s 30ms/step\n",
            "1/1 [==============================] - 0s 32ms/step\n",
            "1/1 [==============================] - 0s 38ms/step\n",
            "1/1 [==============================] - 0s 30ms/step\n",
            "1/1 [==============================] - 0s 30ms/step\n",
            "1/1 [==============================] - 0s 34ms/step\n",
            "1/1 [==============================] - 0s 32ms/step\n",
            "1/1 [==============================] - 0s 30ms/step\n",
            "1/1 [==============================] - 0s 31ms/step\n",
            "1/1 [==============================] - 0s 29ms/step\n",
            "1/1 [==============================] - 0s 31ms/step\n",
            "1/1 [==============================] - 0s 31ms/step\n",
            "1/1 [==============================] - 0s 31ms/step\n",
            "1/1 [==============================] - 0s 31ms/step\n",
            "1/1 [==============================] - 0s 30ms/step\n",
            "1/1 [==============================] - 0s 31ms/step\n",
            "1/1 [==============================] - 0s 31ms/step\n",
            "1/1 [==============================] - 0s 30ms/step\n",
            "1/1 [==============================] - 0s 30ms/step\n",
            "1/1 [==============================] - 0s 33ms/step\n",
            "1/1 [==============================] - 0s 33ms/step\n",
            "1/1 [==============================] - 0s 34ms/step\n",
            "1/1 [==============================] - 0s 31ms/step\n",
            "1/1 [==============================] - 0s 31ms/step\n",
            "1/1 [==============================] - 0s 31ms/step\n",
            "1/1 [==============================] - 0s 30ms/step\n",
            "1/1 [==============================] - 0s 30ms/step\n",
            "1/1 [==============================] - 0s 30ms/step\n",
            "1/1 [==============================] - 0s 29ms/step\n",
            "1/1 [==============================] - 0s 31ms/step\n",
            "1/1 [==============================] - 0s 30ms/step\n",
            "1/1 [==============================] - 0s 30ms/step\n",
            "1/1 [==============================] - 0s 30ms/step\n",
            "1/1 [==============================] - 0s 30ms/step\n",
            "1/1 [==============================] - 0s 30ms/step\n",
            "1/1 [==============================] - 0s 30ms/step\n",
            "1/1 [==============================] - 0s 30ms/step\n",
            "1/1 [==============================] - 0s 30ms/step\n",
            "1/1 [==============================] - 0s 30ms/step\n",
            "1/1 [==============================] - 0s 30ms/step\n",
            "1/1 [==============================] - 0s 30ms/step\n",
            "1/1 [==============================] - 0s 30ms/step\n",
            "1/1 [==============================] - 0s 30ms/step\n",
            "1/1 [==============================] - 0s 30ms/step\n",
            "1/1 [==============================] - 0s 30ms/step\n",
            "1/1 [==============================] - 0s 30ms/step\n",
            "1/1 [==============================] - 0s 30ms/step\n",
            "1/1 [==============================] - 0s 30ms/step\n",
            "1/1 [==============================] - 0s 30ms/step\n",
            "1/1 [==============================] - 0s 30ms/step\n",
            "1/1 [==============================] - 0s 30ms/step\n",
            "1/1 [==============================] - 0s 30ms/step\n",
            "1/1 [==============================] - 0s 30ms/step\n",
            "1/1 [==============================] - 0s 30ms/step\n",
            "1/1 [==============================] - 0s 30ms/step\n",
            "1/1 [==============================] - 0s 29ms/step\n",
            "1/1 [==============================] - 0s 30ms/step\n",
            "1/1 [==============================] - 0s 30ms/step\n",
            "1/1 [==============================] - 0s 31ms/step\n",
            "1/1 [==============================] - 0s 31ms/step\n",
            "1/1 [==============================] - 0s 29ms/step\n",
            "1/1 [==============================] - 0s 30ms/step\n",
            "1/1 [==============================] - 0s 30ms/step\n",
            "1/1 [==============================] - 0s 30ms/step\n",
            "1/1 [==============================] - 0s 29ms/step\n",
            "1/1 [==============================] - 0s 30ms/step\n",
            "1/1 [==============================] - 0s 30ms/step\n",
            "1/1 [==============================] - 0s 30ms/step\n",
            "1/1 [==============================] - 0s 30ms/step\n",
            "1/1 [==============================] - 0s 30ms/step\n",
            "1/1 [==============================] - 0s 30ms/step\n",
            "1/1 [==============================] - 0s 35ms/step\n",
            "1/1 [==============================] - 0s 30ms/step\n",
            "1/1 [==============================] - 0s 30ms/step\n",
            "1/1 [==============================] - 0s 31ms/step\n",
            "1/1 [==============================] - 0s 30ms/step\n",
            "1/1 [==============================] - 0s 30ms/step\n",
            "1/1 [==============================] - 0s 30ms/step\n",
            "1/1 [==============================] - 0s 30ms/step\n",
            "1/1 [==============================] - 0s 30ms/step\n",
            "1/1 [==============================] - 0s 31ms/step\n",
            "1/1 [==============================] - 0s 30ms/step\n",
            "1/1 [==============================] - 0s 30ms/step\n",
            "1/1 [==============================] - 0s 30ms/step\n",
            "1/1 [==============================] - 0s 30ms/step\n",
            "1/1 [==============================] - 0s 30ms/step\n",
            "1/1 [==============================] - 0s 31ms/step\n",
            "1/1 [==============================] - 0s 30ms/step\n",
            "1/1 [==============================] - 0s 30ms/step\n",
            "1/1 [==============================] - 0s 30ms/step\n",
            "1/1 [==============================] - 0s 31ms/step\n",
            "1/1 [==============================] - 0s 31ms/step\n",
            "1/1 [==============================] - 0s 30ms/step\n",
            "1/1 [==============================] - 0s 30ms/step\n",
            "1/1 [==============================] - 0s 41ms/step\n",
            "1/1 [==============================] - 0s 32ms/step\n",
            "1/1 [==============================] - 0s 30ms/step\n",
            "1/1 [==============================] - 0s 30ms/step\n",
            "1/1 [==============================] - 0s 29ms/step\n",
            "1/1 [==============================] - 0s 30ms/step\n",
            "1/1 [==============================] - 0s 30ms/step\n",
            "1/1 [==============================] - 0s 30ms/step\n",
            "1/1 [==============================] - 0s 30ms/step\n",
            "1/1 [==============================] - 0s 30ms/step\n",
            "1/1 [==============================] - 0s 30ms/step\n",
            "1/1 [==============================] - 0s 32ms/step\n",
            "1/1 [==============================] - 0s 30ms/step\n",
            "1/1 [==============================] - 0s 29ms/step\n",
            "1/1 [==============================] - 0s 29ms/step\n",
            "1/1 [==============================] - 0s 30ms/step\n",
            "1/1 [==============================] - 0s 31ms/step\n",
            "1/1 [==============================] - 0s 29ms/step\n",
            "1/1 [==============================] - 0s 30ms/step\n",
            "1/1 [==============================] - 0s 29ms/step\n",
            "1/1 [==============================] - 0s 30ms/step\n",
            "1/1 [==============================] - 0s 30ms/step\n",
            "1/1 [==============================] - 0s 29ms/step\n",
            "1/1 [==============================] - 0s 30ms/step\n",
            "1/1 [==============================] - 0s 30ms/step\n",
            "1/1 [==============================] - 0s 30ms/step\n",
            "1/1 [==============================] - 0s 30ms/step\n",
            "1/1 [==============================] - 0s 29ms/step\n",
            "1/1 [==============================] - 0s 30ms/step\n",
            "1/1 [==============================] - 0s 30ms/step\n",
            "1/1 [==============================] - 0s 30ms/step\n",
            "1/1 [==============================] - 0s 29ms/step\n",
            "1/1 [==============================] - 0s 30ms/step\n",
            "1/1 [==============================] - 0s 29ms/step\n",
            "1/1 [==============================] - 0s 32ms/step\n",
            "1/1 [==============================] - 0s 30ms/step\n",
            "1/1 [==============================] - 0s 30ms/step\n",
            "1/1 [==============================] - 0s 30ms/step\n",
            "1/1 [==============================] - 0s 31ms/step\n",
            "1/1 [==============================] - 0s 31ms/step\n",
            "1/1 [==============================] - 0s 30ms/step\n",
            "1/1 [==============================] - 0s 31ms/step\n",
            "1/1 [==============================] - 0s 31ms/step\n",
            "1/1 [==============================] - 0s 31ms/step\n",
            "1/1 [==============================] - 0s 30ms/step\n",
            "1/1 [==============================] - 0s 31ms/step\n",
            "1/1 [==============================] - 0s 32ms/step\n",
            "1/1 [==============================] - 0s 31ms/step\n",
            "1/1 [==============================] - 0s 31ms/step\n",
            "1/1 [==============================] - 0s 30ms/step\n",
            "1/1 [==============================] - 0s 31ms/step\n",
            "1/1 [==============================] - 0s 33ms/step\n",
            "1/1 [==============================] - 0s 32ms/step\n",
            "1/1 [==============================] - 0s 31ms/step\n",
            "1/1 [==============================] - 0s 30ms/step\n",
            "1/1 [==============================] - 0s 31ms/step\n",
            "1/1 [==============================] - 0s 30ms/step\n",
            "1/1 [==============================] - 0s 31ms/step\n",
            "1/1 [==============================] - 0s 31ms/step\n",
            "1/1 [==============================] - 0s 31ms/step\n",
            "1/1 [==============================] - 0s 30ms/step\n",
            "1/1 [==============================] - 0s 31ms/step\n",
            "1/1 [==============================] - 0s 30ms/step\n",
            "1/1 [==============================] - 0s 31ms/step\n",
            "1/1 [==============================] - 0s 30ms/step\n",
            "1/1 [==============================] - 0s 33ms/step\n",
            "1/1 [==============================] - 0s 31ms/step\n",
            "1/1 [==============================] - 0s 31ms/step\n",
            "1/1 [==============================] - 0s 31ms/step\n",
            "1/1 [==============================] - 0s 31ms/step\n",
            "1/1 [==============================] - 0s 31ms/step\n",
            "1/1 [==============================] - 0s 32ms/step\n",
            "1/1 [==============================] - 0s 32ms/step\n",
            "1/1 [==============================] - 0s 31ms/step\n",
            "1/1 [==============================] - 0s 30ms/step\n",
            "Crush your enemies, see them driven before you, and when the men will be\n",
            "impotent to succour the right, and it will be able to handle a whole army\n",
            "as though you had to do with but a single man.\n",
            "\n",
            "57. confront your soldiers with the deed itself; never let them know\n",
            "your design. when the outlook is bright, bring it before their eyes;\n",
            "but tell them noth\n"
          ]
        }
      ],
      "source": [
        "print(generate_text(model, tokenizer, \"Crush your enemies, see them driven before you, and\", num_chars=300,\n",
        "                    temperature=1))"
      ]
    },
    {
      "cell_type": "code",
      "execution_count": 68,
      "metadata": {
        "id": "oEALULBOZ75z"
      },
      "outputs": [
        {
          "name": "stdout",
          "output_type": "stream",
          "text": [
            "100\n",
            "1/1 [==============================] - 0s 20ms/step\n",
            "preds shape is (1, 21, 57)\n",
            "1/1 [==============================] - 0s 20ms/step\n",
            "1/1 [==============================] - 0s 22ms/step\n",
            "1/1 [==============================] - 0s 22ms/step\n",
            "1/1 [==============================] - 0s 21ms/step\n",
            "1/1 [==============================] - 0s 21ms/step\n",
            "1/1 [==============================] - 0s 20ms/step\n",
            "1/1 [==============================] - 0s 21ms/step\n",
            "1/1 [==============================] - 0s 23ms/step\n",
            "1/1 [==============================] - 0s 21ms/step\n",
            "1/1 [==============================] - 0s 20ms/step\n",
            "1/1 [==============================] - 0s 23ms/step\n",
            "1/1 [==============================] - 0s 22ms/step\n",
            "1/1 [==============================] - 0s 23ms/step\n",
            "1/1 [==============================] - 0s 21ms/step\n",
            "1/1 [==============================] - 0s 21ms/step\n",
            "1/1 [==============================] - 0s 23ms/step\n",
            "1/1 [==============================] - 0s 23ms/step\n",
            "1/1 [==============================] - 0s 72ms/step\n",
            "1/1 [==============================] - 0s 24ms/step\n",
            "1/1 [==============================] - 0s 23ms/step\n",
            "1/1 [==============================] - 0s 24ms/step\n",
            "1/1 [==============================] - 0s 24ms/step\n",
            "1/1 [==============================] - 0s 25ms/step\n",
            "1/1 [==============================] - 0s 24ms/step\n",
            "1/1 [==============================] - 0s 25ms/step\n",
            "1/1 [==============================] - 0s 26ms/step\n",
            "1/1 [==============================] - 0s 27ms/step\n",
            "1/1 [==============================] - 0s 25ms/step\n",
            "1/1 [==============================] - 0s 26ms/step\n",
            "1/1 [==============================] - 0s 29ms/step\n",
            "1/1 [==============================] - 0s 26ms/step\n",
            "1/1 [==============================] - 0s 27ms/step\n",
            "1/1 [==============================] - 0s 25ms/step\n",
            "1/1 [==============================] - 0s 26ms/step\n",
            "1/1 [==============================] - 0s 27ms/step\n",
            "1/1 [==============================] - 0s 26ms/step\n",
            "1/1 [==============================] - 0s 26ms/step\n",
            "1/1 [==============================] - 0s 26ms/step\n",
            "1/1 [==============================] - 0s 27ms/step\n",
            "1/1 [==============================] - 0s 27ms/step\n",
            "1/1 [==============================] - 0s 26ms/step\n",
            "1/1 [==============================] - 0s 29ms/step\n",
            "1/1 [==============================] - 0s 36ms/step\n",
            "1/1 [==============================] - 0s 28ms/step\n",
            "1/1 [==============================] - 0s 29ms/step\n",
            "1/1 [==============================] - 0s 28ms/step\n",
            "1/1 [==============================] - 0s 27ms/step\n",
            "1/1 [==============================] - 0s 29ms/step\n",
            "1/1 [==============================] - 0s 28ms/step\n",
            "1/1 [==============================] - 0s 27ms/step\n",
            "1/1 [==============================] - 0s 28ms/step\n",
            "1/1 [==============================] - 0s 30ms/step\n",
            "1/1 [==============================] - 0s 32ms/step\n",
            "1/1 [==============================] - 0s 58ms/step\n",
            "1/1 [==============================] - 0s 44ms/step\n",
            "1/1 [==============================] - 0s 49ms/step\n",
            "1/1 [==============================] - 0s 50ms/step\n",
            "1/1 [==============================] - 0s 105ms/step\n",
            "1/1 [==============================] - 0s 76ms/step\n",
            "1/1 [==============================] - 0s 37ms/step\n",
            "1/1 [==============================] - 0s 36ms/step\n",
            "1/1 [==============================] - 0s 30ms/step\n",
            "1/1 [==============================] - 0s 31ms/step\n",
            "1/1 [==============================] - 0s 31ms/step\n",
            "1/1 [==============================] - 0s 32ms/step\n",
            "1/1 [==============================] - 0s 29ms/step\n",
            "1/1 [==============================] - 0s 29ms/step\n",
            "1/1 [==============================] - 0s 30ms/step\n",
            "1/1 [==============================] - 0s 31ms/step\n",
            "1/1 [==============================] - 0s 33ms/step\n",
            "1/1 [==============================] - 0s 30ms/step\n",
            "1/1 [==============================] - 0s 31ms/step\n",
            "1/1 [==============================] - 0s 30ms/step\n",
            "1/1 [==============================] - 0s 32ms/step\n",
            "1/1 [==============================] - 0s 31ms/step\n",
            "1/1 [==============================] - 0s 32ms/step\n",
            "1/1 [==============================] - 0s 31ms/step\n",
            "1/1 [==============================] - 0s 32ms/step\n",
            "1/1 [==============================] - 0s 33ms/step\n",
            "1/1 [==============================] - 0s 31ms/step\n",
            "1/1 [==============================] - 0s 34ms/step\n",
            "1/1 [==============================] - 0s 31ms/step\n",
            "1/1 [==============================] - 0s 31ms/step\n",
            "1/1 [==============================] - 0s 32ms/step\n",
            "1/1 [==============================] - 0s 32ms/step\n",
            "1/1 [==============================] - 0s 31ms/step\n",
            "1/1 [==============================] - 0s 42ms/step\n",
            "1/1 [==============================] - 0s 32ms/step\n",
            "1/1 [==============================] - 0s 32ms/step\n",
            "1/1 [==============================] - 0s 32ms/step\n",
            "1/1 [==============================] - 0s 32ms/step\n",
            "1/1 [==============================] - 0s 33ms/step\n",
            "1/1 [==============================] - 0s 31ms/step\n",
            "1/1 [==============================] - 0s 51ms/step\n",
            "1/1 [==============================] - 0s 37ms/step\n",
            "1/1 [==============================] - 0s 35ms/step\n",
            "1/1 [==============================] - 0s 33ms/step\n",
            "1/1 [==============================] - 0s 32ms/step\n",
            "1/1 [==============================] - 0s 32ms/step\n",
            "1/1 [==============================] - 0s 32ms/step\n",
            "1/1 [==============================] - 0s 32ms/step\n",
            "1/1 [==============================] - 0s 54ms/step\n",
            "1/1 [==============================] - 0s 42ms/step\n",
            "1/1 [==============================] - 0s 36ms/step\n",
            "1/1 [==============================] - 0s 44ms/step\n",
            "1/1 [==============================] - 0s 32ms/step\n",
            "1/1 [==============================] - 0s 33ms/step\n",
            "1/1 [==============================] - 0s 33ms/step\n",
            "1/1 [==============================] - 0s 36ms/step\n",
            "1/1 [==============================] - 0s 33ms/step\n",
            "1/1 [==============================] - 0s 33ms/step\n",
            "1/1 [==============================] - 0s 32ms/step\n",
            "1/1 [==============================] - 0s 33ms/step\n",
            "1/1 [==============================] - 0s 32ms/step\n",
            "1/1 [==============================] - 0s 33ms/step\n",
            "1/1 [==============================] - 0s 35ms/step\n",
            "1/1 [==============================] - 0s 33ms/step\n",
            "1/1 [==============================] - 0s 33ms/step\n",
            "1/1 [==============================] - 0s 33ms/step\n",
            "1/1 [==============================] - 0s 33ms/step\n",
            "1/1 [==============================] - 0s 35ms/step\n",
            "1/1 [==============================] - 0s 33ms/step\n",
            "1/1 [==============================] - 0s 33ms/step\n",
            "1/1 [==============================] - 0s 32ms/step\n",
            "1/1 [==============================] - 0s 33ms/step\n",
            "1/1 [==============================] - 0s 36ms/step\n",
            "1/1 [==============================] - 0s 32ms/step\n",
            "1/1 [==============================] - 0s 32ms/step\n",
            "1/1 [==============================] - 0s 31ms/step\n",
            "1/1 [==============================] - 0s 42ms/step\n",
            "1/1 [==============================] - 0s 32ms/step\n",
            "1/1 [==============================] - 0s 32ms/step\n",
            "1/1 [==============================] - 0s 33ms/step\n",
            "1/1 [==============================] - 0s 32ms/step\n",
            "1/1 [==============================] - 0s 33ms/step\n",
            "1/1 [==============================] - 0s 31ms/step\n",
            "1/1 [==============================] - 0s 32ms/step\n",
            "1/1 [==============================] - 0s 31ms/step\n",
            "1/1 [==============================] - 0s 31ms/step\n",
            "1/1 [==============================] - 0s 32ms/step\n",
            "1/1 [==============================] - 0s 33ms/step\n",
            "1/1 [==============================] - 0s 32ms/step\n",
            "1/1 [==============================] - 0s 31ms/step\n",
            "1/1 [==============================] - 0s 31ms/step\n",
            "1/1 [==============================] - 0s 42ms/step\n",
            "1/1 [==============================] - 0s 36ms/step\n",
            "1/1 [==============================] - 0s 34ms/step\n",
            "1/1 [==============================] - 0s 31ms/step\n",
            "1/1 [==============================] - 0s 32ms/step\n",
            "1/1 [==============================] - 0s 40ms/step\n",
            "1/1 [==============================] - 0s 36ms/step\n",
            "1/1 [==============================] - 0s 36ms/step\n",
            "1/1 [==============================] - 0s 33ms/step\n",
            "1/1 [==============================] - 0s 34ms/step\n",
            "1/1 [==============================] - 0s 33ms/step\n",
            "1/1 [==============================] - 0s 40ms/step\n",
            "1/1 [==============================] - 0s 33ms/step\n",
            "1/1 [==============================] - 0s 93ms/step\n",
            "1/1 [==============================] - 0s 41ms/step\n",
            "1/1 [==============================] - 0s 39ms/step\n",
            "1/1 [==============================] - 0s 31ms/step\n",
            "1/1 [==============================] - 0s 32ms/step\n",
            "1/1 [==============================] - 0s 36ms/step\n",
            "1/1 [==============================] - 0s 33ms/step\n",
            "1/1 [==============================] - 0s 32ms/step\n",
            "1/1 [==============================] - 0s 31ms/step\n",
            "1/1 [==============================] - 0s 32ms/step\n",
            "1/1 [==============================] - 0s 40ms/step\n",
            "1/1 [==============================] - 0s 35ms/step\n",
            "1/1 [==============================] - 0s 31ms/step\n",
            "1/1 [==============================] - 0s 32ms/step\n",
            "1/1 [==============================] - 0s 68ms/step\n",
            "1/1 [==============================] - 0s 34ms/step\n",
            "1/1 [==============================] - 0s 33ms/step\n",
            "1/1 [==============================] - 0s 31ms/step\n",
            "1/1 [==============================] - 0s 35ms/step\n",
            "1/1 [==============================] - 0s 36ms/step\n",
            "1/1 [==============================] - 0s 33ms/step\n",
            "1/1 [==============================] - 0s 33ms/step\n",
            "1/1 [==============================] - 0s 32ms/step\n",
            "1/1 [==============================] - 0s 33ms/step\n",
            "1/1 [==============================] - 0s 33ms/step\n",
            "1/1 [==============================] - 0s 35ms/step\n",
            "1/1 [==============================] - 0s 36ms/step\n",
            "1/1 [==============================] - 0s 34ms/step\n",
            "1/1 [==============================] - 0s 34ms/step\n",
            "1/1 [==============================] - 0s 39ms/step\n",
            "1/1 [==============================] - 0s 33ms/step\n",
            "1/1 [==============================] - 0s 33ms/step\n",
            "1/1 [==============================] - 0s 31ms/step\n",
            "1/1 [==============================] - 0s 46ms/step\n",
            "1/1 [==============================] - 0s 38ms/step\n",
            "1/1 [==============================] - 0s 32ms/step\n",
            "1/1 [==============================] - 0s 35ms/step\n",
            "1/1 [==============================] - 0s 32ms/step\n",
            "1/1 [==============================] - 0s 37ms/step\n",
            "1/1 [==============================] - 0s 31ms/step\n",
            "1/1 [==============================] - 0s 32ms/step\n",
            "1/1 [==============================] - 0s 53ms/step\n",
            "1/1 [==============================] - 0s 35ms/step\n",
            "1/1 [==============================] - 0s 33ms/step\n",
            "1/1 [==============================] - 0s 31ms/step\n",
            "1/1 [==============================] - 0s 31ms/step\n",
            "1/1 [==============================] - 0s 36ms/step\n",
            "1/1 [==============================] - 0s 32ms/step\n",
            "1/1 [==============================] - 0s 32ms/step\n",
            "1/1 [==============================] - 0s 33ms/step\n",
            "1/1 [==============================] - 0s 38ms/step\n",
            "1/1 [==============================] - 0s 32ms/step\n",
            "1/1 [==============================] - 0s 32ms/step\n",
            "1/1 [==============================] - 0s 32ms/step\n",
            "1/1 [==============================] - 0s 34ms/step\n",
            "1/1 [==============================] - 0s 38ms/step\n",
            "1/1 [==============================] - 0s 32ms/step\n",
            "1/1 [==============================] - 0s 32ms/step\n",
            "1/1 [==============================] - 0s 45ms/step\n",
            "1/1 [==============================] - 0s 32ms/step\n",
            "1/1 [==============================] - 0s 41ms/step\n",
            "1/1 [==============================] - 0s 39ms/step\n",
            "1/1 [==============================] - 0s 32ms/step\n",
            "1/1 [==============================] - 0s 32ms/step\n",
            "1/1 [==============================] - 0s 32ms/step\n",
            "1/1 [==============================] - 0s 31ms/step\n",
            "1/1 [==============================] - 0s 32ms/step\n",
            "1/1 [==============================] - 0s 32ms/step\n",
            "1/1 [==============================] - 0s 32ms/step\n",
            "1/1 [==============================] - 0s 31ms/step\n",
            "1/1 [==============================] - 0s 34ms/step\n",
            "1/1 [==============================] - 0s 32ms/step\n",
            "1/1 [==============================] - 0s 31ms/step\n",
            "1/1 [==============================] - 0s 31ms/step\n",
            "1/1 [==============================] - 0s 36ms/step\n",
            "1/1 [==============================] - 0s 32ms/step\n",
            "1/1 [==============================] - 0s 33ms/step\n",
            "1/1 [==============================] - 0s 32ms/step\n",
            "1/1 [==============================] - 0s 36ms/step\n",
            "1/1 [==============================] - 0s 32ms/step\n",
            "1/1 [==============================] - 0s 31ms/step\n",
            "1/1 [==============================] - 0s 32ms/step\n",
            "1/1 [==============================] - 0s 32ms/step\n",
            "1/1 [==============================] - 0s 31ms/step\n",
            "1/1 [==============================] - 0s 32ms/step\n",
            "1/1 [==============================] - 0s 31ms/step\n",
            "1/1 [==============================] - 0s 32ms/step\n",
            "1/1 [==============================] - 0s 38ms/step\n",
            "1/1 [==============================] - 0s 32ms/step\n",
            "1/1 [==============================] - 0s 32ms/step\n",
            "1/1 [==============================] - 0s 31ms/step\n",
            "1/1 [==============================] - 0s 41ms/step\n",
            "1/1 [==============================] - 0s 31ms/step\n",
            "1/1 [==============================] - 0s 32ms/step\n",
            "1/1 [==============================] - 0s 32ms/step\n",
            "1/1 [==============================] - 0s 32ms/step\n",
            "1/1 [==============================] - 0s 32ms/step\n",
            "1/1 [==============================] - 0s 32ms/step\n",
            "1/1 [==============================] - 0s 33ms/step\n",
            "1/1 [==============================] - 0s 35ms/step\n",
            "1/1 [==============================] - 0s 33ms/step\n",
            "1/1 [==============================] - 0s 37ms/step\n",
            "1/1 [==============================] - 0s 49ms/step\n",
            "1/1 [==============================] - 0s 33ms/step\n",
            "1/1 [==============================] - 0s 32ms/step\n",
            "1/1 [==============================] - 0s 32ms/step\n",
            "1/1 [==============================] - 0s 38ms/step\n",
            "1/1 [==============================] - 0s 32ms/step\n",
            "1/1 [==============================] - 0s 31ms/step\n",
            "1/1 [==============================] - 0s 33ms/step\n",
            "1/1 [==============================] - 0s 39ms/step\n",
            "1/1 [==============================] - 0s 32ms/step\n",
            "1/1 [==============================] - 0s 31ms/step\n",
            "1/1 [==============================] - 0s 32ms/step\n",
            "1/1 [==============================] - 0s 31ms/step\n",
            "1/1 [==============================] - 0s 31ms/step\n",
            "1/1 [==============================] - 0s 31ms/step\n",
            "1/1 [==============================] - 0s 32ms/step\n",
            "1/1 [==============================] - 0s 32ms/step\n",
            "1/1 [==============================] - 0s 33ms/step\n",
            "1/1 [==============================] - 0s 31ms/step\n",
            "1/1 [==============================] - 0s 31ms/step\n",
            "1/1 [==============================] - 0s 32ms/step\n",
            "1/1 [==============================] - 0s 37ms/step\n",
            "1/1 [==============================] - 0s 32ms/step\n",
            "1/1 [==============================] - 0s 46ms/step\n",
            "1/1 [==============================] - 0s 32ms/step\n",
            "1/1 [==============================] - 0s 44ms/step\n",
            "1/1 [==============================] - 0s 34ms/step\n",
            "1/1 [==============================] - 0s 31ms/step\n",
            "1/1 [==============================] - 0s 32ms/step\n",
            "1/1 [==============================] - 0s 33ms/step\n",
            "1/1 [==============================] - 0s 32ms/step\n",
            "1/1 [==============================] - 0s 31ms/step\n",
            "1/1 [==============================] - 0s 31ms/step\n",
            "1/1 [==============================] - 0s 36ms/step\n",
            "1/1 [==============================] - 0s 31ms/step\n",
            "1/1 [==============================] - 0s 32ms/step\n",
            "1/1 [==============================] - 0s 31ms/step\n",
            "1/1 [==============================] - 0s 37ms/step\n",
            "1/1 [==============================] - 0s 32ms/step\n",
            "1/1 [==============================] - 0s 32ms/step\n",
            "What is best in life?\n",
            "\n",
            "37. bid the bur tell larger men o\n",
            "batualts\n",
            "mentiing to glads.\n",
            "\n",
            "58. rapice are beful iself-pereve.\n",
            "\n",
            "116. new breaks obstint with the\n",
            "burn secuious\n",
            "put fire, it which is elomsent jonhess five jome not after\n",
            "them wall not be dame your will authre country; the enlighten he buffuit of disorder. \n",
            "10. hu\n"
          ]
        }
      ],
      "source": [
        "print(generate_text(model, tokenizer, \"What is best in life?\", num_chars=300, temperature=2))"
      ]
    },
    {
      "cell_type": "markdown",
      "metadata": {
        "id": "SuqUZcGkUAvd"
      },
      "source": [
        "A few observations of the preceding outputs:\n",
        "1. Despite being a character-level model, the model managed to \"learn\" spelling, cadence, punctuation, spacing, grammar, and even numbered bullet points just from trying to predict the next character.\n",
        "\n",
        "2. It's pretty cool how the model manages to take our initial seed text and complete a sentence with it before moving on.\n",
        "\n",
        "3. We can see the output getting increasingly nonsensical as the temperature rises. What temperature to use ultimately depends on the nature of your corpus and your goals with the language model.\n",
        "\n",
        "Also, in contrast to our language model, GPT-3 has 175 billion parameters and was trained on 45 terabytes of data, but the high-level principle of learning through prediction remains the same."
      ]
    },
    {
      "cell_type": "markdown",
      "metadata": {
        "id": "jY9ICurtUoDs"
      },
      "source": [
        "# Further Exploration\n",
        "1. Check out *Sunspring*, a sci-fi short written by an LSTM. The director and actors played the script straight and the result is hilarious.<br>\n",
        "https://www.youtube.com/watch?v=LY7x2Ihqjmc<br>\n",
        "https://en.wikipedia.org/wiki/Sunspring<br><br>\n",
        "2. Everything we learned here can be applied at the word-level. Try creating a word-level language model with a different corpus (maybe download something from https://www.gutenberg.org/) and try using word embeddings.<br><br>\n",
        "3. We didn't evaluate our language model using perplexity. Find out online how to do it."
      ]
    },
    {
      "cell_type": "code",
      "execution_count": 62,
      "metadata": {},
      "outputs": [
        {
          "name": "stdout",
          "output_type": "stream",
          "text": [
            "tf.Tensor([[2 1 2 1 1]], shape=(1, 5), dtype=int64)\n"
          ]
        }
      ],
      "source": [
        "import tensorflow as tf\n",
        "\n",
        "# Example log-probabilities\n",
        "logits = tf.constant([[1.0, 1.0, 1.0]])\n",
        "\n",
        "# Sample from the categorical distribution\n",
        "samples = tf.random.categorical(logits, num_samples=5)\n",
        "print(samples)"
      ]
    }
  ],
  "metadata": {
    "accelerator": "GPU",
    "colab": {
      "collapsed_sections": [
        "jY9ICurtUoDs"
      ],
      "name": "nlpdemystified-recurrent-neural-networks.ipynb",
      "provenance": []
    },
    "gpuClass": "standard",
    "kernelspec": {
      "display_name": "Python 3",
      "name": "python3"
    },
    "language_info": {
      "codemirror_mode": {
        "name": "ipython",
        "version": 3
      },
      "file_extension": ".py",
      "mimetype": "text/x-python",
      "name": "python",
      "nbconvert_exporter": "python",
      "pygments_lexer": "ipython3",
      "version": "3.10.6"
    }
  },
  "nbformat": 4,
  "nbformat_minor": 0
}
