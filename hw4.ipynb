{
  "nbformat": 4,
  "nbformat_minor": 0,
  "metadata": {
    "colab": {
      "provenance": [],
      "collapsed_sections": []
    },
    "kernelspec": {
      "name": "python3",
      "display_name": "Python 3"
    },
    "language_info": {
      "name": "python"
    },
    "accelerator": "GPU"
  },
  "cells": [
    {
      "cell_type": "markdown",
      "source": [
        "# CIS 5300 Fall 2022 - Homework 4 | Semantic Parsing with Encoder-Decoder Models"
      ],
      "metadata": {
        "id": "42QVgkHVVk6z"
      }
    },
    {
      "cell_type": "markdown",
      "source": [
        "#Introduction\n",
        "\n",
        "In this homework, you are going to implement a Seq2Seq model for semantic parsing. We will be converting natural language sentences into queries we can execute against a knowledgebase. To start you off, we've provided you code that set up your environment. First, run a nearest neighbor baseline that we provided to understand how the process looks like. Then you will need to implement your own Seq2Seq model and evalute on it.\n",
        "\n",
        "You should NOT change the class names, as parts of the code we are providing to simplify the developement depends on it. For each class, some initalization of parameters and the starter code are alreay provided, so you can simply fill in the code between `### BEGIN OF FILL-IN ###` and `### END OF FILL-IN ###` to complete this assignment. However, feel free to change the starter code and even the initalization of parameters if you prefer this way. In the end, you will only be evaluated on the quality of your outputs: as long as your model reaches the target performance levels, using Seq2Seq models, you will get full credit, regardless of implementation details."
      ],
      "metadata": {
        "id": "0E7AjHHPGHpn"
      }
    },
    {
      "cell_type": "markdown",
      "source": [
        "# Preperation\n",
        "\n",
        "You should select the device (CPU vs GPU) in Colab. The whole homework is runable by CPU within a reasonable time (about 8 minutes), but GPU can speed up the model implementation more (about 2 minutes).\n",
        "\n",
        "Here, we provided the command line code to download the starter code from GitHub repo. You may also want to go through some other .py files in this project as some of the functions and classes are imported and used here, especially the *evaluate()* function from *lf_evaluator.py* and *Example()*, *Derivation()*, *load_datasets()* and some other functions from *data.py*. After you run the cell to clone the repo, you will find the files on the left-hand side in colab under Files, or https://github.com/realliyifei/cis5300-semantic-parsing."
      ],
      "metadata": {
        "id": "YxbGqE4AQtkQ"
      }
    },
    {
      "cell_type": "markdown",
      "source": [
        "#Setting up\n",
        "\n",
        "The following few sections will help you set up java (needed for eval) and some other helper code and packages that may help you throughout this assignment. Please do not change them and run them first."
      ],
      "metadata": {
        "id": "HxOVg9gUrKx8"
      }
    },
    {
      "cell_type": "code",
      "source": [
        "#@title Set-up Java\n",
        "import os       #importing os to set environment variable\n",
        "def install_java():\n",
        "#   !apt update\n",
        "  !apt-get install -y openjdk-8-jdk-headless -qq > /dev/null      #install openjdk\n",
        "  os.environ[\"JAVA_HOME\"] = \"/usr/lib/jvm/java-8-openjdk-amd64\"     #set environment variable\n",
        "  !java -version       #check java version\n",
        "install_java()"
      ],
      "metadata": {
        "colab": {
          "base_uri": "https://localhost:8080/"
        },
        "id": "FIBy8NAw2Ym5",
        "outputId": "ea7aca29-fb29-4d6c-d71c-d7f5e67caf70"
      },
      "execution_count": null,
      "outputs": [
        {
          "output_type": "stream",
          "name": "stdout",
          "text": [
            "openjdk version \"11.0.16\" 2022-07-19\n",
            "OpenJDK Runtime Environment (build 11.0.16+8-post-Ubuntu-0ubuntu118.04)\n",
            "OpenJDK 64-Bit Server VM (build 11.0.16+8-post-Ubuntu-0ubuntu118.04, mixed mode, sharing)\n"
          ]
        }
      ]
    },
    {
      "cell_type": "code",
      "source": [
        "!git clone https://github.com/realliyifei/cis5300-semantic-parsing\n",
        "%cd cis5300-semantic-parsing\n",
        "!chmod a+x evaluator/geoquery # Solve permission issue on the `geoquery` file"
      ],
      "metadata": {
        "colab": {
          "base_uri": "https://localhost:8080/"
        },
        "id": "1d3UfyWuWyG2",
        "outputId": "e8a53d00-87d7-4089-9540-73c5a440288d"
      },
      "execution_count": null,
      "outputs": [
        {
          "output_type": "stream",
          "name": "stdout",
          "text": [
            "Cloning into 'cis5300-semantic-parsing'...\n",
            "remote: Enumerating objects: 52, done.\u001b[K\n",
            "remote: Counting objects: 100% (52/52), done.\u001b[K\n",
            "remote: Compressing objects: 100% (44/44), done.\u001b[K\n",
            "remote: Total 52 (delta 6), reused 52 (delta 6), pack-reused 0\u001b[K\n",
            "Unpacking objects: 100% (52/52), done.\n",
            "/content/cis5300-semantic-parsing\n"
          ]
        }
      ]
    },
    {
      "cell_type": "code",
      "source": [
        "import argparse\n",
        "import random\n",
        "import numpy as np\n",
        "from typing import List\n",
        "from tqdm.notebook import tqdm\n",
        "# import times\n",
        "\n",
        "import torch\n",
        "import torch.nn as nn\n",
        "import torch.nn.functional as F\n",
        "from torch.autograd import Variable as Var\n",
        "from torch import optim\n",
        "\n",
        "# Import from starter code\n",
        "from utils import *\n",
        "from data import *\n",
        "from lf_evaluator import *"
      ],
      "metadata": {
        "id": "O3u4lYmAhQok"
      },
      "execution_count": null,
      "outputs": []
    },
    {
      "cell_type": "markdown",
      "source": [
        "## Argument Parser\n",
        "\n",
        "Here we start you off with some common arguments that you may need for this homework. Feel free to extend it and include whatever arguments you feel needed for your model later!"
      ],
      "metadata": {
        "id": "3WuVG_IsQ9DP"
      }
    },
    {
      "cell_type": "code",
      "source": [
        "def add_models_args(parser):\n",
        "    \"\"\"\n",
        "    Command-line arguments to the system related to your model.  Feel free to extend here.  \n",
        "    \"\"\"\n",
        "    # Set device\n",
        "    device = torch.device(\"cuda:0\") if torch.cuda.is_available() else torch.device(\"cpu\")\n",
        "    parser.add_argument('--device', type=str, default=device, help='set device')\n",
        "\n",
        "    # Some common arguments for your convenience\n",
        "    parser.add_argument('--seed', type=int, default=0, help='RNG seed (default = 0)')\n",
        "    parser.add_argument('--epochs', type=int, default=10, help='num epochs to train for')\n",
        "    parser.add_argument('--lr', type=float, default=1e-3)\n",
        "    parser.add_argument('--batch_size', type=int, default=2, help='batch size')\n",
        "\n",
        "    # 65 is all you need for GeoQuery\n",
        "    parser.add_argument('--decoder_len_limit', type=int, default=65, help='output length limit of the decoder')\n",
        "\n",
        "    ### BEGIN OF FILL-IN ###\n",
        "    # Feel free to add other hyperparameters for your input dimension, etc. to control your network\n",
        "    # 50-200 might be a good range to start with for embedding and LSTM sizes\n",
        "\n",
        "\n",
        "    \n",
        "    ### END OF FILL-IN ###\n"
      ],
      "metadata": {
        "id": "_WKOSSyUn7aS"
      },
      "execution_count": null,
      "outputs": []
    },
    {
      "cell_type": "markdown",
      "source": [
        "# Baseline"
      ],
      "metadata": {
        "id": "kSGZ9cNioNVN"
      }
    },
    {
      "cell_type": "markdown",
      "source": [
        "## Nearest Neighbor Baseline\n",
        "\n",
        "This is a baseline implementation of a nearest neighbor model that we provided for you. It returns the query of the training string that has the highest token overlap with a test string. We also provided you some code for you to run this model. You can run the following sections here and see how well it does to verify your setup and get some insights of how to run and evaluate your own model later on. It should get about 24/120 denotation accuracy."
      ],
      "metadata": {
        "id": "kwTvXbgnn-I2"
      }
    },
    {
      "cell_type": "markdown",
      "source": [
        "##Nearest Neighbor Model Implementation\n"
      ],
      "metadata": {
        "id": "Cow7Qq77tp76"
      }
    },
    {
      "cell_type": "code",
      "source": [
        "class NearestNeighborSemanticParser(object):\n",
        "    \"\"\"\n",
        "    Semantic parser that uses Jaccard similarity to find the most similar input example to a particular question and\n",
        "    returns the associated logical form.\n",
        "    \"\"\"\n",
        "    def __init__(self, training_data: List[Example]):\n",
        "        self.training_data = training_data\n",
        "\n",
        "    def decode(self, test_data: List[Example]) -> List[List[Derivation]]:\n",
        "        \"\"\"\n",
        "        :param test_data: List[Example] to decode\n",
        "        :return: A list of k-best lists of Derivations. A Derivation consists of the underlying Example, a probability,\n",
        "        and a tokenized input string. If you're just doing one-best decoding of example ex and you\n",
        "        produce output y_tok, you can just return the k-best list [Derivation(ex, 1.0, y_tok)]\n",
        "        \"\"\"\n",
        "        test_derivs = []\n",
        "        for test_ex in test_data:\n",
        "            test_words = test_ex.x_tok\n",
        "            best_jaccard = -1\n",
        "            best_train_ex = None\n",
        "            # Find the highest word overlap with the train data\n",
        "            for train_ex in self.training_data:\n",
        "                # Compute word overlap with Jaccard similarity\n",
        "                train_words = train_ex.x_tok\n",
        "                overlap = len(frozenset(train_words) & frozenset(test_words))\n",
        "                jaccard = overlap/float(len(frozenset(train_words) | frozenset(test_words)))\n",
        "                if jaccard > best_jaccard:\n",
        "                    best_jaccard = jaccard\n",
        "                    best_train_ex = train_ex\n",
        "            # Note that this is a list of a single Derivation\n",
        "            test_derivs.append([Derivation(test_ex, 1.0, best_train_ex.y_tok)])\n",
        "        return test_derivs"
      ],
      "metadata": {
        "id": "hdGc2IoIn7JO"
      },
      "execution_count": null,
      "outputs": []
    },
    {
      "cell_type": "markdown",
      "source": [
        "##Nearest Neighbor Runner Code\n",
        "\n",
        "The following section includes code that help you run the nearest neighbor model. This could be a good template for you to run your model as well. Notice that here the _parse_args() function calls the add_models_args() above. So you can extend the add_models_args() function as before to include any arguments you may want. Another thing to notice here is that we set the argument do_nearest_neighbor=True to run this nearest neighbor experiment, and you may want to set it to False to run your own model."
      ],
      "metadata": {
        "id": "U6zt9q0Ct9LS"
      }
    },
    {
      "cell_type": "code",
      "source": [
        "def _parse_args():\n",
        "    \"\"\"\n",
        "    Command-line arguments to the system. --model switches between the main modes you'll need to use. The other arguments\n",
        "    are provided for convenience.\n",
        "    :return: the parsed args bundle\n",
        "    \"\"\"\n",
        "    parser = argparse.ArgumentParser(description='main.py')\n",
        "    \n",
        "    # General system running and configuration options\n",
        "    parser.add_argument('--do_nearest_neighbor', dest='do_nearest_neighbor', default=False, action='store_true', help='run the nearest neighbor model')\n",
        "\n",
        "    parser.add_argument('--train_path', type=str, default='data/geo_train.tsv', help='path to train data')\n",
        "    parser.add_argument('--dev_path', type=str, default='data/geo_dev.tsv', help='path to dev data')\n",
        "    parser.add_argument('--test_path', type=str, default='data/geo_test.tsv', help='path to blind test data')\n",
        "    parser.add_argument('--test_output_path', type=str, default='test_output.tsv', help='path to write blind test results')\n",
        "    parser.add_argument('--domain', type=str, default='geo', help='domain (geo for geoquery)')\n",
        "    parser.add_argument('--no_java_eval', dest='perform_java_eval', default=True, action='store_false', help='run evaluation of constructed query against java backend')\n",
        "    parser.add_argument('--print_dataset', dest='print_dataset', default=False, action='store_true', help=\"Print some sample data on loading\")\n",
        "    add_models_args(parser) \n",
        "\n",
        "    args = parser.parse_args(\"\")\n",
        "    return args\n",
        "\n",
        "def main(args):\n",
        "    # Load the training and test data \n",
        "    train, dev, test = load_datasets(args.train_path, args.dev_path, args.test_path, domain=args.domain)\n",
        "    train_data_indexed, dev_data_indexed, test_data_indexed, input_indexer, output_indexer = index_datasets(train, dev, test, args.decoder_len_limit)\n",
        "    print(\"%i train exs, %i dev exs, %i input types, %i output types\" % (len(train_data_indexed), len(dev_data_indexed), len(input_indexer), len(output_indexer)))\n",
        "    if args.print_dataset:\n",
        "        print(\"Input indexer: %s\" % input_indexer)\n",
        "        print(\"Output indexer: %s\" % output_indexer)\n",
        "        print(\"Here are some examples post tokenization and indexing:\")\n",
        "        for i in range(0, min(len(train_data_indexed), 10)):\n",
        "            print(train_data_indexed[i])\n",
        "    if args.do_nearest_neighbor:\n",
        "        decoder = NearestNeighborSemanticParser(train_data_indexed)\n",
        "    else:\n",
        "        decoder = train_model_encdec(train_data_indexed, dev_data_indexed, input_indexer, output_indexer, args)\n",
        "    print(\"=======DEV SET=======\")\n",
        "    evaluate(dev_data_indexed, decoder, use_java=args.perform_java_eval)\n",
        "    print(\"=======FINAL PRINTING ON BLIND TEST=======\")\n",
        "    evaluate(test_data_indexed, decoder, print_output=False, outfile=args.test_output_path, use_java=args.perform_java_eval)\n",
        "\n"
      ],
      "metadata": {
        "id": "3hkC7TBur1aw"
      },
      "execution_count": null,
      "outputs": []
    },
    {
      "cell_type": "code",
      "source": [
        "# Initalize arguments\n",
        "args = _parse_args()\n",
        "random.seed(args.seed)\n",
        "np.random.seed(args.seed)\n",
        "\n",
        "# Set arguments here\n",
        "args.do_nearest_neighbor = True \n",
        "\n",
        "main(args)"
      ],
      "metadata": {
        "id": "8La9V_oSURuq",
        "colab": {
          "base_uri": "https://localhost:8080/"
        },
        "outputId": "663f37e0-2464-401e-c87c-c46cb6664160"
      },
      "execution_count": null,
      "outputs": [
        {
          "output_type": "stream",
          "name": "stdout",
          "text": [
            "Loaded 480 exs from file data/geo_train.tsv\n",
            "Loaded 120 exs from file data/geo_dev.tsv\n",
            "Loaded 280 exs from file data/geo_test.tsv\n",
            "480 train exs, 120 dev exs, 238 input types, 153 output types\n",
            "=======DEV SET=======\n",
            "Example 49\n",
            "  x      = \"what is the longest river flowing through new york ?\"\n",
            "  y_tok  = \"['_answer', '(', 'NV', ',', '_longest', '(', 'V0', ',', '(', '_river', '(', 'V0', ')', ',', '_traverse', '(', 'V0', ',', 'NV', ')', ',', '_const', '(', 'V0', ',', '_stateid', '(', \"'\", 'new', 'york', \"'\", ')', ')', ')', ')', ')']\"\n",
            "  y_pred = \"['_answer', '(', 'NV', ',', '_longest', '(', 'V0', ',', '(', '_river', '(', 'V0', ')', ',', '_loc', '(', 'V0', ',', 'NV', ')', ',', '_const', '(', 'V0', ',', '_stateid', '(', \"'\", 'new', 'york', \"'\", ')', ')', ')', ')', ')']\"\n",
            "Example 99\n",
            "  x      = \"what is the lowest point in california ?\"\n",
            "  y_tok  = \"['_answer', '(', 'NV', ',', '_lowest', '(', 'V0', ',', '(', '_place', '(', 'V0', ')', ',', '_loc', '(', 'V0', ',', 'NV', ')', ',', '_const', '(', 'V0', ',', '_stateid', '(', 'california', ')', ')', ')', ')', ')']\"\n",
            "  y_pred = \"['_answer', '(', 'NV', ',', '_lowest', '(', 'V0', ',', '(', '_place', '(', 'V0', ')', ',', '_loc', '(', 'V0', ',', 'NV', ')', ',', '_const', '(', 'V0', ',', '_stateid', '(', 'wisconsin', ')', ')', ')', ')', ')']\"\n",
            "Exact logical form matches: 15 / 120 = 0.125\n",
            "Token-level accuracy: 2722 / 3908 = 0.697\n",
            "Denotation matches: 24 / 120 = 0.200\n",
            "=======FINAL PRINTING ON BLIND TEST=======\n"
          ]
        }
      ]
    },
    {
      "cell_type": "markdown",
      "source": [
        "# Advanced Model(s)"
      ],
      "metadata": {
        "id": "yR66_KQFoZiH"
      }
    },
    {
      "cell_type": "markdown",
      "source": [
        "## Seq2Seq Parser\n",
        "\n",
        "Now you need to implement your own Seq2Seq model. There are some sections that we provided you as well to simplify things, but you should generally feel free to implement an encoder-decoder model as you wish! Specific descriptions of what each part does in this notebook can be found in the handout. A useful pytorch and Seq2Seq tutorial can also be found here:\n",
        "[tutorial](https://pytorch.org/tutorials/intermediate/seq2seq_translation_tutorial.html)"
      ],
      "metadata": {
        "id": "RIdP1tlOoBU9"
      }
    },
    {
      "cell_type": "markdown",
      "source": [
        "## Embedding layer\n",
        "We provided you this implementation of embedding layer using nn.module. It is very similar to what we asked you to implement in HW3 that maps words to embeddings."
      ],
      "metadata": {
        "id": "zSegg6g0nCp0"
      }
    },
    {
      "cell_type": "code",
      "source": [
        "class EmbeddingLayer(nn.Module):\n",
        "    \"\"\"\n",
        "    Embedding layer that has a lookup table of symbols that is [full_dict_size x input_dim]. Includes dropout.\n",
        "    Works for both non-batched and batched inputs\n",
        "    \"\"\"\n",
        "    def __init__(self, input_dim: int, full_dict_size: int, embedding_dropout_rate: float):\n",
        "        \"\"\"\n",
        "        :param input_dim: dimensionality of the word vectors\n",
        "        :param full_dict_size: number of words in the vocabulary\n",
        "        :param embedding_dropout_rate: dropout rate to apply\n",
        "        \"\"\"\n",
        "        super(EmbeddingLayer, self).__init__()\n",
        "        self.dropout = nn.Dropout(embedding_dropout_rate)\n",
        "        self.word_embedding = nn.Embedding(full_dict_size, input_dim)\n",
        "\n",
        "    def forward(self, input):\n",
        "        \"\"\"\n",
        "        :param input: either a non-batched input [sent len x voc size] or a batched input\n",
        "        [batch size x sent len x voc size]\n",
        "        :return: embedded form of the input words (last coordinate replaced by input_dim)\n",
        "        \"\"\"\n",
        "        embedded_words = self.word_embedding(input)\n",
        "        final_embeddings = self.dropout(embedded_words)\n",
        "        return final_embeddings\n"
      ],
      "metadata": {
        "id": "cczHBOEam7eh"
      },
      "execution_count": null,
      "outputs": []
    },
    {
      "cell_type": "markdown",
      "source": [
        "## Encoder\n",
        "This is a RNN encoder model. This is a vetted implementation of an LSTM that is provided for your convenience; however, if you want to use a different encoder or build something yourself, you should feel free! Note that this implementation does not use GloVe embeddings, but you're free to use them if you want; you just need to modify the embedding layer. Note that updating embeddings during training is very important for good performance."
      ],
      "metadata": {
        "id": "-Y-3DlNDp1fS"
      }
    },
    {
      "cell_type": "code",
      "source": [
        "class RNNEncoder(nn.Module):\n",
        "    \"\"\"\n",
        "    One-layer RNN encoder for batched inputs -- handles multiple sentences at once. To use in non-batched mode, call it\n",
        "    with a leading dimension of 1 (i.e., use batch size 1)\n",
        "    \"\"\"\n",
        "    def __init__(self, input_emb_dim: int, hidden_size: int, bidirect: bool):\n",
        "        \"\"\"\n",
        "        :param input_emb_dim: size of word embeddings output by embedding layer\n",
        "        :param hidden_size: hidden size for the LSTM\n",
        "        :param bidirect: True if bidirectional, false otherwise\n",
        "        \"\"\"\n",
        "        super(RNNEncoder, self).__init__()\n",
        "        self.bidirect = bidirect\n",
        "        self.hidden_size = hidden_size\n",
        "        self.reduce_h_W = nn.Linear(hidden_size * 2, hidden_size, bias=True)\n",
        "        self.reduce_c_W = nn.Linear(hidden_size * 2, hidden_size, bias=True)\n",
        "        self.rnn = nn.LSTM(input_emb_dim, hidden_size, num_layers=1, batch_first=True,\n",
        "                               dropout=0., bidirectional=self.bidirect)\n",
        "\n",
        "    def get_output_size(self):\n",
        "        return self.hidden_size * 2 if self.bidirect else self.hidden_size\n",
        "\n",
        "    def sent_lens_to_mask(self, lens, max_length):\n",
        "        return torch.from_numpy(np.asarray([[1 if j < lens.data[i].item() else 0 for j in range(0, max_length)] for i in range(0, lens.shape[0])]))\n",
        "\n",
        "    def forward(self, embedded_words, input_lens):\n",
        "        \"\"\"\n",
        "        Runs the forward pass of the LSTM\n",
        "        :param embedded_words: [batch size x sent len x input dim] tensor\n",
        "        :param input_lens: [batch size]-length vector containing the length of each input sentence\n",
        "        :return: output (each word's representation), context_mask (a mask of 0s and 1s\n",
        "        reflecting where the model's output should be considered), and h_t, a *tuple* containing\n",
        "        the final states h and c from the encoder for each sentence.\n",
        "        Note that output is only needed for attention, and context_mask is only used for batched attention.\n",
        "        \"\"\"\n",
        "        # Takes the embedded sentences, \"packs\" them into an efficient Pytorch-internal representation\n",
        "        packed_embedding = nn.utils.rnn.pack_padded_sequence(embedded_words, input_lens.cpu(), batch_first=True, enforce_sorted=False)\n",
        "        # Runs the RNN over each sequence. Returns output at each position as well as the last vectors of the RNN\n",
        "        # state for each sentence (first/last vectors for bidirectional)\n",
        "        output, hn = self.rnn(packed_embedding)\n",
        "        # Unpacks the Pytorch representation into normal tensors\n",
        "        output, sent_lens = nn.utils.rnn.pad_packed_sequence(output)\n",
        "        max_length = max(input_lens.data).item()\n",
        "        context_mask = self.sent_lens_to_mask(sent_lens, max_length)\n",
        "\n",
        "        if self.bidirect:\n",
        "            h, c = hn[0], hn[1]\n",
        "            # Grab the representations from forward and backward LSTMs\n",
        "            h_, c_ = torch.cat((h[0], h[1]), dim=1), torch.cat((c[0], c[1]), dim=1)\n",
        "            # Reduce them by multiplying by a weight matrix so that the hidden size sent to the decoder is the same\n",
        "            # as the hidden size in the encoder\n",
        "            new_h = self.reduce_h_W(h_)\n",
        "            new_c = self.reduce_c_W(c_)\n",
        "            h_t = (new_h, new_c)\n",
        "        else:\n",
        "            h, c = hn[0][0], hn[1][0]\n",
        "            h_t = (h, c)\n",
        "        return (output, context_mask, h_t)\n"
      ],
      "metadata": {
        "id": "7Ivc-nOdm9y_"
      },
      "execution_count": null,
      "outputs": []
    },
    {
      "cell_type": "markdown",
      "source": [
        "## Decoder\n",
        "\n",
        "This is the decoder part of your encoder-decoder model that you need to finish implementing. Recall that at each step of decoding, a basic decoder is given an embedded input and last hidden states from the encoder. \n",
        "\n",
        "Here, the *embedded_input* parameter of the forward() function is the embedded input. The parameter *state* is a tuple of (h,c) from the encoder, representing the last hidden states and the context vector. *enc_output* is the encoder outputs of each word that you may need for attention, and *enc_context_mask* is the parameter you may need if you want to achieve batch attention.\n",
        "\n",
        "\n"
      ],
      "metadata": {
        "id": "tLj5wm_fqScb"
      }
    },
    {
      "cell_type": "code",
      "source": [
        "class RNNDecoder(nn.Module):\n",
        "    def __init__(self, input_size, hidden_size, encoder_output_size, output_dict_size, attention=False, attention_type='additive', rnn_type='lstm'):\n",
        "        \n",
        "        super(RNNDecoder, self).__init__()\n",
        "        self.n_layers = 1\n",
        "        self.input_size = input_size\n",
        "        self.hidden_size = hidden_size\n",
        "        self.encoder_output_size = encoder_output_size\n",
        "        self.attention = attention\n",
        "        self.attention_type = attention_type\n",
        "        self.rnn_type = rnn_type\n",
        "        \n",
        "        ### BEGIN OF FILL-IN ###\n",
        "        raise Exception(\"implement me!\")\n",
        "        \n",
        "\n",
        "        ### END OF FILL-IN ###\n",
        "\n",
        "    def forward(self, embedded_input, state, enc_output, enc_context_mask):\n",
        "        ### BEGIN OF FILL-IN ###\n",
        "        raise Exception(\"implement me!\")\n",
        "        \n",
        "\n",
        "\n",
        "        ### End OF FILL-IN ###\n",
        "        \n",
        "        return log_probs, hidden\n"
      ],
      "metadata": {
        "id": "4DQ939hhm2-c"
      },
      "execution_count": null,
      "outputs": []
    },
    {
      "cell_type": "markdown",
      "source": [
        "## Helper functions\n",
        "Here are some helper functions that you may find useful in transforming your input and output data."
      ],
      "metadata": {
        "id": "a9EGxPSVPDYc"
      }
    },
    {
      "cell_type": "code",
      "source": [
        "def make_padded_input_tensor(exs: List[Example], input_indexer: Indexer, max_len: int, reverse_input=False) -> np.ndarray:\n",
        "    \"\"\"\n",
        "    Takes the given Examples and their input indexer and turns them into a numpy array by padding them out to max_len.\n",
        "    Optionally reverses them.\n",
        "    :param exs: examples to tensor-ify\n",
        "    :param input_indexer: Indexer over input symbols; needed to get the index of the pad symbol\n",
        "    :param max_len: max input len to use (pad/truncate to this length)\n",
        "    :param reverse_input: True if we should reverse the inputs (useful if doing a unidirectional LSTM encoder)\n",
        "    :return: A [num example, max_len]-size array of indices of the input tokens\n",
        "    \"\"\"\n",
        "    if reverse_input:\n",
        "        return np.array(\n",
        "            [[ex.x_indexed[len(ex.x_indexed) - 1 - i] if i < len(ex.x_indexed) else input_indexer.index_of(PAD_SYMBOL)\n",
        "              for i in range(0, max_len)]\n",
        "             for ex in exs])\n",
        "    else:\n",
        "        return np.array([[ex.x_indexed[i] if i < len(ex.x_indexed) else input_indexer.index_of(PAD_SYMBOL)\n",
        "                          for i in range(0, max_len)]\n",
        "                         for ex in exs])\n",
        "\n",
        "def make_padded_output_tensor(exs, output_indexer, max_len):\n",
        "    \"\"\"\n",
        "    Similar to make_padded_input_tensor, but does it on the outputs without the option to reverse input\n",
        "    :param exs:\n",
        "    :param output_indexer:\n",
        "    :param max_len:\n",
        "    :return: A [num example, max_len]-size array of indices of the output tokens\n",
        "    \"\"\"\n",
        "    return np.array([[ex.y_indexed[i] if i < len(ex.y_indexed) else output_indexer.index_of(PAD_SYMBOL) for i in range(0, max_len)] for ex in exs])"
      ],
      "metadata": {
        "id": "i1Jq2t6toVsm"
      },
      "execution_count": null,
      "outputs": []
    },
    {
      "cell_type": "markdown",
      "source": [
        "## Seq2Seq Parser\n",
        "This is the Seq2Seq module that integrates your encoder and decoder to make a full run. In your forward() function, you should pass the input to your encoder first, then pass the output of your encoder as well as your model input to your decoder, and compute and return the loss.\n",
        "\n",
        "You also need to implement the decode() function that takes input of your test data and return the predicted outputs. **Note that you should not need to call this function in your forward(), but you still need to implement it so that you can evaluate the result.** The evaluate() function from data.py will implicitly call it and evaluate using it."
      ],
      "metadata": {
        "id": "wFTLXilGnXiQ"
      }
    },
    {
      "cell_type": "code",
      "source": [
        "###################################################################################################################\n",
        "# Please fill in the code in all the specified spaces\n",
        "###################################################################################################################\n",
        "\n",
        "class Seq2SeqSemanticParser(nn.Module):\n",
        "    def __init__(self, input_indexer, output_indexer, emb_dim, hidden_size, embedding_dropout=0.2,\n",
        "                 bidirect=True, use_luong=True, attention=True, output_max_len=65, reverse_input=False):\n",
        "        # We've included some args for setting up the input embedding and encoder\n",
        "        # You'll need to add code for output embedding and decoder\n",
        "        super(Seq2SeqSemanticParser, self).__init__()\n",
        "        self.input_indexer = input_indexer\n",
        "        self.output_indexer = output_indexer\n",
        "        \n",
        "        self.input_emb = EmbeddingLayer(emb_dim, len(input_indexer), embedding_dropout)\n",
        "        self.encoder = RNNEncoder(emb_dim, hidden_size, bidirect)\n",
        "\n",
        "        ### BEGIN OF FILL-IN ###\n",
        "        raise Exception(\"implement me!\")\n",
        "\n",
        "\n",
        "       \n",
        "        ### END OF FILL-IN ###\n",
        "    \n",
        "    def forward(self, x_tensor, inp_lens_tensor, y_tensor, out_lens_tensor, args):\n",
        "        \"\"\"\n",
        "        :param x_tensor/y_tensor: either a non-batched input/output [sent len] vector of indices or a batched input/output\n",
        "        [batch size x sent len]. y_tensor contains the gold sequence(s) used for training\n",
        "        :param inp_lens_tensor/out_lens_tensor: either a vector of input/output length [batch size] or a single integer.\n",
        "        lengths aren't needed if you don't batchify the training.\n",
        "        :return: loss of the batch\n",
        "        \"\"\"\n",
        "        ### BEGIN OF FILL-IN ###\n",
        "        raise Exception(\"implement me!\")\n",
        "        \n",
        "\n",
        "\n",
        "\n",
        "        ### END OF FILL-IN ###\n",
        "\n",
        "    def decode(self, test_data: List[Example]) -> List[List[Derivation]]:\n",
        "\n",
        "        \"\"\"\n",
        "        :param test_data: input test data as List[Example]. You can find the definition of the class Example() in data.py\n",
        "        \n",
        "        :return: your predicted outputs as List[List[Derivation]]. You can find more descriptions of the class Derivation() in data.py\n",
        "        \"\"\"\n",
        "\n",
        "        ### BEGIN OF FILL-IN ###\n",
        "        raise Exception(\"implement me!\")\n",
        "\n",
        "\n",
        "        \n",
        "        ### END OF FILL-IN ###\n",
        "\n",
        "\n",
        "    def encode_input(self, x_tensor, inp_lens_tensor):\n",
        "        \"\"\"\n",
        "        Runs the encoder (input embedding layer and encoder as two separate modules) on a tensor of inputs x_tensor with\n",
        "        inp_lens_tensor lengths.\n",
        "        YOU DO NOT HAVE TO USE THIS FUNCTION. It's meant to illustrate the usage of EmbeddingLayer and RNNEncoder\n",
        "        as they're given to you, as well as show what kinds of inputs/outputs you need from your encoding phase.\n",
        "        :param x_tensor: [batch size, sent len] tensor of input token indices\n",
        "        :param inp_lens_tensor: [batch size] vector containing the length of each sentence in the batch\n",
        "        :param model_input_emb: EmbeddingLayer\n",
        "        :param model_enc: RNNEncoder\n",
        "        :return: the encoder outputs (per word), the encoder context mask (matrix of 1s and 0s reflecting which words\n",
        "        are real and which ones are pad tokens), and the encoder final states (h and c tuple). ONLY THE ENCODER FINAL\n",
        "        STATES are needed for the basic seq2seq model. enc_output_each_word is needed for attention, and\n",
        "        enc_context_mask is needed to batch attention.\n",
        "\n",
        "        E.g., calling this with x_tensor (0 is pad token):\n",
        "        [[12, 25, 0],\n",
        "        [1, 2, 3],\n",
        "        [2, 0, 0]]\n",
        "        inp_lens = [2, 3, 1]\n",
        "        will return outputs with the following shape:\n",
        "        enc_output_each_word = 3 x 3 x dim, enc_context_mask = [[1, 1, 0], [1, 1, 1], [1, 0, 0]],\n",
        "        enc_final_states = 3 x dim\n",
        "        \"\"\"\n",
        "        input_emb = self.input_emb.forward(x_tensor)\n",
        "        (enc_output_each_word, enc_context_mask, enc_final_states) = self.encoder.forward(input_emb, inp_lens_tensor)\n",
        "        enc_final_states_reshaped = (enc_final_states[0].unsqueeze(0), enc_final_states[1].unsqueeze(0))\n",
        "        return (enc_output_each_word, enc_context_mask, enc_final_states_reshaped)\n",
        "\n",
        "\n",
        "\n"
      ],
      "metadata": {
        "id": "2IlesFt8V3pf"
      },
      "execution_count": null,
      "outputs": []
    },
    {
      "cell_type": "markdown",
      "source": [
        "# Train\n",
        "\n",
        "This is your main training function. You may want to instantiate a Seq2SeqSemanticParser() model and an optimizer, train it over epochs, and evaluate on your dev_data after training."
      ],
      "metadata": {
        "id": "gdhXZgH7PVuH"
      }
    },
    {
      "cell_type": "code",
      "source": [
        "def train_model_encdec(train_data: List[Example], dev_data: List[Example], input_indexer, output_indexer, args) -> Seq2SeqSemanticParser:\n",
        "    \"\"\"\n",
        "    Function to train the encoder-decoder model on the given data.\n",
        "    :param train_data:\n",
        "    :param dev_data: Development set in case you wish to evaluate during training\n",
        "    :param input_indexer: Indexer of input symbols\n",
        "    :param output_indexer: Indexer of output symbols\n",
        "    :param args:\n",
        "    :return:\n",
        "    \"\"\"\n",
        "\n",
        "    # Create indexed input\n",
        "    input_max_len = np.max(np.asarray([len(ex.x_indexed) for ex in train_data]))\n",
        "    all_train_input_data = make_padded_input_tensor(train_data, input_indexer, input_max_len, reverse_input=args.reverse_input)\n",
        "    all_test_input_data = make_padded_input_tensor(dev_data, input_indexer, input_max_len, reverse_input=args.reverse_input)\n",
        "\n",
        "    output_max_len = np.max(np.asarray([len(ex.y_indexed) for ex in train_data]))\n",
        "    all_train_output_data = make_padded_output_tensor(train_data, output_indexer, output_max_len)\n",
        "    all_test_output_data = make_padded_output_tensor(dev_data, output_indexer, output_max_len)\n",
        "\n",
        "    if args.print_dataset:\n",
        "        print(\"Train length: %i\" % input_max_len)\n",
        "        print(\"Train output length: %i\" % np.max(np.asarray([len(ex.y_indexed) for ex in train_data])))\n",
        "        print(\"Train matrix: %s; shape = %s\" % (all_train_input_data, all_train_input_data.shape))\n",
        "\n",
        "    # First create a model. Then loop over epochs, loop over examples, and given some indexed words\n",
        "    # call your seq-to-seq model, accumulate losses, update parameters, \n",
        "    # Some started code is provided below, but you are NOT necessary to follow them\n",
        "    \n",
        "    ### BEGIN OF FILL-IN ###\n",
        "    raise Exception(\"Implement the rest of me to train your encoder-decoder model\")\n",
        "    #  # Create model\n",
        "    # model = None\n",
        "    # optimzer = None\n",
        "\n",
        "    # for t in tqdm(range(0, args.epochs)):\n",
        "    #     batch_order = [i for i in range(0, int(all_train_input_data.shape[0] / args.batch_size))]\n",
        "    #     random.shuffle(batch_order)\n",
        "    #     for batch_idx in batch_order:\n",
        "    #         exs_tensor = None\n",
        "    #         labels_tensor = None\n",
        "    #         assert labels_tensor.shape[1] == args.decoder_len_limit\n",
        "    #         inp_lens_tensor = None\n",
        "    #         output_lens_tensor = None\n",
        "    #         loss = None \n",
        "    #         # backpropagate the loss, etc. \n",
        "\n",
        "    #     # Evaluate the model for each epoch\n",
        "    \n",
        "    ### END OF FILL-IN ###\n",
        "\n",
        "    return model"
      ],
      "metadata": {
        "id": "vKmbdi4xoTrS"
      },
      "execution_count": null,
      "outputs": []
    },
    {
      "cell_type": "markdown",
      "source": [
        "# Now run your code!\n",
        "\n",
        "Now that you finished implementing your model, you can run your code just as you did for the nearest neighbor baseline! Make sure to include any arguments you would like in the *add_models_args()* function and set *do_nearest_neighbor=False*. Note that it takes roughly 8 minutes if you are running on CPU and 2 minutes if you are running on GPU. Besides, don't forget to use the *evaluate()* function to generate and save outputs for your test data and submit them to gradescope! You can do it in your *main()* function as well."
      ],
      "metadata": {
        "id": "G-dKTctjRQfE"
      }
    },
    {
      "cell_type": "code",
      "source": [
        "# Initalize arguments\n",
        "args = _parse_args()\n",
        "random.seed(args.seed)\n",
        "np.random.seed(args.seed)\n",
        "\n",
        "# Set arguments here\n",
        "args.do_nearest_neighbor = False \n",
        "\n",
        "main(args)"
      ],
      "metadata": {
        "id": "3ANVlhIkjD9_"
      },
      "execution_count": null,
      "outputs": []
    },
    {
      "cell_type": "markdown",
      "source": [
        "# Submission\n",
        "\n",
        "These are the files you have to submit to gradescope\n",
        "\n",
        "1. Report\n",
        "2. The prediction output of basic encoder-decoder and attention model as \"test_output.tsv\" (from the Files section of sidebar)"
      ],
      "metadata": {
        "id": "82oY2FwURdR-"
      }
    }
  ]
}